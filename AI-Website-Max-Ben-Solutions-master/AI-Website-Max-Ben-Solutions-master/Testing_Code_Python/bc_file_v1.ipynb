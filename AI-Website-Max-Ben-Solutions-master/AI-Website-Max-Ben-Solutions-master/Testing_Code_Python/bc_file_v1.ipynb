{
 "cells": [
  {
   "cell_type": "markdown",
   "metadata": {},
   "source": [
    "#### AI w/ Max:\n",
    "\n",
    "##### Develop fluid analysis and wrangling of data\n"
   ]
  },
  {
   "cell_type": "code",
   "execution_count": 18,
   "metadata": {},
   "outputs": [],
   "source": [
    "import pandas as pd\n",
    "import numpy as np\n",
    "import seaborn as sns\n",
    "import matplotlib.pyplot as plt\n",
    "from sklearn import preprocessing\n",
    "from sklearn.model_selection import train_test_split\n",
    "from sklearn.ensemble import RandomForestClassifier\n",
    "from sklearn.metrics import confusion_matrix, classification_report,accuracy_score\n",
    "from sklearn import metrics\n",
    "from sklearn.linear_model import LinearRegression\n",
    "from sklearn.linear_model import LogisticRegression\n",
    "from statsmodels.stats.outliers_influence import variance_inflation_factor\n",
    "from statsmodels.tools.tools import add_constant\n",
    "from sklearn.model_selection import cross_val_score\n",
    "from sklearn.model_selection import train_test_split\n",
    "from sklearn.linear_model import LinearRegression\n",
    "from matplotlib import pyplot\n",
    "from sklearn.ensemble import ExtraTreesClassifier\n"
   ]
  },
  {
   "cell_type": "code",
   "execution_count": 21,
   "metadata": {},
   "outputs": [],
   "source": [
    "#Max & Ben's Solutions\n",
    "\n",
    "#####BASIC STATS######\n",
    "\n",
    "def bs():\n",
    "\n",
    "    file_desired = str(input(\" Input xlsx or csv file name : \"))  # copy file's path and paste into this input\n",
    "\n",
    "    file_temp = file_desired\n",
    "    \n",
    "    if file_temp.endswith('.xlsx'):\n",
    "        data1 = pd.read_excel(file_temp)\n",
    "        result_ = (data1.describe())\n",
    "    elif file_temp.endswith('.csv'):\n",
    "        data2 = pd.read_csv(file_temp)\n",
    "        result_ = (data2.describe())            \n",
    "    else:\n",
    "        print(\"Invalid response.\")\n",
    "\n",
    "    print(\" \")\n",
    "    print(\" \")\n",
    "    print(\"preview of data: \" + \"\\n\" + str(result_))\n",
    "    \n",
    "    \n",
    "    next_step_ = str(input(\" would you like to print out results onto a xlsx file or csv file? \"))\n",
    "\n",
    "    if next_step_ == \"xlsx\":\n",
    "        newresult_ = result_.to_excel(\"maxben1.xlsx\", engine = 'xlsxwriter')\n",
    "        typeData_ = '.xlsx'\n",
    "    elif next_step_ == \"csv\":\n",
    "        newresult_ = result_.to_csv(\"maxben1.csv\")\n",
    "        typeData_ = '.csv'\n",
    "    else:\n",
    "        print(\"Invalid response.\")\n",
    "\n",
    "    print(\" \")\n",
    "    print(\" \")\n",
    "    print(\"Here you go, the file has been converted to : \", typeData_)\n",
    "    \n",
    "    \n",
    "####EDA#######\n",
    "\n",
    "\n",
    "def eda():\n",
    "    \n",
    "    filer = str(input(\" Input xlsx or csv file name : \"))\n",
    "    \n",
    "    if filer.endswith('.xlsx'):\n",
    "        datareach = pd.read_excel(filer)\n",
    "        ask1 = str(input(\" What is the name of your Y variable ?\"))\n",
    "        print(\" The Y variable will be : \" + str(ask1))        \n",
    "        y = datareach.loc[:,[ask1]]                         #seperating y col from x\n",
    "        X = datareach.drop(y, axis=1)   # x cols        \n",
    "        forest = ExtraTreesClassifier(n_estimators=250,\n",
    "                              random_state=0)\n",
    "\n",
    "        forest.fit(X, y)\n",
    "        importances = forest.feature_importances_\n",
    "        std = np.std([tree.feature_importances_ for tree in forest.estimators_],\n",
    "                     axis=0)\n",
    "        indices = np.argsort(importances)\n",
    "\n",
    "        # Plot the feature importances of the forest\n",
    "        plt.figure()\n",
    "        plt.title(\"Feature importances\")\n",
    "        plt.barh(range(X.shape[1]), importances[indices],\n",
    "               color=\"r\", xerr=std[indices], align=\"center\")\n",
    "        # If you want to define your own labels,\n",
    "        # change indices to a list of labels on the following line.\n",
    "        plt.yticks(range(X.shape[1]), indices)\n",
    "        plt.ylim([-1, X.shape[1]])\n",
    "        plt.show()\n",
    "        \n",
    "        newres = plt.show()\n",
    "\n",
    "    elif filer.endswith('.csv'):\n",
    "        datareach = pd.read_csv(filer)\n",
    "        ask1 = str(input(\" What is the name of your Y variable ?\"))\n",
    "        print(\" The Y variable will be : \" + str(ask1))\n",
    "                \n",
    "        y = datareach.loc[:,[ask1]]                         #seperating y col from x\n",
    "        X = datareach.drop(y, axis=1)   # x cols        \n",
    "        forest = ExtraTreesClassifier(n_estimators=250,\n",
    "                              random_state=0)\n",
    "\n",
    "        forest.fit(X, y)\n",
    "        importances = forest.feature_importances_\n",
    "        std = np.std([tree.feature_importances_ for tree in forest.estimators_],\n",
    "                     axis=0)\n",
    "        indices = np.argsort(importances)\n",
    "\n",
    "        # Plot the feature importances of the forest\n",
    "        plt.figure()\n",
    "        plt.title(\"Feature importances\")\n",
    "        plt.barh(range(X.shape[1]), importances[indices],\n",
    "               color=\"r\", xerr=std[indices], align=\"center\")\n",
    "        # If you want to define your own labels,\n",
    "        # change indices to a list of labels on the following line.\n",
    "        plt.yticks(range(X.shape[1]), indices)\n",
    "        plt.ylim([-1, X.shape[1]])\n",
    "        plt.show()\n",
    "        \n",
    "        newres = plt.show()\n",
    "        \n",
    "        \n",
    "        next_step_ = str(input(\" would you like to print out results onto a xlsx file or csv file? \"))\n",
    "\n",
    "        if next_step_ == \"xlsx\":\n",
    "            result_ = newres.to_excel(\"maxben1.xlsx\", engine = 'xlsxwriter')\n",
    "            typeData_ = '.xlsx'\n",
    "        elif next_step_ == \"csv\":\n",
    "            result_ = newres.to_csv(\"maxben1.csv\")\n",
    "            typeData_ = '.csv'\n",
    "        else:\n",
    "            print(\"Invalid response.\")\n",
    "\n",
    "        print(\" \")\n",
    "        print(\" \")\n",
    "        print(\"Here you go, the file has been converted to : \", typeData_)\n",
    "\n",
    "\n",
    "#################################################################################\n",
    "######------- FIRST QUESTION TO ASK USER, ML OR NLP ANALYSIS.---------###########\n",
    "#################################################################################\n",
    "\n",
    "\n",
    "def initial_quest():\n",
    "    \n",
    "    sp = (\" \")\n",
    "    \n",
    "    print(sp)\n",
    "    print(sp)\n",
    "    print(\"  Welcome to MaxBen Solutions, let us handle your data.  \")\n",
    "    print(sp)\n",
    "    print(sp)\n",
    "\n",
    "    initial_q = str(input(\" Basic Statistics or Exploratory EDA ? Answer - BS/EDA : \"))\n",
    "    \n",
    "    if initial_q == \"BS\":\n",
    "        output = bs()\n",
    "    elif initial_q == \"EDA\":\n",
    "        output = eda()\n",
    "    else:\n",
    "        print(\"- Invalid Response -\")\n",
    "    \n",
    "    print(output)\n",
    "        \n"
   ]
  },
  {
   "cell_type": "code",
   "execution_count": 22,
   "metadata": {},
   "outputs": [
    {
     "name": "stdout",
     "output_type": "stream",
     "text": [
      " \n",
      " \n",
      "  Welcome to MaxBen Solutions, let us handle your data.  \n",
      " \n",
      " \n"
     ]
    },
    {
     "name": "stdin",
     "output_type": "stream",
     "text": [
      " Basic Statistics or Exploratory EDA ? Answer - BS/EDA :  EDA\n",
      " Input xlsx or csv file name :  /Users/Taz/Desktop/AI_Max_Idea/bensdata_cc.csv\n",
      " What is the name of your Y variable ? approved\n"
     ]
    },
    {
     "name": "stdout",
     "output_type": "stream",
     "text": [
      " The Y variable will be : approved\n"
     ]
    },
    {
     "name": "stderr",
     "output_type": "stream",
     "text": [
      "/anaconda3/lib/python3.7/site-packages/ipykernel_launcher.py:86: DataConversionWarning: A column-vector y was passed when a 1d array was expected. Please change the shape of y to (n_samples,), for example using ravel().\n"
     ]
    },
    {
     "data": {
      "image/png": "[encoded data removed]",
      "text/plain": [
       "<Figure size 432x288 with 1 Axes>"
      ]
     },
     "metadata": {
      "needs_background": "light"
     },
     "output_type": "display_data"
    },
    {
     "name": "stdin",
     "output_type": "stream",
     "text": [
      " would you like to print out results onto a xlsx file or csv file?  csv\n"
     ]
    },
    {
     "ename": "AttributeError",
     "evalue": "'NoneType' object has no attribute 'to_csv'",
     "output_type": "error",
     "traceback": [
      "\u001b[0;31m---------------------------------------------------------------------------\u001b[0m",
      "\u001b[0;31mAttributeError\u001b[0m                            Traceback (most recent call last)",
      "\u001b[0;32m<ipython-input-22-bd832e2397d5>\u001b[0m in \u001b[0;36m<module>\u001b[0;34m\u001b[0m\n\u001b[0;32m----> 1\u001b[0;31m \u001b[0mggi\u001b[0m \u001b[0;34m=\u001b[0m \u001b[0minitial_quest\u001b[0m\u001b[0;34m(\u001b[0m\u001b[0;34m)\u001b[0m\u001b[0;34m\u001b[0m\u001b[0;34m\u001b[0m\u001b[0m\n\u001b[0m",
      "\u001b[0;32m<ipython-input-21-5dbea235897b>\u001b[0m in \u001b[0;36minitial_quest\u001b[0;34m()\u001b[0m\n\u001b[1;32m    140\u001b[0m         \u001b[0moutput\u001b[0m \u001b[0;34m=\u001b[0m \u001b[0mbs\u001b[0m\u001b[0;34m(\u001b[0m\u001b[0;34m)\u001b[0m\u001b[0;34m\u001b[0m\u001b[0;34m\u001b[0m\u001b[0m\n\u001b[1;32m    141\u001b[0m     \u001b[0;32melif\u001b[0m \u001b[0minitial_q\u001b[0m \u001b[0;34m==\u001b[0m \u001b[0;34m\"EDA\"\u001b[0m\u001b[0;34m:\u001b[0m\u001b[0;34m\u001b[0m\u001b[0;34m\u001b[0m\u001b[0m\n\u001b[0;32m--> 142\u001b[0;31m         \u001b[0moutput\u001b[0m \u001b[0;34m=\u001b[0m \u001b[0meda\u001b[0m\u001b[0;34m(\u001b[0m\u001b[0;34m)\u001b[0m\u001b[0;34m\u001b[0m\u001b[0;34m\u001b[0m\u001b[0m\n\u001b[0m\u001b[1;32m    143\u001b[0m     \u001b[0;32melse\u001b[0m\u001b[0;34m:\u001b[0m\u001b[0;34m\u001b[0m\u001b[0;34m\u001b[0m\u001b[0m\n\u001b[1;32m    144\u001b[0m         \u001b[0mprint\u001b[0m\u001b[0;34m(\u001b[0m\u001b[0;34m\"- Invalid Response -\"\u001b[0m\u001b[0;34m)\u001b[0m\u001b[0;34m\u001b[0m\u001b[0;34m\u001b[0m\u001b[0m\n",
      "\u001b[0;32m<ipython-input-21-5dbea235897b>\u001b[0m in \u001b[0;36meda\u001b[0;34m()\u001b[0m\n\u001b[1;32m    110\u001b[0m             \u001b[0mtypeData_\u001b[0m \u001b[0;34m=\u001b[0m \u001b[0;34m'.xlsx'\u001b[0m\u001b[0;34m\u001b[0m\u001b[0;34m\u001b[0m\u001b[0m\n\u001b[1;32m    111\u001b[0m         \u001b[0;32melif\u001b[0m \u001b[0mnext_step_\u001b[0m \u001b[0;34m==\u001b[0m \u001b[0;34m\"csv\"\u001b[0m\u001b[0;34m:\u001b[0m\u001b[0;34m\u001b[0m\u001b[0;34m\u001b[0m\u001b[0m\n\u001b[0;32m--> 112\u001b[0;31m             \u001b[0mresult_\u001b[0m \u001b[0;34m=\u001b[0m \u001b[0mnewres\u001b[0m\u001b[0;34m.\u001b[0m\u001b[0mto_csv\u001b[0m\u001b[0;34m(\u001b[0m\u001b[0;34m\"maxben1.csv\"\u001b[0m\u001b[0;34m)\u001b[0m\u001b[0;34m\u001b[0m\u001b[0;34m\u001b[0m\u001b[0m\n\u001b[0m\u001b[1;32m    113\u001b[0m             \u001b[0mtypeData_\u001b[0m \u001b[0;34m=\u001b[0m \u001b[0;34m'.csv'\u001b[0m\u001b[0;34m\u001b[0m\u001b[0;34m\u001b[0m\u001b[0m\n\u001b[1;32m    114\u001b[0m         \u001b[0;32melse\u001b[0m\u001b[0;34m:\u001b[0m\u001b[0;34m\u001b[0m\u001b[0;34m\u001b[0m\u001b[0m\n",
      "\u001b[0;31mAttributeError\u001b[0m: 'NoneType' object has no attribute 'to_csv'"
     ]
    }
   ],
   "source": [
    "ggi = initial_quest()"
   ]
  }
 ],
 "metadata": {
  "kernelspec": {
   "display_name": "Python 3",
   "language": "python",
   "name": "python3"
  },
  "language_info": {
   "codemirror_mode": {
    "name": "ipython",
    "version": 3
   },
   "file_extension": ".py",
   "mimetype": "text/x-python",
   "name": "python",
   "nbconvert_exporter": "python",
   "pygments_lexer": "ipython3",
   "version": "3.7.3"
  }
 },
 "nbformat": 4,
 "nbformat_minor": 2
}
