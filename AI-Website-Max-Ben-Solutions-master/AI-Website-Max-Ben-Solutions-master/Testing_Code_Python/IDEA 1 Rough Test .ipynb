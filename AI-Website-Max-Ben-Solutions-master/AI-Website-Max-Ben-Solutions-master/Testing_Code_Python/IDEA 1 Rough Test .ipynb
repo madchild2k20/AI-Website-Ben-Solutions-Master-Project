{
 "cells": [
  {
   "cell_type": "markdown",
   "metadata": {},
   "source": [
    "## Modules\n",
    "Check for modules "
   ]
  },
  {
   "cell_type": "code",
   "execution_count": 16,
   "metadata": {},
   "outputs": [
    {
     "name": "stdout",
     "output_type": "stream",
     "text": [
      "Requirement already satisfied: xlrd in c:\\python37\\idea1\\lib\\site-packages (1.2.0)\n"
     ]
    }
   ],
   "source": [
    "!pip install xlrd"
   ]
  },
  {
   "cell_type": "code",
   "execution_count": 17,
   "metadata": {},
   "outputs": [
    {
     "name": "stdout",
     "output_type": "stream",
     "text": [
      "Requirement already satisfied: xlsxwriter in c:\\python37\\idea1\\lib\\site-packages (1.2.9)\n"
     ]
    }
   ],
   "source": [
    "!pip install xlsxwriter"
   ]
  },
  {
   "cell_type": "code",
   "execution_count": 18,
   "metadata": {},
   "outputs": [],
   "source": [
    "import pandas as pd "
   ]
  },
  {
   "cell_type": "markdown",
   "metadata": {},
   "source": [
    "## Hard code directory \n",
    "This should be relative to data directory with data\\in and data\\out"
   ]
  },
  {
   "cell_type": "code",
   "execution_count": 19,
   "metadata": {},
   "outputs": [],
   "source": [
    "import os "
   ]
  },
  {
   "cell_type": "code",
   "execution_count": 20,
   "metadata": {},
   "outputs": [
    {
     "data": {
      "text/plain": [
       "'C:\\\\Users\\\\i080272\\\\OneDrive - SAP SE\\\\Documents\\\\oreilly_python_excel\\\\python-powered-excel-master\\\\notebooks'"
      ]
     },
     "execution_count": 20,
     "metadata": {},
     "output_type": "execute_result"
    }
   ],
   "source": [
    "#Get the file \n",
    "os.getcwd()"
   ]
  },
  {
   "cell_type": "code",
   "execution_count": 21,
   "metadata": {},
   "outputs": [
    {
     "data": {
      "text/plain": [
       "['.ipynb_checkpoints',\n",
       " 'cond.png',\n",
       " 'cond_formatting.png',\n",
       " 'df_info.txt',\n",
       " 'IDEA Excel Analysis .ipynb',\n",
       " 'IDEA Rough Test .ipynb',\n",
       " 'IDEA_TextBlob_Spacy_Gender.ipynb',\n",
       " 'IDEA_widgets_No_Go.ipynb',\n",
       " 'Lesson 01 - Sales.ipynb',\n",
       " 'Lesson 02 - Accounting.ipynb',\n",
       " 'Lesson 03 - Supply.ipynb',\n",
       " 'Lesson 04 - HR.ipynb',\n",
       " 'Lesson 05 - Final Report.ipynb',\n",
       " 'q_Chart.png']"
      ]
     },
     "execution_count": 21,
     "metadata": {},
     "output_type": "execute_result"
    }
   ],
   "source": [
    "os.listdir()"
   ]
  },
  {
   "cell_type": "code",
   "execution_count": 22,
   "metadata": {},
   "outputs": [],
   "source": [
    "main_dir = os.path.join('..')"
   ]
  },
  {
   "cell_type": "code",
   "execution_count": 23,
   "metadata": {},
   "outputs": [
    {
     "data": {
      "text/plain": [
       "'..'"
      ]
     },
     "execution_count": 23,
     "metadata": {},
     "output_type": "execute_result"
    }
   ],
   "source": [
    "main_dir"
   ]
  },
  {
   "cell_type": "code",
   "execution_count": 24,
   "metadata": {},
   "outputs": [
    {
     "data": {
      "text/plain": [
       "['data', 'notebooks', 'README.md', 'requirements.txt']"
      ]
     },
     "execution_count": 24,
     "metadata": {},
     "output_type": "execute_result"
    }
   ],
   "source": [
    "os.listdir(main_dir)  #gets up a level "
   ]
  },
  {
   "cell_type": "code",
   "execution_count": 25,
   "metadata": {},
   "outputs": [
    {
     "data": {
      "text/plain": [
       "['accounting.xlsx',\n",
       " 'accounting_summary.xlsx',\n",
       " 'accounting_summary_master.xlsx',\n",
       " 'combined_report.xlsx',\n",
       " 'hr_report.xlsx',\n",
       " 'hr_summary_master.xlsx',\n",
       " 'in',\n",
       " 'max_sales_by_client.xlsx',\n",
       " 'out',\n",
       " 'Quarterly Report.xlsx',\n",
       " 'sales.csv',\n",
       " 'sales.xlsx',\n",
       " 'sales1.xlsx',\n",
       " 'sales_by_client.xlsx',\n",
       " 'sales_formatted.xlsx',\n",
       " 'supply.xlsx',\n",
       " 'supply_summary_master.xlsx']"
      ]
     },
     "execution_count": 25,
     "metadata": {},
     "output_type": "execute_result"
    }
   ],
   "source": [
    "data_dir = os.path.join(main_dir,'data')\n",
    "os.listdir(data_dir)"
   ]
  },
  {
   "cell_type": "code",
   "execution_count": 26,
   "metadata": {},
   "outputs": [
    {
     "data": {
      "text/plain": [
       "['sales.csv', 'sales_xlsx.xlsx']"
      ]
     },
     "execution_count": 26,
     "metadata": {},
     "output_type": "execute_result"
    }
   ],
   "source": [
    "data_dir = os.path.join(main_dir,'data\\in')\n",
    "os.listdir(data_dir)"
   ]
  },
  {
   "cell_type": "code",
   "execution_count": 27,
   "metadata": {},
   "outputs": [],
   "source": [
    "data_dir = os.path.join(main_dir, 'sales.csv' )"
   ]
  },
  {
   "cell_type": "code",
   "execution_count": 28,
   "metadata": {},
   "outputs": [],
   "source": [
    "df = pd.read_csv(r'C:\\Users\\i080272\\OneDrive - SAP SE\\Documents\\oreilly_python_excel\\python-powered-excel-master\\data\\in\\sales.csv')"
   ]
  },
  {
   "cell_type": "markdown",
   "metadata": {},
   "source": [
    "## Getting dtypes info \n",
    "several experiments to get dtypes...keeping them as examples "
   ]
  },
  {
   "cell_type": "code",
   "execution_count": 29,
   "metadata": {},
   "outputs": [
    {
     "name": "stdout",
     "output_type": "stream",
     "text": [
      "<class 'pandas.core.frame.DataFrame'>\n",
      "RangeIndex: 62 entries, 0 to 61\n",
      "Data columns (total 6 columns):\n",
      " #   Column      Non-Null Count  Dtype  \n",
      "---  ------      --------------  -----  \n",
      " 0   Worker      62 non-null     object \n",
      " 1   Month       62 non-null     int64  \n",
      " 2   Client      62 non-null     object \n",
      " 3   Qty         62 non-null     int64  \n",
      " 4   Amt         62 non-null     int64  \n",
      " 5   Commission  62 non-null     float64\n",
      "dtypes: float64(1), int64(3), object(2)\n",
      "memory usage: 3.0+ KB\n"
     ]
    }
   ],
   "source": [
    "df.info()"
   ]
  },
  {
   "cell_type": "markdown",
   "metadata": {},
   "source": [
    "### writing to a file - no good"
   ]
  },
  {
   "cell_type": "code",
   "execution_count": 34,
   "metadata": {},
   "outputs": [],
   "source": [
    "#https://stackoverflow.com/questions/54221673/is-there-a-way-to-export-pandas-dataframe-info-df-info-into-an-excel-file \n",
    "import io\n",
    "buffer = io.StringIO()\n",
    "df.info(buf=buffer)\n",
    "s = buffer.getvalue()\n",
    "with open(\"df_info.txt\", \"w\", encoding=\"utf-8\") as f:\n",
    "    f.write(s)"
   ]
  },
  {
   "cell_type": "code",
   "execution_count": 35,
   "metadata": {},
   "outputs": [],
   "source": [
    "with open (\"df_info.txt\", \"r\") as myfile:\n",
    "    data=myfile.readlines()"
   ]
  },
  {
   "cell_type": "code",
   "execution_count": 36,
   "metadata": {},
   "outputs": [
    {
     "data": {
      "text/plain": [
       "[\"<class 'pandas.core.frame.DataFrame'>\\n\",\n",
       " 'RangeIndex: 62 entries, 0 to 61\\n',\n",
       " 'Data columns (total 6 columns):\\n',\n",
       " ' #   Column      Non-Null Count  Dtype  \\n',\n",
       " '---  ------      --------------  -----  \\n',\n",
       " ' 0   Worker      62 non-null     object \\n',\n",
       " ' 1   Month       62 non-null     int64  \\n',\n",
       " ' 2   Client      62 non-null     object \\n',\n",
       " ' 3   Qty         62 non-null     int64  \\n',\n",
       " ' 4   Amt         62 non-null     int64  \\n',\n",
       " ' 5   Commission  62 non-null     float64\\n',\n",
       " 'dtypes: float64(1), int64(3), object(2)\\n',\n",
       " 'memory usage: 3.0+ KB\\n']"
      ]
     },
     "execution_count": 36,
     "metadata": {},
     "output_type": "execute_result"
    }
   ],
   "source": [
    "type(data)\n",
    "data"
   ]
  },
  {
   "cell_type": "code",
   "execution_count": 37,
   "metadata": {},
   "outputs": [
    {
     "data": {
      "text/plain": [
       "\"<class 'pandas.core.frame.DataFrame'>\\n\""
      ]
     },
     "execution_count": 37,
     "metadata": {},
     "output_type": "execute_result"
    }
   ],
   "source": [
    "data[0]"
   ]
  },
  {
   "cell_type": "code",
   "execution_count": 38,
   "metadata": {},
   "outputs": [
    {
     "data": {
      "text/plain": [
       "'RangeIndex: 62 entries, 0 to 61\\n'"
      ]
     },
     "execution_count": 38,
     "metadata": {},
     "output_type": "execute_result"
    }
   ],
   "source": [
    "data[1]"
   ]
  },
  {
   "cell_type": "code",
   "execution_count": 39,
   "metadata": {},
   "outputs": [
    {
     "name": "stdout",
     "output_type": "stream",
     "text": [
      "Entry  0   <class 'pandas.core.frame.DataFrame'>\n",
      "Entry  1   RangeIndex: 62 entries, 0 to 61\n",
      "Entry  2   Data columns (total 6 columns):\n",
      "Entry  3    #   Column      Non-Null Count  Dtype  \n",
      "Entry  4   ---  ------      --------------  -----  \n",
      "Entry  5    0   Worker      62 non-null     object \n",
      "Entry  6    1   Month       62 non-null     int64  \n",
      "Entry  7    2   Client      62 non-null     object \n",
      "Entry  8    3   Qty         62 non-null     int64  \n",
      "Entry  9    4   Amt         62 non-null     int64  \n",
      "Entry  10    5   Commission  62 non-null     float64\n",
      "Entry  11   dtypes: float64(1), int64(3), object(2)\n",
      "Entry  12   memory usage: 3.0+ KB\n"
     ]
    }
   ],
   "source": [
    "for x,k in enumerate(data):\n",
    "    print(\"Entry \",x,\" \",k, end='')"
   ]
  },
  {
   "cell_type": "code",
   "execution_count": 40,
   "metadata": {},
   "outputs": [],
   "source": [
    "rangeindex = data[1].split(\" \")"
   ]
  },
  {
   "cell_type": "code",
   "execution_count": 41,
   "metadata": {},
   "outputs": [
    {
     "data": {
      "text/plain": [
       "['RangeIndex:', '62', 'entries,', '0', 'to', '61\\n']"
      ]
     },
     "execution_count": 41,
     "metadata": {},
     "output_type": "execute_result"
    }
   ],
   "source": [
    "rangeindex"
   ]
  },
  {
   "cell_type": "code",
   "execution_count": 42,
   "metadata": {},
   "outputs": [
    {
     "data": {
      "text/plain": [
       "'62'"
      ]
     },
     "execution_count": 42,
     "metadata": {},
     "output_type": "execute_result"
    }
   ],
   "source": [
    "rangeindex[1]"
   ]
  },
  {
   "cell_type": "code",
   "execution_count": 43,
   "metadata": {},
   "outputs": [
    {
     "data": {
      "text/plain": [
       "62.0"
      ]
     },
     "execution_count": 43,
     "metadata": {},
     "output_type": "execute_result"
    }
   ],
   "source": [
    "rangeIndex = int(rangeindex[1])\n",
    "rangeIndex * 1.0\n"
   ]
  },
  {
   "cell_type": "code",
   "execution_count": 44,
   "metadata": {},
   "outputs": [
    {
     "data": {
      "text/plain": [
       "['Data', 'columns', '(total', '6', 'columns):\\n']"
      ]
     },
     "execution_count": 44,
     "metadata": {},
     "output_type": "execute_result"
    }
   ],
   "source": [
    "data[2]\n",
    "data[2].split(\" \")\n",
    "data[2].split(\" \")"
   ]
  },
  {
   "cell_type": "code",
   "execution_count": 45,
   "metadata": {},
   "outputs": [
    {
     "data": {
      "text/plain": [
       "'6'"
      ]
     },
     "execution_count": 45,
     "metadata": {},
     "output_type": "execute_result"
    }
   ],
   "source": [
    "data[2].split(\" \")[3]"
   ]
  },
  {
   "cell_type": "code",
   "execution_count": 46,
   "metadata": {},
   "outputs": [
    {
     "data": {
      "text/plain": [
       "6"
      ]
     },
     "execution_count": 46,
     "metadata": {},
     "output_type": "execute_result"
    }
   ],
   "source": [
    "indexCols = int(data[2].split(\" \")[3])\n",
    "indexCols * 1"
   ]
  },
  {
   "cell_type": "code",
   "execution_count": 47,
   "metadata": {},
   "outputs": [
    {
     "name": "stdout",
     "output_type": "stream",
     "text": [
      "Worker object\n"
     ]
    }
   ],
   "source": [
    "indexcol = data[5].split(\" \")\n",
    "indexcolname = indexcol[4]\n",
    "indexcoltype= indexcol[16]\n",
    "print(indexcolname, indexcoltype)\n",
    "\n"
   ]
  },
  {
   "cell_type": "code",
   "execution_count": 48,
   "metadata": {},
   "outputs": [
    {
     "name": "stdout",
     "output_type": "stream",
     "text": [
      "Month int64\n"
     ]
    }
   ],
   "source": [
    "data\n",
    "indexcol = data[6].split(\" \")\n",
    "indexcol\n",
    "indexcolname = indexcol[4]\n",
    "indexcolname\n",
    "indexcoltype= indexcol[17]\n",
    "indexcoltype\n",
    "print(indexcolname, indexcoltype)\n"
   ]
  },
  {
   "cell_type": "code",
   "execution_count": 49,
   "metadata": {},
   "outputs": [
    {
     "name": "stdout",
     "output_type": "stream",
     "text": [
      "Client object\n"
     ]
    }
   ],
   "source": [
    "data\n",
    "indexcol = data[7].split(\" \")\n",
    "indexcol\n",
    "indexcolname = indexcol[4]\n",
    "indexcolname\n",
    "indexcoltype= indexcol[16]\n",
    "indexcoltype\n",
    "print(indexcolname, indexcoltype)"
   ]
  },
  {
   "cell_type": "code",
   "execution_count": 50,
   "metadata": {},
   "outputs": [
    {
     "data": {
      "text/plain": [
       "[\"<class 'pandas.core.frame.DataFrame'>\\n\",\n",
       " 'RangeIndex: 62 entries, 0 to 61\\n',\n",
       " 'Data columns (total 6 columns):\\n',\n",
       " ' #   Column      Non-Null Count  Dtype  \\n',\n",
       " '---  ------      --------------  -----  \\n',\n",
       " ' 0   Worker      62 non-null     object \\n',\n",
       " ' 1   Month       62 non-null     int64  \\n',\n",
       " ' 2   Client      62 non-null     object \\n',\n",
       " ' 3   Qty         62 non-null     int64  \\n',\n",
       " ' 4   Amt         62 non-null     int64  \\n',\n",
       " ' 5   Commission  62 non-null     float64\\n',\n",
       " 'dtypes: float64(1), int64(3), object(2)\\n',\n",
       " 'memory usage: 3.0+ KB\\n']"
      ]
     },
     "execution_count": 50,
     "metadata": {},
     "output_type": "execute_result"
    }
   ],
   "source": [
    "data\n",
    "# indexcol = data[8].split(\" \")\n",
    "# indexcol\n",
    "# indexcolname = indexcol[4]\n",
    "# indexcolname\n",
    "# indexcoltype= indexcol[17]\n",
    "# indexcoltype\n",
    "# print(indexcolname, indexcoltype)"
   ]
  },
  {
   "cell_type": "markdown",
   "metadata": {},
   "source": [
    "### Using dtypes from file  not good \n"
   ]
  },
  {
   "cell_type": "code",
   "execution_count": 55,
   "metadata": {},
   "outputs": [
    {
     "name": "stdout",
     "output_type": "stream",
     "text": [
      "OrderedDict([(\"<class 'pandas.core.frame.DataFrame'>\", 'RangeIndex: 62 entries'), (None, [' 0 to 61'])])\n",
      "OrderedDict([(\"<class 'pandas.core.frame.DataFrame'>\", 'Data columns (total 6 columns):')])\n",
      "OrderedDict([(\"<class 'pandas.core.frame.DataFrame'>\", ' #   Column      Non-Null Count  Dtype  ')])\n",
      "OrderedDict([(\"<class 'pandas.core.frame.DataFrame'>\", '---  ------      --------------  -----  ')])\n",
      "OrderedDict([(\"<class 'pandas.core.frame.DataFrame'>\", ' 0   Worker      62 non-null     object ')])\n",
      "OrderedDict([(\"<class 'pandas.core.frame.DataFrame'>\", ' 1   Month       62 non-null     int64  ')])\n",
      "OrderedDict([(\"<class 'pandas.core.frame.DataFrame'>\", ' 2   Client      62 non-null     object ')])\n",
      "OrderedDict([(\"<class 'pandas.core.frame.DataFrame'>\", ' 3   Qty         62 non-null     int64  ')])\n",
      "OrderedDict([(\"<class 'pandas.core.frame.DataFrame'>\", ' 4   Amt         62 non-null     int64  ')])\n",
      "OrderedDict([(\"<class 'pandas.core.frame.DataFrame'>\", ' 5   Commission  62 non-null     float64')])\n",
      "OrderedDict([(\"<class 'pandas.core.frame.DataFrame'>\", 'dtypes: float64(1)'), (None, [' int64(3)', ' object(2)'])])\n",
      "OrderedDict([(\"<class 'pandas.core.frame.DataFrame'>\", 'memory usage: 3.0+ KB')])\n"
     ]
    }
   ],
   "source": [
    "import csv \n",
    "#Should be setup as dictionary ... import csv\n",
    "with open('df_info.txt', 'r') as data: \n",
    "      \n",
    "    for line in csv.DictReader(data): \n",
    "        print(line) "
   ]
  },
  {
   "cell_type": "markdown",
   "metadata": {},
   "source": [
    "### Using dtypes\n",
    "Putting it into dictionary and changing to string"
   ]
  },
  {
   "cell_type": "code",
   "execution_count": 56,
   "metadata": {},
   "outputs": [
    {
     "data": {
      "text/plain": [
       "Worker         object\n",
       "Month           int64\n",
       "Client         object\n",
       "Qty             int64\n",
       "Amt             int64\n",
       "Commission    float64\n",
       "dtype: object"
      ]
     },
     "execution_count": 56,
     "metadata": {},
     "output_type": "execute_result"
    }
   ],
   "source": [
    "df.dtypes"
   ]
  },
  {
   "cell_type": "code",
   "execution_count": 57,
   "metadata": {},
   "outputs": [
    {
     "name": "stdout",
     "output_type": "stream",
     "text": [
      "Worker         object\n",
      "Month           int64\n",
      "Client         object\n",
      "Qty             int64\n",
      "Amt             int64\n",
      "Commission    float64\n",
      "dtype: object\n"
     ]
    },
    {
     "data": {
      "text/plain": [
       "{'Worker': dtype('O'),\n",
       " 'Month': dtype('int64'),\n",
       " 'Client': dtype('O'),\n",
       " 'Qty': dtype('int64'),\n",
       " 'Amt': dtype('int64'),\n",
       " 'Commission': dtype('float64')}"
      ]
     },
     "execution_count": 57,
     "metadata": {},
     "output_type": "execute_result"
    }
   ],
   "source": [
    "indextypes = df.dtypes\n",
    "print(str(indextypes))\n",
    "dict(indextypes)"
   ]
  },
  {
   "cell_type": "code",
   "execution_count": 58,
   "metadata": {},
   "outputs": [
    {
     "data": {
      "text/plain": [
       "'int64'"
      ]
     },
     "execution_count": 58,
     "metadata": {},
     "output_type": "execute_result"
    }
   ],
   "source": [
    "indextypes['Worker']\n",
    "indextypes['Month']\n",
    "indextypes['Client']\n",
    "#write it out with out the dtype?\n",
    "t = indextypes['Qty']\n",
    "t\n",
    "#type(t) #is a numpy.dtype\n",
    "tt = str(t) #is an object \n",
    "tt\n",
    "# type(tt)  #is a string "
   ]
  },
  {
   "cell_type": "code",
   "execution_count": 60,
   "metadata": {},
   "outputs": [
    {
     "data": {
      "text/html": [
       "<div>\n",
       "<style scoped>\n",
       "    .dataframe tbody tr th:only-of-type {\n",
       "        vertical-align: middle;\n",
       "    }\n",
       "\n",
       "    .dataframe tbody tr th {\n",
       "        vertical-align: top;\n",
       "    }\n",
       "\n",
       "    .dataframe thead th {\n",
       "        text-align: right;\n",
       "    }\n",
       "</style>\n",
       "<table border=\"1\" class=\"dataframe\">\n",
       "  <thead>\n",
       "    <tr style=\"text-align: right;\">\n",
       "      <th></th>\n",
       "      <th>Month</th>\n",
       "      <th>Qty</th>\n",
       "      <th>Amt</th>\n",
       "      <th>Commission</th>\n",
       "    </tr>\n",
       "  </thead>\n",
       "  <tbody>\n",
       "    <tr>\n",
       "      <th>count</th>\n",
       "      <td>62.000000</td>\n",
       "      <td>62.000000</td>\n",
       "      <td>62.000000</td>\n",
       "      <td>62.000000</td>\n",
       "    </tr>\n",
       "    <tr>\n",
       "      <th>mean</th>\n",
       "      <td>4.032258</td>\n",
       "      <td>940.161290</td>\n",
       "      <td>4700.806452</td>\n",
       "      <td>705.120968</td>\n",
       "    </tr>\n",
       "    <tr>\n",
       "      <th>std</th>\n",
       "      <td>0.809123</td>\n",
       "      <td>574.860616</td>\n",
       "      <td>2874.303079</td>\n",
       "      <td>431.145462</td>\n",
       "    </tr>\n",
       "    <tr>\n",
       "      <th>min</th>\n",
       "      <td>3.000000</td>\n",
       "      <td>0.000000</td>\n",
       "      <td>0.000000</td>\n",
       "      <td>0.000000</td>\n",
       "    </tr>\n",
       "    <tr>\n",
       "      <th>25%</th>\n",
       "      <td>3.000000</td>\n",
       "      <td>550.000000</td>\n",
       "      <td>2750.000000</td>\n",
       "      <td>412.500000</td>\n",
       "    </tr>\n",
       "    <tr>\n",
       "      <th>50%</th>\n",
       "      <td>4.000000</td>\n",
       "      <td>900.000000</td>\n",
       "      <td>4500.000000</td>\n",
       "      <td>675.000000</td>\n",
       "    </tr>\n",
       "    <tr>\n",
       "      <th>75%</th>\n",
       "      <td>5.000000</td>\n",
       "      <td>1200.000000</td>\n",
       "      <td>6000.000000</td>\n",
       "      <td>900.000000</td>\n",
       "    </tr>\n",
       "    <tr>\n",
       "      <th>max</th>\n",
       "      <td>5.000000</td>\n",
       "      <td>3000.000000</td>\n",
       "      <td>15000.000000</td>\n",
       "      <td>2250.000000</td>\n",
       "    </tr>\n",
       "  </tbody>\n",
       "</table>\n",
       "</div>"
      ],
      "text/plain": [
       "           Month          Qty           Amt   Commission\n",
       "count  62.000000    62.000000     62.000000    62.000000\n",
       "mean    4.032258   940.161290   4700.806452   705.120968\n",
       "std     0.809123   574.860616   2874.303079   431.145462\n",
       "min     3.000000     0.000000      0.000000     0.000000\n",
       "25%     3.000000   550.000000   2750.000000   412.500000\n",
       "50%     4.000000   900.000000   4500.000000   675.000000\n",
       "75%     5.000000  1200.000000   6000.000000   900.000000\n",
       "max     5.000000  3000.000000  15000.000000  2250.000000"
      ]
     },
     "execution_count": 60,
     "metadata": {},
     "output_type": "execute_result"
    }
   ],
   "source": [
    "df.describe()"
   ]
  },
  {
   "cell_type": "code",
   "execution_count": 61,
   "metadata": {},
   "outputs": [
    {
     "data": {
      "text/plain": [
       "Index(['Worker', 'Month', 'Client', 'Qty', 'Amt', 'Commission'], dtype='object')"
      ]
     },
     "execution_count": 61,
     "metadata": {},
     "output_type": "execute_result"
    }
   ],
   "source": [
    "df.columns  #good but not type "
   ]
  },
  {
   "cell_type": "code",
   "execution_count": 62,
   "metadata": {},
   "outputs": [
    {
     "name": "stdout",
     "output_type": "stream",
     "text": [
      "<class 'pandas.core.frame.DataFrame'>\n",
      "RangeIndex: 62 entries, 0 to 61\n",
      "Data columns (total 6 columns):\n",
      " #   Column      Non-Null Count  Dtype  \n",
      "---  ------      --------------  -----  \n",
      " 0   Worker      62 non-null     object \n",
      " 1   Month       62 non-null     int64  \n",
      " 2   Client      62 non-null     object \n",
      " 3   Qty         62 non-null     int64  \n",
      " 4   Amt         62 non-null     int64  \n",
      " 5   Commission  62 non-null     float64\n",
      "dtypes: float64(1), int64(3), object(2)\n",
      "memory usage: 3.0+ KB\n"
     ]
    }
   ],
   "source": [
    " df.info()"
   ]
  },
  {
   "cell_type": "code",
   "execution_count": 63,
   "metadata": {},
   "outputs": [
    {
     "data": {
      "text/html": [
       "<div>\n",
       "<style scoped>\n",
       "    .dataframe tbody tr th:only-of-type {\n",
       "        vertical-align: middle;\n",
       "    }\n",
       "\n",
       "    .dataframe tbody tr th {\n",
       "        vertical-align: top;\n",
       "    }\n",
       "\n",
       "    .dataframe thead th {\n",
       "        text-align: right;\n",
       "    }\n",
       "</style>\n",
       "<table border=\"1\" class=\"dataframe\">\n",
       "  <thead>\n",
       "    <tr style=\"text-align: right;\">\n",
       "      <th></th>\n",
       "      <th>Worker</th>\n",
       "      <th>Month</th>\n",
       "      <th>Client</th>\n",
       "      <th>Qty</th>\n",
       "      <th>Amt</th>\n",
       "      <th>Commission</th>\n",
       "    </tr>\n",
       "  </thead>\n",
       "  <tbody>\n",
       "    <tr>\n",
       "      <th>0</th>\n",
       "      <td>J</td>\n",
       "      <td>3</td>\n",
       "      <td>Blue Cross</td>\n",
       "      <td>3000</td>\n",
       "      <td>15000</td>\n",
       "      <td>2250.0</td>\n",
       "    </tr>\n",
       "    <tr>\n",
       "      <th>1</th>\n",
       "      <td>J</td>\n",
       "      <td>3</td>\n",
       "      <td>Dunmore High</td>\n",
       "      <td>2000</td>\n",
       "      <td>10000</td>\n",
       "      <td>1500.0</td>\n",
       "    </tr>\n",
       "    <tr>\n",
       "      <th>2</th>\n",
       "      <td>J</td>\n",
       "      <td>3</td>\n",
       "      <td>Maguire Advertising</td>\n",
       "      <td>1750</td>\n",
       "      <td>8750</td>\n",
       "      <td>1312.5</td>\n",
       "    </tr>\n",
       "    <tr>\n",
       "      <th>3</th>\n",
       "      <td>J</td>\n",
       "      <td>3</td>\n",
       "      <td>Decker Automotive</td>\n",
       "      <td>1000</td>\n",
       "      <td>5000</td>\n",
       "      <td>750.0</td>\n",
       "    </tr>\n",
       "    <tr>\n",
       "      <th>4</th>\n",
       "      <td>D</td>\n",
       "      <td>3</td>\n",
       "      <td>Lackawanna County</td>\n",
       "      <td>2000</td>\n",
       "      <td>10000</td>\n",
       "      <td>1500.0</td>\n",
       "    </tr>\n",
       "  </tbody>\n",
       "</table>\n",
       "</div>"
      ],
      "text/plain": [
       "  Worker  Month               Client   Qty    Amt  Commission\n",
       "0      J      3           Blue Cross  3000  15000      2250.0\n",
       "1      J      3         Dunmore High  2000  10000      1500.0\n",
       "2      J      3  Maguire Advertising  1750   8750      1312.5\n",
       "3      J      3    Decker Automotive  1000   5000       750.0\n",
       "4      D      3    Lackawanna County  2000  10000      1500.0"
      ]
     },
     "execution_count": 63,
     "metadata": {},
     "output_type": "execute_result"
    }
   ],
   "source": [
    "df.head()"
   ]
  },
  {
   "cell_type": "markdown",
   "metadata": {},
   "source": [
    "## Lookup tables \n",
    "using dictionary as lookup and taking an excel file and making a dictionary to replace values "
   ]
  },
  {
   "cell_type": "code",
   "execution_count": 64,
   "metadata": {},
   "outputs": [
    {
     "data": {
      "text/html": [
       "<div>\n",
       "<style scoped>\n",
       "    .dataframe tbody tr th:only-of-type {\n",
       "        vertical-align: middle;\n",
       "    }\n",
       "\n",
       "    .dataframe tbody tr th {\n",
       "        vertical-align: top;\n",
       "    }\n",
       "\n",
       "    .dataframe thead th {\n",
       "        text-align: right;\n",
       "    }\n",
       "</style>\n",
       "<table border=\"1\" class=\"dataframe\">\n",
       "  <thead>\n",
       "    <tr style=\"text-align: right;\">\n",
       "      <th></th>\n",
       "      <th>Worker</th>\n",
       "      <th>Month</th>\n",
       "      <th>Client</th>\n",
       "      <th>Qty</th>\n",
       "      <th>Amt</th>\n",
       "      <th>Commission</th>\n",
       "    </tr>\n",
       "  </thead>\n",
       "  <tbody>\n",
       "    <tr>\n",
       "      <th>57</th>\n",
       "      <td>S</td>\n",
       "      <td>5</td>\n",
       "      <td>Stone and Son</td>\n",
       "      <td>500</td>\n",
       "      <td>2500</td>\n",
       "      <td>375.0</td>\n",
       "    </tr>\n",
       "    <tr>\n",
       "      <th>58</th>\n",
       "      <td>A</td>\n",
       "      <td>5</td>\n",
       "      <td>Bob Vance</td>\n",
       "      <td>550</td>\n",
       "      <td>2750</td>\n",
       "      <td>412.5</td>\n",
       "    </tr>\n",
       "    <tr>\n",
       "      <th>59</th>\n",
       "      <td>A</td>\n",
       "      <td>5</td>\n",
       "      <td>Scranton Animal Shelter</td>\n",
       "      <td>100</td>\n",
       "      <td>500</td>\n",
       "      <td>75.0</td>\n",
       "    </tr>\n",
       "    <tr>\n",
       "      <th>60</th>\n",
       "      <td>A</td>\n",
       "      <td>5</td>\n",
       "      <td>Cornell</td>\n",
       "      <td>0</td>\n",
       "      <td>0</td>\n",
       "      <td>0.0</td>\n",
       "    </tr>\n",
       "    <tr>\n",
       "      <th>61</th>\n",
       "      <td>A</td>\n",
       "      <td>5</td>\n",
       "      <td>Barbara Allen</td>\n",
       "      <td>0</td>\n",
       "      <td>0</td>\n",
       "      <td>0.0</td>\n",
       "    </tr>\n",
       "  </tbody>\n",
       "</table>\n",
       "</div>"
      ],
      "text/plain": [
       "   Worker  Month                   Client  Qty   Amt  Commission\n",
       "57      S      5            Stone and Son  500  2500       375.0\n",
       "58      A      5                Bob Vance  550  2750       412.5\n",
       "59      A      5  Scranton Animal Shelter  100   500        75.0\n",
       "60      A      5                  Cornell    0     0         0.0\n",
       "61      A      5            Barbara Allen    0     0         0.0"
      ]
     },
     "execution_count": 64,
     "metadata": {},
     "output_type": "execute_result"
    }
   ],
   "source": [
    "df.tail()"
   ]
  },
  {
   "cell_type": "code",
   "execution_count": 65,
   "metadata": {},
   "outputs": [],
   "source": [
    "#find and replace \n",
    "#ctrl-F in Excel....\n",
    "employees = { \n",
    "'J':'Jim',\n",
    "'D': 'Dwight',\n",
    "'S': 'Stanley',\n",
    "'P': 'Phyllis',\n",
    "'A':'Andy'}"
   ]
  },
  {
   "cell_type": "code",
   "execution_count": 66,
   "metadata": {},
   "outputs": [
    {
     "data": {
      "text/plain": [
       "{'J': 'Jim', 'D': 'Dwight', 'S': 'Stanley', 'P': 'Phyllis', 'A': 'Andy'}"
      ]
     },
     "execution_count": 66,
     "metadata": {},
     "output_type": "execute_result"
    }
   ],
   "source": [
    "employees"
   ]
  },
  {
   "cell_type": "code",
   "execution_count": 67,
   "metadata": {},
   "outputs": [
    {
     "data": {
      "text/plain": [
       "Index(['Worker', 'Month', 'Client', 'Qty', 'Amt', 'Commission'], dtype='object')"
      ]
     },
     "execution_count": 67,
     "metadata": {},
     "output_type": "execute_result"
    }
   ],
   "source": [
    "df.columns"
   ]
  },
  {
   "cell_type": "code",
   "execution_count": 68,
   "metadata": {},
   "outputs": [
    {
     "data": {
      "text/plain": [
       "0         Jim\n",
       "1         Jim\n",
       "2         Jim\n",
       "3         Jim\n",
       "4      Dwight\n",
       "       ...   \n",
       "57    Stanley\n",
       "58       Andy\n",
       "59       Andy\n",
       "60       Andy\n",
       "61       Andy\n",
       "Name: Worker, Length: 62, dtype: object"
      ]
     },
     "execution_count": 68,
     "metadata": {},
     "output_type": "execute_result"
    }
   ],
   "source": [
    "df['Worker'].replace(employees)"
   ]
  },
  {
   "cell_type": "code",
   "execution_count": 69,
   "metadata": {},
   "outputs": [],
   "source": [
    "df['Worker'].replace(employees, inplace = True)"
   ]
  },
  {
   "cell_type": "code",
   "execution_count": 70,
   "metadata": {},
   "outputs": [
    {
     "data": {
      "text/html": [
       "<div>\n",
       "<style scoped>\n",
       "    .dataframe tbody tr th:only-of-type {\n",
       "        vertical-align: middle;\n",
       "    }\n",
       "\n",
       "    .dataframe tbody tr th {\n",
       "        vertical-align: top;\n",
       "    }\n",
       "\n",
       "    .dataframe thead th {\n",
       "        text-align: right;\n",
       "    }\n",
       "</style>\n",
       "<table border=\"1\" class=\"dataframe\">\n",
       "  <thead>\n",
       "    <tr style=\"text-align: right;\">\n",
       "      <th></th>\n",
       "      <th>Worker</th>\n",
       "      <th>Month</th>\n",
       "      <th>Client</th>\n",
       "      <th>Qty</th>\n",
       "      <th>Amt</th>\n",
       "      <th>Commission</th>\n",
       "    </tr>\n",
       "  </thead>\n",
       "  <tbody>\n",
       "    <tr>\n",
       "      <th>0</th>\n",
       "      <td>Jim</td>\n",
       "      <td>3</td>\n",
       "      <td>Blue Cross</td>\n",
       "      <td>3000</td>\n",
       "      <td>15000</td>\n",
       "      <td>2250.0</td>\n",
       "    </tr>\n",
       "    <tr>\n",
       "      <th>1</th>\n",
       "      <td>Jim</td>\n",
       "      <td>3</td>\n",
       "      <td>Dunmore High</td>\n",
       "      <td>2000</td>\n",
       "      <td>10000</td>\n",
       "      <td>1500.0</td>\n",
       "    </tr>\n",
       "    <tr>\n",
       "      <th>2</th>\n",
       "      <td>Jim</td>\n",
       "      <td>3</td>\n",
       "      <td>Maguire Advertising</td>\n",
       "      <td>1750</td>\n",
       "      <td>8750</td>\n",
       "      <td>1312.5</td>\n",
       "    </tr>\n",
       "    <tr>\n",
       "      <th>3</th>\n",
       "      <td>Jim</td>\n",
       "      <td>3</td>\n",
       "      <td>Decker Automotive</td>\n",
       "      <td>1000</td>\n",
       "      <td>5000</td>\n",
       "      <td>750.0</td>\n",
       "    </tr>\n",
       "    <tr>\n",
       "      <th>4</th>\n",
       "      <td>Dwight</td>\n",
       "      <td>3</td>\n",
       "      <td>Lackawanna County</td>\n",
       "      <td>2000</td>\n",
       "      <td>10000</td>\n",
       "      <td>1500.0</td>\n",
       "    </tr>\n",
       "    <tr>\n",
       "      <th>...</th>\n",
       "      <td>...</td>\n",
       "      <td>...</td>\n",
       "      <td>...</td>\n",
       "      <td>...</td>\n",
       "      <td>...</td>\n",
       "      <td>...</td>\n",
       "    </tr>\n",
       "    <tr>\n",
       "      <th>57</th>\n",
       "      <td>Stanley</td>\n",
       "      <td>5</td>\n",
       "      <td>Stone and Son</td>\n",
       "      <td>500</td>\n",
       "      <td>2500</td>\n",
       "      <td>375.0</td>\n",
       "    </tr>\n",
       "    <tr>\n",
       "      <th>58</th>\n",
       "      <td>Andy</td>\n",
       "      <td>5</td>\n",
       "      <td>Bob Vance</td>\n",
       "      <td>550</td>\n",
       "      <td>2750</td>\n",
       "      <td>412.5</td>\n",
       "    </tr>\n",
       "    <tr>\n",
       "      <th>59</th>\n",
       "      <td>Andy</td>\n",
       "      <td>5</td>\n",
       "      <td>Scranton Animal Shelter</td>\n",
       "      <td>100</td>\n",
       "      <td>500</td>\n",
       "      <td>75.0</td>\n",
       "    </tr>\n",
       "    <tr>\n",
       "      <th>60</th>\n",
       "      <td>Andy</td>\n",
       "      <td>5</td>\n",
       "      <td>Cornell</td>\n",
       "      <td>0</td>\n",
       "      <td>0</td>\n",
       "      <td>0.0</td>\n",
       "    </tr>\n",
       "    <tr>\n",
       "      <th>61</th>\n",
       "      <td>Andy</td>\n",
       "      <td>5</td>\n",
       "      <td>Barbara Allen</td>\n",
       "      <td>0</td>\n",
       "      <td>0</td>\n",
       "      <td>0.0</td>\n",
       "    </tr>\n",
       "  </tbody>\n",
       "</table>\n",
       "<p>62 rows × 6 columns</p>\n",
       "</div>"
      ],
      "text/plain": [
       "     Worker  Month                   Client   Qty    Amt  Commission\n",
       "0       Jim      3               Blue Cross  3000  15000      2250.0\n",
       "1       Jim      3             Dunmore High  2000  10000      1500.0\n",
       "2       Jim      3      Maguire Advertising  1750   8750      1312.5\n",
       "3       Jim      3        Decker Automotive  1000   5000       750.0\n",
       "4    Dwight      3        Lackawanna County  2000  10000      1500.0\n",
       "..      ...    ...                      ...   ...    ...         ...\n",
       "57  Stanley      5            Stone and Son   500   2500       375.0\n",
       "58     Andy      5                Bob Vance   550   2750       412.5\n",
       "59     Andy      5  Scranton Animal Shelter   100    500        75.0\n",
       "60     Andy      5                  Cornell     0      0         0.0\n",
       "61     Andy      5            Barbara Allen     0      0         0.0\n",
       "\n",
       "[62 rows x 6 columns]"
      ]
     },
     "execution_count": 70,
     "metadata": {},
     "output_type": "execute_result"
    }
   ],
   "source": [
    "df"
   ]
  },
  {
   "cell_type": "markdown",
   "metadata": {},
   "source": [
    "## def col_replace"
   ]
  },
  {
   "cell_type": "code",
   "execution_count": null,
   "metadata": {},
   "outputs": [],
   "source": []
  },
  {
   "cell_type": "code",
   "execution_count": 71,
   "metadata": {},
   "outputs": [],
   "source": [
    "def col_replace(df,df_col, replacement_dict, in_place):\n",
    "    ''' Takes df and col with replacement values \n",
    "    df pandas dataframe\n",
    "    df_col the target column to replace with values from replacement_dict\n",
    "    in_place default True, update the columns in place\n",
    "    NO error checking \n",
    "    '''\n",
    "    print(df.head())\n",
    "    in_place = True \n",
    "    df[df_col].replace(replacement_dict, inplace = in_place)\n",
    "    print(df.head())\n",
    "    "
   ]
  },
  {
   "cell_type": "code",
   "execution_count": 79,
   "metadata": {},
   "outputs": [
    {
     "name": "stdout",
     "output_type": "stream",
     "text": [
      "   Worker  Month               Client   Qty    Amt  Commission\n",
      "0     Jim      3           Blue Cross  3000  15000      2250.0\n",
      "1     Jim      3         Dunmore High  2000  10000      1500.0\n",
      "2     Jim      3  Maguire Advertising  1750   8750      1312.5\n",
      "3     Jim      3    Decker Automotive  1000   5000       750.0\n",
      "4  Dwight      3    Lackawanna County  2000  10000      1500.0\n",
      "   Worker  Month               Client   Qty    Amt  Commission\n",
      "0     Jim      3           Blue Cross  3000  15000      2250.0\n",
      "1     Jim      3         Dunmore High  2000  10000      1500.0\n",
      "2     Jim      3  Maguire Advertising  1750   8750      1312.5\n",
      "3     Jim      3    Decker Automotive  1000   5000       750.0\n",
      "4  Dwight      3    Lackawanna County  2000  10000      1500.0\n"
     ]
    }
   ],
   "source": [
    "col_replace(df,'Worker',employees, True)"
   ]
  },
  {
   "cell_type": "markdown",
   "metadata": {},
   "source": [
    "## def lookup \n",
    "Getting a lookup excel and making it a dictionary "
   ]
  },
  {
   "cell_type": "code",
   "execution_count": 80,
   "metadata": {},
   "outputs": [
    {
     "data": {
      "text/plain": [
       "{'J': 'Jim', 'S': 'Stanley ', 'P ': 'Phyllis ', 'D': 'Dwight', 'M': 'Max '}"
      ]
     },
     "execution_count": 80,
     "metadata": {},
     "output_type": "execute_result"
    }
   ],
   "source": [
    "#creating replacement dictionary from xls or csv \n",
    "#https://pandas.pydata.org/pandas-docs/stable/reference/api/pandas.DataFrame.to_dict.html \n",
    "#https://stackoverflow.com/questions/6740918/creating-a-dictionary-from-a-csv-file \n",
    "import pandas as pd\n",
    "pd.read_excel(r'C:\\xampp\\employee_lookup.xlsx',  index_col=0, squeeze=True).to_dict()  #remove header=None\n"
   ]
  },
  {
   "cell_type": "code",
   "execution_count": 81,
   "metadata": {},
   "outputs": [
    {
     "data": {
      "text/plain": [
       "{'J': 'Jim', 'D': 'Dwight', 'S': 'Stanley', 'P': 'Phyllis', 'A': 'Andy'}"
      ]
     },
     "execution_count": 81,
     "metadata": {},
     "output_type": "execute_result"
    }
   ],
   "source": [
    "employees"
   ]
  },
  {
   "cell_type": "code",
   "execution_count": 82,
   "metadata": {},
   "outputs": [],
   "source": [
    "excel_file = r'C:\\xampp\\employee_lookup.xlsx'\n"
   ]
  },
  {
   "cell_type": "code",
   "execution_count": 83,
   "metadata": {},
   "outputs": [],
   "source": [
    "def lookup_tab(excel_file, no_header):\n",
    "    '''\n",
    "    Read excel file in and create a dictionary to be used with lookup replace in pandas \n",
    "    excel_file is xlxs \n",
    "    no_header = True or False \n",
    "    Read an excel file in without the header and create a dictionary \n",
    "    '''\n",
    "    if no_header:\n",
    "        lookup_dict = pd.read_excel(excel_file , header=None, index_col=0, squeeze=True).to_dict() \n",
    "    else:\n",
    "        lookup_dict = pd.read_excel(excel_file ,  index_col=0, squeeze=True).to_dict()  #remove header=None\n",
    "    return(lookup_dict)\n",
    "\n",
    "    "
   ]
  },
  {
   "cell_type": "code",
   "execution_count": 84,
   "metadata": {},
   "outputs": [
    {
     "data": {
      "text/plain": [
       "{'Abbreviation ': 'Name ',\n",
       " 'J': 'Jim',\n",
       " 'S': 'Stanley ',\n",
       " 'P ': 'Phyllis ',\n",
       " 'D': 'Dwight',\n",
       " 'M': 'Max '}"
      ]
     },
     "execution_count": 84,
     "metadata": {},
     "output_type": "execute_result"
    }
   ],
   "source": [
    "lookup_tab(excel_file, no_header = True)"
   ]
  },
  {
   "cell_type": "code",
   "execution_count": 85,
   "metadata": {},
   "outputs": [],
   "source": [
    "lookup_dict = lookup_tab(excel_file, no_header = True)"
   ]
  },
  {
   "cell_type": "code",
   "execution_count": 86,
   "metadata": {},
   "outputs": [
    {
     "data": {
      "text/html": [
       "<div>\n",
       "<style scoped>\n",
       "    .dataframe tbody tr th:only-of-type {\n",
       "        vertical-align: middle;\n",
       "    }\n",
       "\n",
       "    .dataframe tbody tr th {\n",
       "        vertical-align: top;\n",
       "    }\n",
       "\n",
       "    .dataframe thead th {\n",
       "        text-align: right;\n",
       "    }\n",
       "</style>\n",
       "<table border=\"1\" class=\"dataframe\">\n",
       "  <thead>\n",
       "    <tr style=\"text-align: right;\">\n",
       "      <th></th>\n",
       "      <th>Worker</th>\n",
       "      <th>Month</th>\n",
       "      <th>Client</th>\n",
       "      <th>Qty</th>\n",
       "      <th>Amt</th>\n",
       "      <th>Commission</th>\n",
       "    </tr>\n",
       "  </thead>\n",
       "  <tbody>\n",
       "    <tr>\n",
       "      <th>0</th>\n",
       "      <td>Jim</td>\n",
       "      <td>3</td>\n",
       "      <td>Blue Cross</td>\n",
       "      <td>3000</td>\n",
       "      <td>15000</td>\n",
       "      <td>2250.0</td>\n",
       "    </tr>\n",
       "    <tr>\n",
       "      <th>1</th>\n",
       "      <td>Jim</td>\n",
       "      <td>3</td>\n",
       "      <td>Dunmore High</td>\n",
       "      <td>2000</td>\n",
       "      <td>10000</td>\n",
       "      <td>1500.0</td>\n",
       "    </tr>\n",
       "    <tr>\n",
       "      <th>2</th>\n",
       "      <td>Jim</td>\n",
       "      <td>3</td>\n",
       "      <td>Maguire Advertising</td>\n",
       "      <td>1750</td>\n",
       "      <td>8750</td>\n",
       "      <td>1312.5</td>\n",
       "    </tr>\n",
       "  </tbody>\n",
       "</table>\n",
       "</div>"
      ],
      "text/plain": [
       "  Worker  Month               Client   Qty    Amt  Commission\n",
       "0    Jim      3           Blue Cross  3000  15000      2250.0\n",
       "1    Jim      3         Dunmore High  2000  10000      1500.0\n",
       "2    Jim      3  Maguire Advertising  1750   8750      1312.5"
      ]
     },
     "execution_count": 86,
     "metadata": {},
     "output_type": "execute_result"
    }
   ],
   "source": [
    "df.head(3)"
   ]
  },
  {
   "cell_type": "code",
   "execution_count": 87,
   "metadata": {},
   "outputs": [
    {
     "name": "stdout",
     "output_type": "stream",
     "text": [
      "   Worker  Month               Client   Qty    Amt  Commission\n",
      "0     Jim      3           Blue Cross  3000  15000      2250.0\n",
      "1     Jim      3         Dunmore High  2000  10000      1500.0\n",
      "2     Jim      3  Maguire Advertising  1750   8750      1312.5\n",
      "3     Jim      3    Decker Automotive  1000   5000       750.0\n",
      "4  Dwight      3    Lackawanna County  2000  10000      1500.0\n",
      "   Worker  Month               Client   Qty    Amt  Commission\n",
      "0     Jim      3           Blue Cross  3000  15000      2250.0\n",
      "1     Jim      3         Dunmore High  2000  10000      1500.0\n",
      "2     Jim      3  Maguire Advertising  1750   8750      1312.5\n",
      "3     Jim      3    Decker Automotive  1000   5000       750.0\n",
      "4  Dwight      3    Lackawanna County  2000  10000      1500.0\n"
     ]
    }
   ],
   "source": [
    "col_replace(df,'Worker',employees, True)\n"
   ]
  },
  {
   "cell_type": "markdown",
   "metadata": {},
   "source": [
    "## Groupby\n",
    "From df get dtypes, turn into strings, create groupby list and agg dictionary "
   ]
  },
  {
   "cell_type": "code",
   "execution_count": null,
   "metadata": {},
   "outputs": [],
   "source": []
  },
  {
   "cell_type": "code",
   "execution_count": 96,
   "metadata": {},
   "outputs": [
    {
     "name": "stdout",
     "output_type": "stream",
     "text": [
      "<class 'pandas.core.frame.DataFrame'>\n",
      "RangeIndex: 62 entries, 0 to 61\n",
      "Data columns (total 6 columns):\n",
      " #   Column      Non-Null Count  Dtype  \n",
      "---  ------      --------------  -----  \n",
      " 0   Worker      62 non-null     object \n",
      " 1   Month       62 non-null     int64  \n",
      " 2   Client      62 non-null     object \n",
      " 3   Qty         62 non-null     int64  \n",
      " 4   Amt         62 non-null     int64  \n",
      " 5   Commission  62 non-null     float64\n",
      "dtypes: float64(1), int64(3), object(2)\n",
      "memory usage: 3.0+ KB\n"
     ]
    }
   ],
   "source": [
    "#annalysis which cols... \n",
    "#20!/18! \n",
    "df.info()"
   ]
  },
  {
   "cell_type": "code",
   "execution_count": 98,
   "metadata": {},
   "outputs": [
    {
     "data": {
      "text/plain": [
       "Worker         object\n",
       "Month           int64\n",
       "Client         object\n",
       "Qty             int64\n",
       "Amt             int64\n",
       "Commission    float64\n",
       "dtype: object"
      ]
     },
     "execution_count": 98,
     "metadata": {},
     "output_type": "execute_result"
    }
   ],
   "source": [
    "df.dtypes"
   ]
  },
  {
   "cell_type": "code",
   "execution_count": 106,
   "metadata": {},
   "outputs": [
    {
     "data": {
      "text/plain": [
       "{'Worker': dtype('O'),\n",
       " 'Month': dtype('int64'),\n",
       " 'Client': dtype('O'),\n",
       " 'Qty': dtype('int64'),\n",
       " 'Amt': dtype('int64'),\n",
       " 'Commission': dtype('float64')}"
      ]
     },
     "execution_count": 106,
     "metadata": {},
     "output_type": "execute_result"
    }
   ],
   "source": [
    "#put df.dtypes in dictionary \n",
    "obj_dtypes = df.dtypes.to_dict()\n",
    "obj_dtypes"
   ]
  },
  {
   "cell_type": "code",
   "execution_count": 109,
   "metadata": {},
   "outputs": [
    {
     "name": "stdout",
     "output_type": "stream",
     "text": [
      "Worker object\n",
      "Month int64\n",
      "Client object\n",
      "Qty int64\n",
      "Amt int64\n",
      "Commission float64\n"
     ]
    },
    {
     "data": {
      "text/plain": [
       "{'Worker': 'object',\n",
       " 'Month': 'int64',\n",
       " 'Client': 'object',\n",
       " 'Qty': 'int64',\n",
       " 'Amt': 'int64',\n",
       " 'Commission': 'float64'}"
      ]
     },
     "execution_count": 109,
     "metadata": {},
     "output_type": "execute_result"
    }
   ],
   "source": [
    "#make df.dtypes a reg dictionary of strings \n",
    "str_dtypes ={} \n",
    "for k,v in obj_dtypes.items():\n",
    "    print( k, v)\n",
    "    str_dtypes[k] =str(v)\n",
    "str_dtypes"
   ]
  },
  {
   "cell_type": "code",
   "execution_count": 135,
   "metadata": {},
   "outputs": [
    {
     "data": {
      "text/html": [
       "<div>\n",
       "<style scoped>\n",
       "    .dataframe tbody tr th:only-of-type {\n",
       "        vertical-align: middle;\n",
       "    }\n",
       "\n",
       "    .dataframe tbody tr th {\n",
       "        vertical-align: top;\n",
       "    }\n",
       "\n",
       "    .dataframe thead tr th {\n",
       "        text-align: left;\n",
       "    }\n",
       "</style>\n",
       "<table border=\"1\" class=\"dataframe\">\n",
       "  <thead>\n",
       "    <tr>\n",
       "      <th></th>\n",
       "      <th>Client</th>\n",
       "      <th>Worker</th>\n",
       "      <th>Qty</th>\n",
       "      <th>Amt</th>\n",
       "    </tr>\n",
       "    <tr>\n",
       "      <th></th>\n",
       "      <th></th>\n",
       "      <th></th>\n",
       "      <th>sum</th>\n",
       "      <th>sum</th>\n",
       "    </tr>\n",
       "  </thead>\n",
       "  <tbody>\n",
       "    <tr>\n",
       "      <th>0</th>\n",
       "      <td>Apex Technology</td>\n",
       "      <td>Dwight</td>\n",
       "      <td>1700</td>\n",
       "      <td>8500</td>\n",
       "    </tr>\n",
       "    <tr>\n",
       "      <th>1</th>\n",
       "      <td>Athleap</td>\n",
       "      <td>Jim</td>\n",
       "      <td>350</td>\n",
       "      <td>1750</td>\n",
       "    </tr>\n",
       "    <tr>\n",
       "      <th>2</th>\n",
       "      <td>Barbara Allen</td>\n",
       "      <td>Andy</td>\n",
       "      <td>1300</td>\n",
       "      <td>6500</td>\n",
       "    </tr>\n",
       "  </tbody>\n",
       "</table>\n",
       "</div>"
      ],
      "text/plain": [
       "            Client  Worker   Qty   Amt\n",
       "                             sum   sum\n",
       "0  Apex Technology  Dwight  1700  8500\n",
       "1          Athleap     Jim   350  1750\n",
       "2    Barbara Allen    Andy  1300  6500"
      ]
     },
     "execution_count": 135,
     "metadata": {},
     "output_type": "execute_result"
    }
   ],
   "source": [
    "sales_by_client[:3]"
   ]
  },
  {
   "cell_type": "code",
   "execution_count": 134,
   "metadata": {},
   "outputs": [
    {
     "name": "stdout",
     "output_type": "stream",
     "text": [
      "groupby_var... ['Worker', 'Client']\n",
      "agg_var..... {'Month': 'sum', 'Qty': 'sum', 'Amt': 'sum', 'Commission': 'sum'}\n"
     ]
    }
   ],
   "source": [
    "#group by can be a list of columns but we only want object \n",
    "groupby_var = [] \n",
    "#aggregates can be dictionary \n",
    "agg_var ={}\n",
    "\n",
    "for k,v in str_dtypes.items():\n",
    "    if v == 'object':\n",
    "        groupby_var.append(k)\n",
    "    elif  v == 'int64' :\n",
    "        agg_var[k]='sum'\n",
    "    elif v == 'float64':\n",
    "        agg_var[k]='sum'\n",
    "print(\"groupby_var...\",groupby_var  )\n",
    "print('agg_var.....',agg_var)\n"
   ]
  },
  {
   "cell_type": "code",
   "execution_count": 141,
   "metadata": {},
   "outputs": [
    {
     "data": {
      "text/html": [
       "<div>\n",
       "<style scoped>\n",
       "    .dataframe tbody tr th:only-of-type {\n",
       "        vertical-align: middle;\n",
       "    }\n",
       "\n",
       "    .dataframe tbody tr th {\n",
       "        vertical-align: top;\n",
       "    }\n",
       "\n",
       "    .dataframe thead tr th {\n",
       "        text-align: left;\n",
       "    }\n",
       "</style>\n",
       "<table border=\"1\" class=\"dataframe\">\n",
       "  <thead>\n",
       "    <tr>\n",
       "      <th></th>\n",
       "      <th>Worker</th>\n",
       "      <th>Client</th>\n",
       "      <th>Qty</th>\n",
       "      <th>Amt</th>\n",
       "    </tr>\n",
       "    <tr>\n",
       "      <th></th>\n",
       "      <th></th>\n",
       "      <th></th>\n",
       "      <th>sum</th>\n",
       "      <th>sum</th>\n",
       "    </tr>\n",
       "  </thead>\n",
       "  <tbody>\n",
       "    <tr>\n",
       "      <th>0</th>\n",
       "      <td>Andy</td>\n",
       "      <td>Barbara Allen</td>\n",
       "      <td>1300</td>\n",
       "      <td>6500</td>\n",
       "    </tr>\n",
       "    <tr>\n",
       "      <th>1</th>\n",
       "      <td>Andy</td>\n",
       "      <td>Bob Vance</td>\n",
       "      <td>1300</td>\n",
       "      <td>6500</td>\n",
       "    </tr>\n",
       "    <tr>\n",
       "      <th>2</th>\n",
       "      <td>Andy</td>\n",
       "      <td>Cornell</td>\n",
       "      <td>100</td>\n",
       "      <td>500</td>\n",
       "    </tr>\n",
       "  </tbody>\n",
       "</table>\n",
       "</div>"
      ],
      "text/plain": [
       "  Worker         Client   Qty   Amt\n",
       "                          sum   sum\n",
       "0   Andy  Barbara Allen  1300  6500\n",
       "1   Andy      Bob Vance  1300  6500\n",
       "2   Andy        Cornell   100   500"
      ]
     },
     "execution_count": 141,
     "metadata": {},
     "output_type": "execute_result"
    }
   ],
   "source": [
    "sales_by_client = df.groupby(['Worker','Client'], as_index =False).\\\n",
    "agg({\n",
    "    'Qty':[sum],\n",
    "    'Amt':[sum]\n",
    "})\n",
    "sales_by_client.iloc[:3]"
   ]
  },
  {
   "cell_type": "code",
   "execution_count": 142,
   "metadata": {},
   "outputs": [
    {
     "data": {
      "text/html": [
       "<div>\n",
       "<style scoped>\n",
       "    .dataframe tbody tr th:only-of-type {\n",
       "        vertical-align: middle;\n",
       "    }\n",
       "\n",
       "    .dataframe tbody tr th {\n",
       "        vertical-align: top;\n",
       "    }\n",
       "\n",
       "    .dataframe thead tr th {\n",
       "        text-align: left;\n",
       "    }\n",
       "</style>\n",
       "<table border=\"1\" class=\"dataframe\">\n",
       "  <thead>\n",
       "    <tr>\n",
       "      <th></th>\n",
       "      <th>Worker</th>\n",
       "      <th>Client</th>\n",
       "      <th>Qty</th>\n",
       "      <th>Month</th>\n",
       "      <th>Amt</th>\n",
       "    </tr>\n",
       "    <tr>\n",
       "      <th></th>\n",
       "      <th></th>\n",
       "      <th></th>\n",
       "      <th>sum</th>\n",
       "      <th>sum</th>\n",
       "      <th>sum</th>\n",
       "    </tr>\n",
       "  </thead>\n",
       "  <tbody>\n",
       "    <tr>\n",
       "      <th>0</th>\n",
       "      <td>Andy</td>\n",
       "      <td>Barbara Allen</td>\n",
       "      <td>1300</td>\n",
       "      <td>12</td>\n",
       "      <td>6500</td>\n",
       "    </tr>\n",
       "    <tr>\n",
       "      <th>1</th>\n",
       "      <td>Andy</td>\n",
       "      <td>Bob Vance</td>\n",
       "      <td>1300</td>\n",
       "      <td>8</td>\n",
       "      <td>6500</td>\n",
       "    </tr>\n",
       "    <tr>\n",
       "      <th>2</th>\n",
       "      <td>Andy</td>\n",
       "      <td>Cornell</td>\n",
       "      <td>100</td>\n",
       "      <td>9</td>\n",
       "      <td>500</td>\n",
       "    </tr>\n",
       "  </tbody>\n",
       "</table>\n",
       "</div>"
      ],
      "text/plain": [
       "  Worker         Client   Qty Month   Amt\n",
       "                          sum   sum   sum\n",
       "0   Andy  Barbara Allen  1300    12  6500\n",
       "1   Andy      Bob Vance  1300     8  6500\n",
       "2   Andy        Cornell   100     9   500"
      ]
     },
     "execution_count": 142,
     "metadata": {},
     "output_type": "execute_result"
    }
   ],
   "source": [
    "#take out worker and client and use list \n",
    "sales_by_client = df.groupby((groupby_var), as_index =False).\\\n",
    "agg({\n",
    "    'Qty':[sum],\n",
    "    'Month':[sum],\n",
    "    'Amt':[sum]\n",
    "})\n",
    "sales_by_client.iloc[:3]"
   ]
  },
  {
   "cell_type": "code",
   "execution_count": 143,
   "metadata": {},
   "outputs": [
    {
     "data": {
      "text/html": [
       "<div>\n",
       "<style scoped>\n",
       "    .dataframe tbody tr th:only-of-type {\n",
       "        vertical-align: middle;\n",
       "    }\n",
       "\n",
       "    .dataframe tbody tr th {\n",
       "        vertical-align: top;\n",
       "    }\n",
       "\n",
       "    .dataframe thead th {\n",
       "        text-align: right;\n",
       "    }\n",
       "</style>\n",
       "<table border=\"1\" class=\"dataframe\">\n",
       "  <thead>\n",
       "    <tr style=\"text-align: right;\">\n",
       "      <th></th>\n",
       "      <th>Worker</th>\n",
       "      <th>Client</th>\n",
       "      <th>Month</th>\n",
       "      <th>Qty</th>\n",
       "      <th>Amt</th>\n",
       "      <th>Commission</th>\n",
       "    </tr>\n",
       "  </thead>\n",
       "  <tbody>\n",
       "    <tr>\n",
       "      <th>0</th>\n",
       "      <td>Andy</td>\n",
       "      <td>Barbara Allen</td>\n",
       "      <td>12</td>\n",
       "      <td>1300</td>\n",
       "      <td>6500</td>\n",
       "      <td>975.0</td>\n",
       "    </tr>\n",
       "    <tr>\n",
       "      <th>1</th>\n",
       "      <td>Andy</td>\n",
       "      <td>Bob Vance</td>\n",
       "      <td>8</td>\n",
       "      <td>1300</td>\n",
       "      <td>6500</td>\n",
       "      <td>975.0</td>\n",
       "    </tr>\n",
       "    <tr>\n",
       "      <th>2</th>\n",
       "      <td>Andy</td>\n",
       "      <td>Cornell</td>\n",
       "      <td>9</td>\n",
       "      <td>100</td>\n",
       "      <td>500</td>\n",
       "      <td>75.0</td>\n",
       "    </tr>\n",
       "  </tbody>\n",
       "</table>\n",
       "</div>"
      ],
      "text/plain": [
       "  Worker         Client  Month   Qty   Amt  Commission\n",
       "0   Andy  Barbara Allen     12  1300  6500       975.0\n",
       "1   Andy      Bob Vance      8  1300  6500       975.0\n",
       "2   Andy        Cornell      9   100   500        75.0"
      ]
     },
     "execution_count": 143,
     "metadata": {},
     "output_type": "execute_result"
    }
   ],
   "source": [
    "#take out worker and client and use list \n",
    "#take out manual dictionary and use agg_var\n",
    "sales_by_client = df.groupby((groupby_var), as_index =False).\\\n",
    "agg(agg_var)\n",
    "    \n",
    "sales_by_client.iloc[:3]"
   ]
  },
  {
   "cell_type": "code",
   "execution_count": 145,
   "metadata": {},
   "outputs": [],
   "source": [
    "sales_by_client.columns = ['Worker','Client','Mon','Qty','Amt','Commission']"
   ]
  },
  {
   "cell_type": "code",
   "execution_count": 92,
   "metadata": {},
   "outputs": [
    {
     "data": {
      "text/html": [
       "<div>\n",
       "<style scoped>\n",
       "    .dataframe tbody tr th:only-of-type {\n",
       "        vertical-align: middle;\n",
       "    }\n",
       "\n",
       "    .dataframe tbody tr th {\n",
       "        vertical-align: top;\n",
       "    }\n",
       "\n",
       "    .dataframe thead th {\n",
       "        text-align: right;\n",
       "    }\n",
       "</style>\n",
       "<table border=\"1\" class=\"dataframe\">\n",
       "  <thead>\n",
       "    <tr style=\"text-align: right;\">\n",
       "      <th></th>\n",
       "      <th>Client</th>\n",
       "      <th>Rep</th>\n",
       "      <th>Qty</th>\n",
       "      <th>Total Amount</th>\n",
       "    </tr>\n",
       "  </thead>\n",
       "  <tbody>\n",
       "    <tr>\n",
       "      <th>0</th>\n",
       "      <td>Apex Technology</td>\n",
       "      <td>Dwight</td>\n",
       "      <td>1700</td>\n",
       "      <td>8500</td>\n",
       "    </tr>\n",
       "    <tr>\n",
       "      <th>1</th>\n",
       "      <td>Athleap</td>\n",
       "      <td>Jim</td>\n",
       "      <td>350</td>\n",
       "      <td>1750</td>\n",
       "    </tr>\n",
       "    <tr>\n",
       "      <th>2</th>\n",
       "      <td>Barbara Allen</td>\n",
       "      <td>Andy</td>\n",
       "      <td>1300</td>\n",
       "      <td>6500</td>\n",
       "    </tr>\n",
       "    <tr>\n",
       "      <th>3</th>\n",
       "      <td>Blue Cross</td>\n",
       "      <td>Jim</td>\n",
       "      <td>6900</td>\n",
       "      <td>34500</td>\n",
       "    </tr>\n",
       "    <tr>\n",
       "      <th>4</th>\n",
       "      <td>Bob Vance</td>\n",
       "      <td>Andy</td>\n",
       "      <td>1300</td>\n",
       "      <td>6500</td>\n",
       "    </tr>\n",
       "    <tr>\n",
       "      <th>5</th>\n",
       "      <td>Cornell</td>\n",
       "      <td>Andy</td>\n",
       "      <td>100</td>\n",
       "      <td>500</td>\n",
       "    </tr>\n",
       "    <tr>\n",
       "      <th>6</th>\n",
       "      <td>Decker Automotive</td>\n",
       "      <td>Jim</td>\n",
       "      <td>1000</td>\n",
       "      <td>5000</td>\n",
       "    </tr>\n",
       "    <tr>\n",
       "      <th>7</th>\n",
       "      <td>Down!</td>\n",
       "      <td>Stanley</td>\n",
       "      <td>3250</td>\n",
       "      <td>16250</td>\n",
       "    </tr>\n",
       "    <tr>\n",
       "      <th>8</th>\n",
       "      <td>Dunmore High</td>\n",
       "      <td>Jim</td>\n",
       "      <td>4250</td>\n",
       "      <td>21250</td>\n",
       "    </tr>\n",
       "    <tr>\n",
       "      <th>9</th>\n",
       "      <td>East Penn Seminary</td>\n",
       "      <td>Phyllis</td>\n",
       "      <td>4000</td>\n",
       "      <td>20000</td>\n",
       "    </tr>\n",
       "    <tr>\n",
       "      <th>10</th>\n",
       "      <td>Harper Collins</td>\n",
       "      <td>Dwight</td>\n",
       "      <td>2400</td>\n",
       "      <td>12000</td>\n",
       "    </tr>\n",
       "    <tr>\n",
       "      <th>11</th>\n",
       "      <td>Haymont Tires</td>\n",
       "      <td>Stanley</td>\n",
       "      <td>2700</td>\n",
       "      <td>13500</td>\n",
       "    </tr>\n",
       "    <tr>\n",
       "      <th>12</th>\n",
       "      <td>Ken's Beauty Supplies</td>\n",
       "      <td>Phyllis</td>\n",
       "      <td>3400</td>\n",
       "      <td>17000</td>\n",
       "    </tr>\n",
       "    <tr>\n",
       "      <th>13</th>\n",
       "      <td>Lackawanna County</td>\n",
       "      <td>Dwight</td>\n",
       "      <td>4700</td>\n",
       "      <td>23500</td>\n",
       "    </tr>\n",
       "    <tr>\n",
       "      <th>14</th>\n",
       "      <td>Maguire Advertising</td>\n",
       "      <td>Jim</td>\n",
       "      <td>3250</td>\n",
       "      <td>16250</td>\n",
       "    </tr>\n",
       "    <tr>\n",
       "      <th>15</th>\n",
       "      <td>Prestige Postal</td>\n",
       "      <td>Dwight</td>\n",
       "      <td>1950</td>\n",
       "      <td>9750</td>\n",
       "    </tr>\n",
       "    <tr>\n",
       "      <th>16</th>\n",
       "      <td>Scranton Animal Shelter</td>\n",
       "      <td>Andy</td>\n",
       "      <td>200</td>\n",
       "      <td>1000</td>\n",
       "    </tr>\n",
       "    <tr>\n",
       "      <th>17</th>\n",
       "      <td>Scranton Golf</td>\n",
       "      <td>Jim</td>\n",
       "      <td>1000</td>\n",
       "      <td>5000</td>\n",
       "    </tr>\n",
       "    <tr>\n",
       "      <th>18</th>\n",
       "      <td>Scranton White Pages</td>\n",
       "      <td>Dwight</td>\n",
       "      <td>4000</td>\n",
       "      <td>20000</td>\n",
       "    </tr>\n",
       "    <tr>\n",
       "      <th>19</th>\n",
       "      <td>Steamtown Mall</td>\n",
       "      <td>Phyllis</td>\n",
       "      <td>3800</td>\n",
       "      <td>19000</td>\n",
       "    </tr>\n",
       "    <tr>\n",
       "      <th>20</th>\n",
       "      <td>Stone and Son</td>\n",
       "      <td>Stanley</td>\n",
       "      <td>2040</td>\n",
       "      <td>10200</td>\n",
       "    </tr>\n",
       "    <tr>\n",
       "      <th>21</th>\n",
       "      <td>Stone, Cooper, Grandy</td>\n",
       "      <td>Dwight</td>\n",
       "      <td>950</td>\n",
       "      <td>4750</td>\n",
       "    </tr>\n",
       "    <tr>\n",
       "      <th>22</th>\n",
       "      <td>Tract Industries</td>\n",
       "      <td>Stanley</td>\n",
       "      <td>3200</td>\n",
       "      <td>16000</td>\n",
       "    </tr>\n",
       "    <tr>\n",
       "      <th>23</th>\n",
       "      <td>Vance Ref.</td>\n",
       "      <td>Andy</td>\n",
       "      <td>550</td>\n",
       "      <td>2750</td>\n",
       "    </tr>\n",
       "  </tbody>\n",
       "</table>\n",
       "</div>"
      ],
      "text/plain": [
       "                     Client      Rep   Qty  Total Amount\n",
       "0           Apex Technology   Dwight  1700          8500\n",
       "1                   Athleap      Jim   350          1750\n",
       "2             Barbara Allen     Andy  1300          6500\n",
       "3                Blue Cross      Jim  6900         34500\n",
       "4                 Bob Vance     Andy  1300          6500\n",
       "5                   Cornell     Andy   100           500\n",
       "6         Decker Automotive      Jim  1000          5000\n",
       "7                     Down!  Stanley  3250         16250\n",
       "8              Dunmore High      Jim  4250         21250\n",
       "9        East Penn Seminary  Phyllis  4000         20000\n",
       "10           Harper Collins   Dwight  2400         12000\n",
       "11            Haymont Tires  Stanley  2700         13500\n",
       "12    Ken's Beauty Supplies  Phyllis  3400         17000\n",
       "13        Lackawanna County   Dwight  4700         23500\n",
       "14      Maguire Advertising      Jim  3250         16250\n",
       "15          Prestige Postal   Dwight  1950          9750\n",
       "16  Scranton Animal Shelter     Andy   200          1000\n",
       "17            Scranton Golf      Jim  1000          5000\n",
       "18     Scranton White Pages   Dwight  4000         20000\n",
       "19           Steamtown Mall  Phyllis  3800         19000\n",
       "20            Stone and Son  Stanley  2040         10200\n",
       "21    Stone, Cooper, Grandy   Dwight   950          4750\n",
       "22         Tract Industries  Stanley  3200         16000\n",
       "23               Vance Ref.     Andy   550          2750"
      ]
     },
     "execution_count": 92,
     "metadata": {},
     "output_type": "execute_result"
    }
   ],
   "source": [
    "sales_by_client #new col names"
   ]
  },
  {
   "cell_type": "code",
   "execution_count": 93,
   "metadata": {},
   "outputs": [
    {
     "data": {
      "text/html": [
       "<div>\n",
       "<style scoped>\n",
       "    .dataframe tbody tr th:only-of-type {\n",
       "        vertical-align: middle;\n",
       "    }\n",
       "\n",
       "    .dataframe tbody tr th {\n",
       "        vertical-align: top;\n",
       "    }\n",
       "\n",
       "    .dataframe thead tr th {\n",
       "        text-align: left;\n",
       "    }\n",
       "</style>\n",
       "<table border=\"1\" class=\"dataframe\">\n",
       "  <thead>\n",
       "    <tr>\n",
       "      <th></th>\n",
       "      <th>Worker</th>\n",
       "      <th>Qty</th>\n",
       "      <th>Amt</th>\n",
       "    </tr>\n",
       "    <tr>\n",
       "      <th></th>\n",
       "      <th></th>\n",
       "      <th>sum</th>\n",
       "      <th>sum</th>\n",
       "    </tr>\n",
       "  </thead>\n",
       "  <tbody>\n",
       "    <tr>\n",
       "      <th>0</th>\n",
       "      <td>Andy</td>\n",
       "      <td>3450</td>\n",
       "      <td>17250</td>\n",
       "    </tr>\n",
       "    <tr>\n",
       "      <th>1</th>\n",
       "      <td>Dwight</td>\n",
       "      <td>15700</td>\n",
       "      <td>78500</td>\n",
       "    </tr>\n",
       "    <tr>\n",
       "      <th>2</th>\n",
       "      <td>Jim</td>\n",
       "      <td>16750</td>\n",
       "      <td>83750</td>\n",
       "    </tr>\n",
       "    <tr>\n",
       "      <th>3</th>\n",
       "      <td>Phyllis</td>\n",
       "      <td>11200</td>\n",
       "      <td>56000</td>\n",
       "    </tr>\n",
       "    <tr>\n",
       "      <th>4</th>\n",
       "      <td>Stanley</td>\n",
       "      <td>11190</td>\n",
       "      <td>55950</td>\n",
       "    </tr>\n",
       "  </tbody>\n",
       "</table>\n",
       "</div>"
      ],
      "text/plain": [
       "    Worker    Qty    Amt\n",
       "              sum    sum\n",
       "0     Andy   3450  17250\n",
       "1   Dwight  15700  78500\n",
       "2      Jim  16750  83750\n",
       "3  Phyllis  11200  56000\n",
       "4  Stanley  11190  55950"
      ]
     },
     "execution_count": 93,
     "metadata": {},
     "output_type": "execute_result"
    }
   ],
   "source": [
    "sales_by_client = df.groupby(['Worker'], as_index =False).\\\n",
    "agg({\n",
    "    'Qty':[sum],\n",
    "    'Amt':[sum]\n",
    "})\n",
    "sales_by_client"
   ]
  },
  {
   "cell_type": "code",
   "execution_count": 94,
   "metadata": {},
   "outputs": [
    {
     "data": {
      "text/html": [
       "<div>\n",
       "<style scoped>\n",
       "    .dataframe tbody tr th:only-of-type {\n",
       "        vertical-align: middle;\n",
       "    }\n",
       "\n",
       "    .dataframe tbody tr th {\n",
       "        vertical-align: top;\n",
       "    }\n",
       "\n",
       "    .dataframe thead tr th {\n",
       "        text-align: left;\n",
       "    }\n",
       "</style>\n",
       "<table border=\"1\" class=\"dataframe\">\n",
       "  <thead>\n",
       "    <tr>\n",
       "      <th></th>\n",
       "      <th>Worker</th>\n",
       "      <th>Qty</th>\n",
       "      <th>Amt</th>\n",
       "    </tr>\n",
       "    <tr>\n",
       "      <th></th>\n",
       "      <th></th>\n",
       "      <th>sum</th>\n",
       "      <th>sum</th>\n",
       "    </tr>\n",
       "  </thead>\n",
       "  <tbody>\n",
       "    <tr>\n",
       "      <th>0</th>\n",
       "      <td>Andy</td>\n",
       "      <td>3450</td>\n",
       "      <td>17250</td>\n",
       "    </tr>\n",
       "    <tr>\n",
       "      <th>1</th>\n",
       "      <td>Dwight</td>\n",
       "      <td>15700</td>\n",
       "      <td>78500</td>\n",
       "    </tr>\n",
       "    <tr>\n",
       "      <th>2</th>\n",
       "      <td>Jim</td>\n",
       "      <td>16750</td>\n",
       "      <td>83750</td>\n",
       "    </tr>\n",
       "    <tr>\n",
       "      <th>3</th>\n",
       "      <td>Phyllis</td>\n",
       "      <td>11200</td>\n",
       "      <td>56000</td>\n",
       "    </tr>\n",
       "    <tr>\n",
       "      <th>4</th>\n",
       "      <td>Stanley</td>\n",
       "      <td>11190</td>\n",
       "      <td>55950</td>\n",
       "    </tr>\n",
       "  </tbody>\n",
       "</table>\n",
       "</div>"
      ],
      "text/plain": [
       "    Worker    Qty    Amt\n",
       "              sum    sum\n",
       "0     Andy   3450  17250\n",
       "1   Dwight  15700  78500\n",
       "2      Jim  16750  83750\n",
       "3  Phyllis  11200  56000\n",
       "4  Stanley  11190  55950"
      ]
     },
     "execution_count": 94,
     "metadata": {},
     "output_type": "execute_result"
    }
   ],
   "source": [
    "sales_by_client = df.groupby(['Worker'], as_index =False).\\\n",
    "agg({\n",
    "    'Qty':[sum],\n",
    "    'Amt':[sum]\n",
    "})\n",
    "sales_by_client"
   ]
  },
  {
   "cell_type": "code",
   "execution_count": 95,
   "metadata": {},
   "outputs": [
    {
     "data": {
      "text/html": [
       "<div>\n",
       "<style scoped>\n",
       "    .dataframe tbody tr th:only-of-type {\n",
       "        vertical-align: middle;\n",
       "    }\n",
       "\n",
       "    .dataframe tbody tr th {\n",
       "        vertical-align: top;\n",
       "    }\n",
       "\n",
       "    .dataframe thead tr th {\n",
       "        text-align: left;\n",
       "    }\n",
       "</style>\n",
       "<table border=\"1\" class=\"dataframe\">\n",
       "  <thead>\n",
       "    <tr>\n",
       "      <th></th>\n",
       "      <th>Worker</th>\n",
       "      <th>Qty</th>\n",
       "      <th>Amt</th>\n",
       "      <th>Commission</th>\n",
       "    </tr>\n",
       "    <tr>\n",
       "      <th></th>\n",
       "      <th></th>\n",
       "      <th>sum</th>\n",
       "      <th>sum</th>\n",
       "      <th>sum</th>\n",
       "    </tr>\n",
       "  </thead>\n",
       "  <tbody>\n",
       "    <tr>\n",
       "      <th>0</th>\n",
       "      <td>Andy</td>\n",
       "      <td>3450</td>\n",
       "      <td>17250</td>\n",
       "      <td>2587.5</td>\n",
       "    </tr>\n",
       "    <tr>\n",
       "      <th>1</th>\n",
       "      <td>Dwight</td>\n",
       "      <td>15700</td>\n",
       "      <td>78500</td>\n",
       "      <td>11775.0</td>\n",
       "    </tr>\n",
       "    <tr>\n",
       "      <th>2</th>\n",
       "      <td>Jim</td>\n",
       "      <td>16750</td>\n",
       "      <td>83750</td>\n",
       "      <td>12562.5</td>\n",
       "    </tr>\n",
       "    <tr>\n",
       "      <th>3</th>\n",
       "      <td>Phyllis</td>\n",
       "      <td>11200</td>\n",
       "      <td>56000</td>\n",
       "      <td>8400.0</td>\n",
       "    </tr>\n",
       "    <tr>\n",
       "      <th>4</th>\n",
       "      <td>Stanley</td>\n",
       "      <td>11190</td>\n",
       "      <td>55950</td>\n",
       "      <td>8392.5</td>\n",
       "    </tr>\n",
       "  </tbody>\n",
       "</table>\n",
       "</div>"
      ],
      "text/plain": [
       "    Worker    Qty    Amt Commission\n",
       "              sum    sum        sum\n",
       "0     Andy   3450  17250     2587.5\n",
       "1   Dwight  15700  78500    11775.0\n",
       "2      Jim  16750  83750    12562.5\n",
       "3  Phyllis  11200  56000     8400.0\n",
       "4  Stanley  11190  55950     8392.5"
      ]
     },
     "execution_count": 95,
     "metadata": {},
     "output_type": "execute_result"
    }
   ],
   "source": [
    "sales_by_client = df.groupby(['Worker'], as_index =False).\\\n",
    "agg({\n",
    "    'Qty':[sum],\n",
    "    'Amt':[sum], \n",
    "    'Commission':[sum]\n",
    "})\n",
    "sales_by_client"
   ]
  },
  {
   "cell_type": "code",
   "execution_count": 602,
   "metadata": {},
   "outputs": [
    {
     "data": {
      "text/html": [
       "<div>\n",
       "<style scoped>\n",
       "    .dataframe tbody tr th:only-of-type {\n",
       "        vertical-align: middle;\n",
       "    }\n",
       "\n",
       "    .dataframe tbody tr th {\n",
       "        vertical-align: top;\n",
       "    }\n",
       "\n",
       "    .dataframe thead tr th {\n",
       "        text-align: left;\n",
       "    }\n",
       "</style>\n",
       "<table border=\"1\" class=\"dataframe\">\n",
       "  <thead>\n",
       "    <tr>\n",
       "      <th></th>\n",
       "      <th>Worker</th>\n",
       "      <th>Qty</th>\n",
       "      <th>Amt</th>\n",
       "      <th>Commission</th>\n",
       "    </tr>\n",
       "    <tr>\n",
       "      <th></th>\n",
       "      <th></th>\n",
       "      <th>sum</th>\n",
       "      <th>sum</th>\n",
       "      <th>sum</th>\n",
       "    </tr>\n",
       "  </thead>\n",
       "  <tbody>\n",
       "    <tr>\n",
       "      <th>0</th>\n",
       "      <td>Andy</td>\n",
       "      <td>3450</td>\n",
       "      <td>17250</td>\n",
       "      <td>2587.5</td>\n",
       "    </tr>\n",
       "    <tr>\n",
       "      <th>1</th>\n",
       "      <td>Dwight</td>\n",
       "      <td>15700</td>\n",
       "      <td>78500</td>\n",
       "      <td>11775.0</td>\n",
       "    </tr>\n",
       "    <tr>\n",
       "      <th>2</th>\n",
       "      <td>Jim</td>\n",
       "      <td>16750</td>\n",
       "      <td>83750</td>\n",
       "      <td>12562.5</td>\n",
       "    </tr>\n",
       "    <tr>\n",
       "      <th>3</th>\n",
       "      <td>Phyllis</td>\n",
       "      <td>11200</td>\n",
       "      <td>56000</td>\n",
       "      <td>8400.0</td>\n",
       "    </tr>\n",
       "    <tr>\n",
       "      <th>4</th>\n",
       "      <td>Stanley</td>\n",
       "      <td>11190</td>\n",
       "      <td>55950</td>\n",
       "      <td>8392.5</td>\n",
       "    </tr>\n",
       "  </tbody>\n",
       "</table>\n",
       "</div>"
      ],
      "text/plain": [
       "    Worker    Qty    Amt Commission\n",
       "              sum    sum        sum\n",
       "0     Andy   3450  17250     2587.5\n",
       "1   Dwight  15700  78500    11775.0\n",
       "2      Jim  16750  83750    12562.5\n",
       "3  Phyllis  11200  56000     8400.0\n",
       "4  Stanley  11190  55950     8392.5"
      ]
     },
     "execution_count": 602,
     "metadata": {},
     "output_type": "execute_result"
    }
   ],
   "source": [
    "sales_by_client = df.groupby(['Worker'], as_index =False).\\\n",
    "agg({\n",
    "    'Qty':[sum],\n",
    "    'Amt':[sum], \n",
    "    'Commission':[sum]\n",
    "})\n",
    "sales_by_client"
   ]
  },
  {
   "cell_type": "markdown",
   "metadata": {},
   "source": [
    "## Output to Excel "
   ]
  },
  {
   "cell_type": "code",
   "execution_count": 199,
   "metadata": {},
   "outputs": [],
   "source": [
    "output_file = os.path.join('..', 'data', 'sales.xlsx')"
   ]
  },
  {
   "cell_type": "code",
   "execution_count": 200,
   "metadata": {},
   "outputs": [],
   "source": [
    "sales_by_client.to_excel(output_file, engine='xlsxwriter')"
   ]
  },
  {
   "cell_type": "markdown",
   "metadata": {},
   "source": [
    "## Output to Excel XLSX \n",
    "https://xlsxWriter.readthedocs.io "
   ]
  },
  {
   "cell_type": "code",
   "execution_count": 274,
   "metadata": {},
   "outputs": [
    {
     "data": {
      "text/plain": [
       "os.stat_result(st_mode=33206, st_ino=5066549582001913, st_dev=1983372511, st_nlink=1, st_uid=0, st_gid=0, st_size=97783, st_atime=1584703684, st_mtime=1584629655, st_ctime=1584629358)"
      ]
     },
     "execution_count": 274,
     "metadata": {},
     "output_type": "execute_result"
    }
   ],
   "source": [
    "os.stat('cond.png')"
   ]
  },
  {
   "cell_type": "code",
   "execution_count": 280,
   "metadata": {},
   "outputs": [
    {
     "name": "stdout",
     "output_type": "stream",
     "text": [
      "2020-03-20 07:28:04.308661\n"
     ]
    }
   ],
   "source": [
    "#https://stackoverflow.com/questions/27549217/ctime-atime-and-mtime-how-to-interpret-them \n",
    "import os\n",
    "import datetime\n",
    "print(datetime.datetime.fromtimestamp(os.stat(\"cond.png\").st_atime))"
   ]
  },
  {
   "cell_type": "code",
   "execution_count": 282,
   "metadata": {},
   "outputs": [
    {
     "name": "stdout",
     "output_type": "stream",
     "text": [
      "cond.png      : 97783bytes\n",
      "cond_formatting.png      : 97783bytes\n",
      "IDEA Excel Pivot .ipynb      : 63980bytes\n",
      "IDEA_TextBlob_Spacy_Gender.ipynb      : 38104bytes\n",
      "IDEA_widgets_No_Go.ipynb      : 4173bytes\n",
      "Lesson 01 - Sales.ipynb      : 35877bytes\n",
      "Lesson 02 - Accounting.ipynb      : 29555bytes\n",
      "Lesson 03 - Supply.ipynb      : 23816bytes\n",
      "Lesson 04 - HR.ipynb      : 27035bytes\n",
      "Lesson 05 - Final Report.ipynb      : 31778bytes\n",
      "q_Chart.png      : 244635bytes\n",
      "throw away error for now!\n",
      "throw away error for now!\n",
      "throw away error for now!\n",
      "throw away error for now!\n",
      "throw away error for now!\n",
      "throw away error for now!\n",
      "throw away error for now!\n",
      "throw away error for now!\n"
     ]
    }
   ],
   "source": [
    "import os\n",
    "\n",
    "def file_size(fname):\n",
    "    info = os.stat(fname)\n",
    "    return info.st_size\n",
    "\n",
    "\n",
    "for root, dirs, files in os.walk(\".\"):\n",
    "    for filename in files:\n",
    "        try:\n",
    "            print(filename + '      : ' + str(file_size(filename)) + \"bytes\")\n",
    "        except:\n",
    "            print(\"throw away error for now!\" )"
   ]
  },
  {
   "cell_type": "code",
   "execution_count": 283,
   "metadata": {},
   "outputs": [
    {
     "data": {
      "text/plain": [
       "['accounting.xlsx',\n",
       " 'accounting_summary_master.xlsx',\n",
       " 'combined_report.xlsx',\n",
       " 'hr_report.xlsx',\n",
       " 'hr_summary_master.xlsx',\n",
       " 'max_sales_by_client.xlsx',\n",
       " 'sales.csv',\n",
       " 'sales.xlsx',\n",
       " 'sales1.xlsx',\n",
       " 'sales_by_client.xlsx',\n",
       " 'sales_formatted.xlsx',\n",
       " 'supply.xlsx',\n",
       " 'supply_summary_master.xlsx']"
      ]
     },
     "execution_count": 283,
     "metadata": {},
     "output_type": "execute_result"
    }
   ],
   "source": [
    "os.listdir('..\\data')"
   ]
  },
  {
   "cell_type": "code",
   "execution_count": 284,
   "metadata": {},
   "outputs": [
    {
     "data": {
      "text/plain": [
       "'..\\\\data\\\\max_sales_by_client.xlsx'"
      ]
     },
     "execution_count": 284,
     "metadata": {},
     "output_type": "execute_result"
    }
   ],
   "source": [
    "# First, let's define the name of the file we want to create:\n",
    "output_file = os.path.join('..', 'data', 'max_sales_by_client.xlsx')\n",
    "output_file"
   ]
  },
  {
   "cell_type": "code",
   "execution_count": 285,
   "metadata": {},
   "outputs": [],
   "source": [
    "sales_by_client.to_excel(output_file, engine='xlsxwriter')"
   ]
  },
  {
   "cell_type": "code",
   "execution_count": 286,
   "metadata": {},
   "outputs": [],
   "source": [
    "output_file = os.path.join('..', 'data', 'sales_formatted.xlsx')\n",
    "writer = pd.ExcelWriter(output_file, engine='xlsxwriter')\n",
    "workbook = writer.book"
   ]
  },
  {
   "cell_type": "code",
   "execution_count": 287,
   "metadata": {},
   "outputs": [],
   "source": [
    "#rgbtohex.net "
   ]
  },
  {
   "cell_type": "code",
   "execution_count": 288,
   "metadata": {},
   "outputs": [],
   "source": [
    "header_format = workbook.add_format({\n",
    "    'bold':True,\n",
    "    'align':'center',\n",
    "    'valign':'top',\n",
    "    'font_color':'white',\n",
    "    'font_size':12\n",
    "})"
   ]
  },
  {
   "cell_type": "code",
   "execution_count": 289,
   "metadata": {},
   "outputs": [],
   "source": [
    "number_format = workbook.add_format({ 'num_format':'$#,##0.00'})"
   ]
  },
  {
   "cell_type": "code",
   "execution_count": 290,
   "metadata": {},
   "outputs": [],
   "source": [
    "sheet = 'sales summary'\n",
    "sales_by_client.to_excel(writer, sheet_name=sheet) #index=False error on multipsheet"
   ]
  },
  {
   "cell_type": "code",
   "execution_count": 291,
   "metadata": {},
   "outputs": [],
   "source": [
    "worksheet = writer.sheets[sheet]"
   ]
  },
  {
   "cell_type": "code",
   "execution_count": 292,
   "metadata": {},
   "outputs": [],
   "source": [
    "sales_by_client.columns = ['Client', 'Rep', 'Qty', 'Total Amount']  #be sure not to have mulitple lines on titles"
   ]
  },
  {
   "cell_type": "code",
   "execution_count": 293,
   "metadata": {},
   "outputs": [
    {
     "name": "stdout",
     "output_type": "stream",
     "text": [
      "0 Client\n",
      "1 Rep\n",
      "2 Qty\n",
      "3 Total Amount\n"
     ]
    },
    {
     "data": {
      "text/plain": [
       "\"\\nbe careful that it is not tuples! \\n0 ('Worker', '')\\n1 ('Qty', 'sum')\\n2 ('Amt', 'sum')\\n3 ('Commission', 'sum')\\n\\n\""
      ]
     },
     "execution_count": 293,
     "metadata": {},
     "output_type": "execute_result"
    }
   ],
   "source": [
    "for col_num ,  value in enumerate(sales_by_client.columns.values):\n",
    "    print(col_num,value)  \n",
    "'''\n",
    "be careful that it is not tuples! \n",
    "0 ('Worker', '')\n",
    "1 ('Qty', 'sum')\n",
    "2 ('Amt', 'sum')\n",
    "3 ('Commission', 'sum')\n",
    "\n",
    "'''"
   ]
  },
  {
   "cell_type": "code",
   "execution_count": 294,
   "metadata": {},
   "outputs": [],
   "source": [
    "for col_num ,  value in enumerate(sales_by_client.columns.values):\n",
    "    worksheet.write(0,col_num, value, header_format)"
   ]
  },
  {
   "cell_type": "code",
   "execution_count": 295,
   "metadata": {},
   "outputs": [
    {
     "data": {
      "text/plain": [
       "0"
      ]
     },
     "execution_count": 295,
     "metadata": {},
     "output_type": "execute_result"
    }
   ],
   "source": [
    "#format the header ... \n",
    "worksheet.set_column('A:B',14, None)\n",
    "worksheet.set_column('C:D',14, number_format )"
   ]
  },
  {
   "cell_type": "code",
   "execution_count": 296,
   "metadata": {},
   "outputs": [],
   "source": [
    "writer.save()"
   ]
  },
  {
   "cell_type": "markdown",
   "metadata": {},
   "source": [
    "## Sheet names \n",
    "Hopefully not needed! "
   ]
  },
  {
   "cell_type": "code",
   "execution_count": 301,
   "metadata": {},
   "outputs": [],
   "source": [
    "accounting_file = os.path.join('..', 'data', 'accounting.xlsx')"
   ]
  },
  {
   "cell_type": "code",
   "execution_count": 302,
   "metadata": {},
   "outputs": [],
   "source": [
    "a_df = pd.read_excel(accounting_file, sheet_name='Angela')"
   ]
  },
  {
   "cell_type": "code",
   "execution_count": 303,
   "metadata": {},
   "outputs": [],
   "source": [
    "k_df =  pd.read_excel(accounting_file, sheet_name='Kevin')"
   ]
  },
  {
   "cell_type": "code",
   "execution_count": 304,
   "metadata": {},
   "outputs": [],
   "source": [
    "o_df =  pd.read_excel(accounting_file, sheet_name='Oscar')"
   ]
  },
  {
   "cell_type": "code",
   "execution_count": 308,
   "metadata": {},
   "outputs": [
    {
     "data": {
      "text/html": [
       "<div>\n",
       "<style scoped>\n",
       "    .dataframe tbody tr th:only-of-type {\n",
       "        vertical-align: middle;\n",
       "    }\n",
       "\n",
       "    .dataframe tbody tr th {\n",
       "        vertical-align: top;\n",
       "    }\n",
       "\n",
       "    .dataframe thead th {\n",
       "        text-align: right;\n",
       "    }\n",
       "</style>\n",
       "<table border=\"1\" class=\"dataframe\">\n",
       "  <thead>\n",
       "    <tr style=\"text-align: right;\">\n",
       "      <th></th>\n",
       "      <th>Customer</th>\n",
       "      <th>Bill Date</th>\n",
       "      <th>Amount</th>\n",
       "      <th>Paid</th>\n",
       "      <th>Paid Date</th>\n",
       "      <th>Balance</th>\n",
       "    </tr>\n",
       "  </thead>\n",
       "  <tbody>\n",
       "    <tr>\n",
       "      <th>0</th>\n",
       "      <td>Blue Cross</td>\n",
       "      <td>2019-03-01</td>\n",
       "      <td>9900</td>\n",
       "      <td>9900</td>\n",
       "      <td>2019-03-15 00:00:00</td>\n",
       "      <td>0</td>\n",
       "    </tr>\n",
       "    <tr>\n",
       "      <th>1</th>\n",
       "      <td>Dunmore High</td>\n",
       "      <td>2019-03-01</td>\n",
       "      <td>6600</td>\n",
       "      <td>0</td>\n",
       "      <td>2019-03-15 00:00:00</td>\n",
       "      <td>6600</td>\n",
       "    </tr>\n",
       "    <tr>\n",
       "      <th>2</th>\n",
       "      <td>Maguire Advertising</td>\n",
       "      <td>2019-03-01</td>\n",
       "      <td>5775</td>\n",
       "      <td>5000</td>\n",
       "      <td>2019-03-15 00:00:00</td>\n",
       "      <td>775</td>\n",
       "    </tr>\n",
       "    <tr>\n",
       "      <th>3</th>\n",
       "      <td>Decker Automotive</td>\n",
       "      <td>2019-03-01</td>\n",
       "      <td>3300</td>\n",
       "      <td>3000</td>\n",
       "      <td>2019-03-15 00:00:00</td>\n",
       "      <td>300</td>\n",
       "    </tr>\n",
       "    <tr>\n",
       "      <th>4</th>\n",
       "      <td>Lackawanna County</td>\n",
       "      <td>2019-03-01</td>\n",
       "      <td>6600</td>\n",
       "      <td>6000</td>\n",
       "      <td>2019-03-15 00:00:00</td>\n",
       "      <td>600</td>\n",
       "    </tr>\n",
       "  </tbody>\n",
       "</table>\n",
       "</div>"
      ],
      "text/plain": [
       "              Customer  Bill Date  Amount  Paid            Paid Date  Balance\n",
       "0           Blue Cross 2019-03-01    9900  9900  2019-03-15 00:00:00        0\n",
       "1         Dunmore High 2019-03-01    6600     0  2019-03-15 00:00:00     6600\n",
       "2  Maguire Advertising 2019-03-01    5775  5000  2019-03-15 00:00:00      775\n",
       "3    Decker Automotive 2019-03-01    3300  3000  2019-03-15 00:00:00      300\n",
       "4    Lackawanna County 2019-03-01    6600  6000  2019-03-15 00:00:00      600"
      ]
     },
     "execution_count": 308,
     "metadata": {},
     "output_type": "execute_result"
    }
   ],
   "source": [
    "a_df.head()"
   ]
  },
  {
   "cell_type": "code",
   "execution_count": 309,
   "metadata": {},
   "outputs": [
    {
     "data": {
      "text/html": [
       "<div>\n",
       "<style scoped>\n",
       "    .dataframe tbody tr th:only-of-type {\n",
       "        vertical-align: middle;\n",
       "    }\n",
       "\n",
       "    .dataframe tbody tr th {\n",
       "        vertical-align: top;\n",
       "    }\n",
       "\n",
       "    .dataframe thead th {\n",
       "        text-align: right;\n",
       "    }\n",
       "</style>\n",
       "<table border=\"1\" class=\"dataframe\">\n",
       "  <thead>\n",
       "    <tr style=\"text-align: right;\">\n",
       "      <th></th>\n",
       "      <th>Customer</th>\n",
       "      <th>Bill Date</th>\n",
       "      <th>Amount</th>\n",
       "      <th>Paid</th>\n",
       "      <th>Paid Date</th>\n",
       "      <th>Balance</th>\n",
       "    </tr>\n",
       "  </thead>\n",
       "  <tbody>\n",
       "    <tr>\n",
       "      <th>0</th>\n",
       "      <td>Blue Cross</td>\n",
       "      <td>2019-03-01</td>\n",
       "      <td>9900</td>\n",
       "      <td>9900</td>\n",
       "      <td>2019-03-15 00:00:00</td>\n",
       "      <td>0</td>\n",
       "    </tr>\n",
       "    <tr>\n",
       "      <th>1</th>\n",
       "      <td>Dunmore High</td>\n",
       "      <td>2019-03-01</td>\n",
       "      <td>6600</td>\n",
       "      <td>0</td>\n",
       "      <td>2019-03-15 00:00:00</td>\n",
       "      <td>6600</td>\n",
       "    </tr>\n",
       "    <tr>\n",
       "      <th>2</th>\n",
       "      <td>Maguire Advertising</td>\n",
       "      <td>2019-03-01</td>\n",
       "      <td>5775</td>\n",
       "      <td>5000</td>\n",
       "      <td>2019-03-15 00:00:00</td>\n",
       "      <td>775</td>\n",
       "    </tr>\n",
       "  </tbody>\n",
       "</table>\n",
       "</div>"
      ],
      "text/plain": [
       "              Customer  Bill Date  Amount  Paid            Paid Date  Balance\n",
       "0           Blue Cross 2019-03-01    9900  9900  2019-03-15 00:00:00        0\n",
       "1         Dunmore High 2019-03-01    6600     0  2019-03-15 00:00:00     6600\n",
       "2  Maguire Advertising 2019-03-01    5775  5000  2019-03-15 00:00:00      775"
      ]
     },
     "execution_count": 309,
     "metadata": {},
     "output_type": "execute_result"
    }
   ],
   "source": [
    "a_df.head(3)"
   ]
  },
  {
   "cell_type": "code",
   "execution_count": 310,
   "metadata": {},
   "outputs": [
    {
     "data": {
      "text/html": [
       "<div>\n",
       "<style scoped>\n",
       "    .dataframe tbody tr th:only-of-type {\n",
       "        vertical-align: middle;\n",
       "    }\n",
       "\n",
       "    .dataframe tbody tr th {\n",
       "        vertical-align: top;\n",
       "    }\n",
       "\n",
       "    .dataframe thead th {\n",
       "        text-align: right;\n",
       "    }\n",
       "</style>\n",
       "<table border=\"1\" class=\"dataframe\">\n",
       "  <thead>\n",
       "    <tr style=\"text-align: right;\">\n",
       "      <th></th>\n",
       "      <th>Employee</th>\n",
       "      <th>Date</th>\n",
       "      <th>Expense</th>\n",
       "      <th>Amount Requested</th>\n",
       "      <th>Justification</th>\n",
       "      <th>Amount Paid</th>\n",
       "    </tr>\n",
       "  </thead>\n",
       "  <tbody>\n",
       "    <tr>\n",
       "      <th>0</th>\n",
       "      <td>Michael</td>\n",
       "      <td>2019-03-01</td>\n",
       "      <td>Gas to NY</td>\n",
       "      <td>75</td>\n",
       "      <td>Seeing Jan</td>\n",
       "      <td>75</td>\n",
       "    </tr>\n",
       "    <tr>\n",
       "      <th>1</th>\n",
       "      <td>Michael</td>\n",
       "      <td>2019-03-07</td>\n",
       "      <td>Gas to NY</td>\n",
       "      <td>75</td>\n",
       "      <td>Seeing Jan</td>\n",
       "      <td>75</td>\n",
       "    </tr>\n",
       "    <tr>\n",
       "      <th>2</th>\n",
       "      <td>Michael</td>\n",
       "      <td>2019-03-09</td>\n",
       "      <td>Gas to NY</td>\n",
       "      <td>75</td>\n",
       "      <td>Seeing Jan</td>\n",
       "      <td>75</td>\n",
       "    </tr>\n",
       "  </tbody>\n",
       "</table>\n",
       "</div>"
      ],
      "text/plain": [
       "  Employee       Date    Expense  Amount Requested Justification  Amount Paid\n",
       "0  Michael 2019-03-01  Gas to NY                75    Seeing Jan           75\n",
       "1  Michael 2019-03-07  Gas to NY                75    Seeing Jan           75\n",
       "2  Michael 2019-03-09  Gas to NY                75    Seeing Jan           75"
      ]
     },
     "execution_count": 310,
     "metadata": {},
     "output_type": "execute_result"
    }
   ],
   "source": [
    "k_df.head(3)"
   ]
  },
  {
   "cell_type": "code",
   "execution_count": 311,
   "metadata": {},
   "outputs": [
    {
     "data": {
      "text/html": [
       "<div>\n",
       "<style scoped>\n",
       "    .dataframe tbody tr th:only-of-type {\n",
       "        vertical-align: middle;\n",
       "    }\n",
       "\n",
       "    .dataframe tbody tr th {\n",
       "        vertical-align: top;\n",
       "    }\n",
       "\n",
       "    .dataframe thead th {\n",
       "        text-align: right;\n",
       "    }\n",
       "</style>\n",
       "<table border=\"1\" class=\"dataframe\">\n",
       "  <thead>\n",
       "    <tr style=\"text-align: right;\">\n",
       "      <th></th>\n",
       "      <th>Month</th>\n",
       "      <th>Item</th>\n",
       "      <th>Amount Paid</th>\n",
       "    </tr>\n",
       "  </thead>\n",
       "  <tbody>\n",
       "    <tr>\n",
       "      <th>0</th>\n",
       "      <td>March</td>\n",
       "      <td>HammerMill Paper</td>\n",
       "      <td>1000</td>\n",
       "    </tr>\n",
       "    <tr>\n",
       "      <th>1</th>\n",
       "      <td>March</td>\n",
       "      <td>Fuel - Warehouse</td>\n",
       "      <td>200</td>\n",
       "    </tr>\n",
       "    <tr>\n",
       "      <th>2</th>\n",
       "      <td>March</td>\n",
       "      <td>Equipment - Warehouse</td>\n",
       "      <td>500</td>\n",
       "    </tr>\n",
       "  </tbody>\n",
       "</table>\n",
       "</div>"
      ],
      "text/plain": [
       "   Month                   Item  Amount Paid\n",
       "0  March       HammerMill Paper         1000\n",
       "1  March       Fuel - Warehouse          200\n",
       "2  March  Equipment - Warehouse          500"
      ]
     },
     "execution_count": 311,
     "metadata": {},
     "output_type": "execute_result"
    }
   ],
   "source": [
    "o_df.head(3)"
   ]
  },
  {
   "cell_type": "code",
   "execution_count": 314,
   "metadata": {},
   "outputs": [],
   "source": [
    "frames = pd.read_excel(accounting_file, sheet_name=None) #get all data "
   ]
  },
  {
   "cell_type": "code",
   "execution_count": 313,
   "metadata": {},
   "outputs": [
    {
     "data": {
      "text/plain": [
       "dict_keys(['Angela', 'Kevin', 'Oscar'])"
      ]
     },
     "execution_count": 313,
     "metadata": {},
     "output_type": "execute_result"
    }
   ],
   "source": [
    "frames.keys()"
   ]
  },
  {
   "cell_type": "code",
   "execution_count": 320,
   "metadata": {},
   "outputs": [
    {
     "data": {
      "text/plain": [
       "dict"
      ]
     },
     "execution_count": 320,
     "metadata": {},
     "output_type": "execute_result"
    }
   ],
   "source": [
    "type(frames)"
   ]
  },
  {
   "cell_type": "code",
   "execution_count": 321,
   "metadata": {},
   "outputs": [
    {
     "data": {
      "text/html": [
       "<div>\n",
       "<style scoped>\n",
       "    .dataframe tbody tr th:only-of-type {\n",
       "        vertical-align: middle;\n",
       "    }\n",
       "\n",
       "    .dataframe tbody tr th {\n",
       "        vertical-align: top;\n",
       "    }\n",
       "\n",
       "    .dataframe thead th {\n",
       "        text-align: right;\n",
       "    }\n",
       "</style>\n",
       "<table border=\"1\" class=\"dataframe\">\n",
       "  <thead>\n",
       "    <tr style=\"text-align: right;\">\n",
       "      <th></th>\n",
       "      <th>Customer</th>\n",
       "      <th>Bill Date</th>\n",
       "      <th>Amount</th>\n",
       "      <th>Paid</th>\n",
       "      <th>Paid Date</th>\n",
       "      <th>Balance</th>\n",
       "    </tr>\n",
       "  </thead>\n",
       "  <tbody>\n",
       "    <tr>\n",
       "      <th>0</th>\n",
       "      <td>Blue Cross</td>\n",
       "      <td>2019-03-01</td>\n",
       "      <td>9900</td>\n",
       "      <td>9900</td>\n",
       "      <td>2019-03-15 00:00:00</td>\n",
       "      <td>0</td>\n",
       "    </tr>\n",
       "    <tr>\n",
       "      <th>1</th>\n",
       "      <td>Dunmore High</td>\n",
       "      <td>2019-03-01</td>\n",
       "      <td>6600</td>\n",
       "      <td>0</td>\n",
       "      <td>2019-03-15 00:00:00</td>\n",
       "      <td>6600</td>\n",
       "    </tr>\n",
       "    <tr>\n",
       "      <th>2</th>\n",
       "      <td>Maguire Advertising</td>\n",
       "      <td>2019-03-01</td>\n",
       "      <td>5775</td>\n",
       "      <td>5000</td>\n",
       "      <td>2019-03-15 00:00:00</td>\n",
       "      <td>775</td>\n",
       "    </tr>\n",
       "    <tr>\n",
       "      <th>3</th>\n",
       "      <td>Decker Automotive</td>\n",
       "      <td>2019-03-01</td>\n",
       "      <td>3300</td>\n",
       "      <td>3000</td>\n",
       "      <td>2019-03-15 00:00:00</td>\n",
       "      <td>300</td>\n",
       "    </tr>\n",
       "    <tr>\n",
       "      <th>4</th>\n",
       "      <td>Lackawanna County</td>\n",
       "      <td>2019-03-01</td>\n",
       "      <td>6600</td>\n",
       "      <td>6000</td>\n",
       "      <td>2019-03-15 00:00:00</td>\n",
       "      <td>600</td>\n",
       "    </tr>\n",
       "  </tbody>\n",
       "</table>\n",
       "</div>"
      ],
      "text/plain": [
       "              Customer  Bill Date  Amount  Paid            Paid Date  Balance\n",
       "0           Blue Cross 2019-03-01    9900  9900  2019-03-15 00:00:00        0\n",
       "1         Dunmore High 2019-03-01    6600     0  2019-03-15 00:00:00     6600\n",
       "2  Maguire Advertising 2019-03-01    5775  5000  2019-03-15 00:00:00      775\n",
       "3    Decker Automotive 2019-03-01    3300  3000  2019-03-15 00:00:00      300\n",
       "4    Lackawanna County 2019-03-01    6600  6000  2019-03-15 00:00:00      600"
      ]
     },
     "execution_count": 321,
     "metadata": {},
     "output_type": "execute_result"
    }
   ],
   "source": [
    "frames['Angela'].head()"
   ]
  },
  {
   "cell_type": "markdown",
   "metadata": {},
   "source": [
    "## Date manipulation \n",
    "oh the horror..."
   ]
  },
  {
   "cell_type": "code",
   "execution_count": 322,
   "metadata": {},
   "outputs": [],
   "source": [
    "df_a = frames['Angela']"
   ]
  },
  {
   "cell_type": "code",
   "execution_count": 330,
   "metadata": {},
   "outputs": [
    {
     "name": "stdout",
     "output_type": "stream",
     "text": [
      "<class 'pandas.core.frame.DataFrame'>\n",
      "RangeIndex: 60 entries, 0 to 59\n",
      "Data columns (total 6 columns):\n",
      " #   Column     Non-Null Count  Dtype         \n",
      "---  ------     --------------  -----         \n",
      " 0   Customer   60 non-null     object        \n",
      " 1   Bill Date  60 non-null     datetime64[ns]\n",
      " 2   Amount     60 non-null     int64         \n",
      " 3   Paid       60 non-null     int64         \n",
      " 4   Paid Date  60 non-null     object        \n",
      " 5   Balance    60 non-null     int64         \n",
      "dtypes: datetime64[ns](1), int64(3), object(2)\n",
      "memory usage: 2.9+ KB\n"
     ]
    }
   ],
   "source": [
    "df_a.info() # datetime64[ns] "
   ]
  },
  {
   "cell_type": "code",
   "execution_count": 331,
   "metadata": {},
   "outputs": [
    {
     "data": {
      "text/html": [
       "<div>\n",
       "<style scoped>\n",
       "    .dataframe tbody tr th:only-of-type {\n",
       "        vertical-align: middle;\n",
       "    }\n",
       "\n",
       "    .dataframe tbody tr th {\n",
       "        vertical-align: top;\n",
       "    }\n",
       "\n",
       "    .dataframe thead th {\n",
       "        text-align: right;\n",
       "    }\n",
       "</style>\n",
       "<table border=\"1\" class=\"dataframe\">\n",
       "  <thead>\n",
       "    <tr style=\"text-align: right;\">\n",
       "      <th></th>\n",
       "      <th>Customer</th>\n",
       "      <th>Bill Date</th>\n",
       "      <th>Amount</th>\n",
       "      <th>Paid</th>\n",
       "      <th>Paid Date</th>\n",
       "      <th>Balance</th>\n",
       "    </tr>\n",
       "  </thead>\n",
       "  <tbody>\n",
       "    <tr>\n",
       "      <th>0</th>\n",
       "      <td>Blue Cross</td>\n",
       "      <td>2019-03-01</td>\n",
       "      <td>9900</td>\n",
       "      <td>9900</td>\n",
       "      <td>2019-03-15 00:00:00</td>\n",
       "      <td>0</td>\n",
       "    </tr>\n",
       "    <tr>\n",
       "      <th>1</th>\n",
       "      <td>Dunmore High</td>\n",
       "      <td>2019-03-01</td>\n",
       "      <td>6600</td>\n",
       "      <td>0</td>\n",
       "      <td>2019-03-15 00:00:00</td>\n",
       "      <td>6600</td>\n",
       "    </tr>\n",
       "    <tr>\n",
       "      <th>2</th>\n",
       "      <td>Maguire Advertising</td>\n",
       "      <td>2019-03-01</td>\n",
       "      <td>5775</td>\n",
       "      <td>5000</td>\n",
       "      <td>2019-03-15 00:00:00</td>\n",
       "      <td>775</td>\n",
       "    </tr>\n",
       "    <tr>\n",
       "      <th>3</th>\n",
       "      <td>Decker Automotive</td>\n",
       "      <td>2019-03-01</td>\n",
       "      <td>3300</td>\n",
       "      <td>3000</td>\n",
       "      <td>2019-03-15 00:00:00</td>\n",
       "      <td>300</td>\n",
       "    </tr>\n",
       "    <tr>\n",
       "      <th>4</th>\n",
       "      <td>Lackawanna County</td>\n",
       "      <td>2019-03-01</td>\n",
       "      <td>6600</td>\n",
       "      <td>6000</td>\n",
       "      <td>2019-03-15 00:00:00</td>\n",
       "      <td>600</td>\n",
       "    </tr>\n",
       "  </tbody>\n",
       "</table>\n",
       "</div>"
      ],
      "text/plain": [
       "              Customer  Bill Date  Amount  Paid            Paid Date  Balance\n",
       "0           Blue Cross 2019-03-01    9900  9900  2019-03-15 00:00:00        0\n",
       "1         Dunmore High 2019-03-01    6600     0  2019-03-15 00:00:00     6600\n",
       "2  Maguire Advertising 2019-03-01    5775  5000  2019-03-15 00:00:00      775\n",
       "3    Decker Automotive 2019-03-01    3300  3000  2019-03-15 00:00:00      300\n",
       "4    Lackawanna County 2019-03-01    6600  6000  2019-03-15 00:00:00      600"
      ]
     },
     "execution_count": 331,
     "metadata": {},
     "output_type": "execute_result"
    }
   ],
   "source": [
    "df_a.head()"
   ]
  },
  {
   "cell_type": "code",
   "execution_count": 332,
   "metadata": {},
   "outputs": [
    {
     "data": {
      "text/plain": [
       "0    3\n",
       "1    3\n",
       "2    3\n",
       "Name: Bill Date, dtype: int64"
      ]
     },
     "execution_count": 332,
     "metadata": {},
     "output_type": "execute_result"
    }
   ],
   "source": [
    "df_a['Bill Date'].dt.month.head(3)"
   ]
  },
  {
   "cell_type": "code",
   "execution_count": 336,
   "metadata": {},
   "outputs": [
    {
     "data": {
      "text/plain": [
       "0    1\n",
       "1    1\n",
       "2    1\n",
       "Name: Bill Date, dtype: int64"
      ]
     },
     "execution_count": 336,
     "metadata": {},
     "output_type": "execute_result"
    }
   ],
   "source": [
    "df_a['Bill Date'].dt.day.head(3)"
   ]
  },
  {
   "cell_type": "code",
   "execution_count": 338,
   "metadata": {},
   "outputs": [
    {
     "data": {
      "text/plain": [
       "0    00:00:00\n",
       "1    00:00:00\n",
       "2    00:00:00\n",
       "3    00:00:00\n",
       "4    00:00:00\n",
       "Name: Bill Date, dtype: object"
      ]
     },
     "execution_count": 338,
     "metadata": {},
     "output_type": "execute_result"
    }
   ],
   "source": [
    "df_a['Bill Date'].dt.time.head()"
   ]
  },
  {
   "cell_type": "code",
   "execution_count": 342,
   "metadata": {},
   "outputs": [
    {
     "data": {
      "text/plain": [
       "[datetime.datetime(2019, 3, 15, 0, 0),\n",
       " datetime.datetime(2019, 3, 15, 0, 0),\n",
       " datetime.datetime(2019, 3, 15, 0, 0)]"
      ]
     },
     "execution_count": 342,
     "metadata": {},
     "output_type": "execute_result"
    }
   ],
   "source": [
    "list(df_a['Paid Date'])[:3]"
   ]
  },
  {
   "cell_type": "code",
   "execution_count": 345,
   "metadata": {},
   "outputs": [],
   "source": [
    "today_date = \"July 9, 2020\""
   ]
  },
  {
   "cell_type": "code",
   "execution_count": 346,
   "metadata": {},
   "outputs": [
    {
     "data": {
      "text/plain": [
       "Timestamp('2020-07-09 00:00:00')"
      ]
     },
     "execution_count": 346,
     "metadata": {},
     "output_type": "execute_result"
    }
   ],
   "source": [
    "pd.to_datetime(today_date)"
   ]
  },
  {
   "cell_type": "code",
   "execution_count": 348,
   "metadata": {},
   "outputs": [],
   "source": [
    "#have blank dates with - use coerce! to push to NaT \n",
    "df_a['Paid Date']=pd.to_datetime(df_a['Paid Date'], errors ='coerce')"
   ]
  },
  {
   "cell_type": "code",
   "execution_count": 355,
   "metadata": {},
   "outputs": [
    {
     "data": {
      "text/html": [
       "<div>\n",
       "<style scoped>\n",
       "    .dataframe tbody tr th:only-of-type {\n",
       "        vertical-align: middle;\n",
       "    }\n",
       "\n",
       "    .dataframe tbody tr th {\n",
       "        vertical-align: top;\n",
       "    }\n",
       "\n",
       "    .dataframe thead th {\n",
       "        text-align: right;\n",
       "    }\n",
       "</style>\n",
       "<table border=\"1\" class=\"dataframe\">\n",
       "  <thead>\n",
       "    <tr style=\"text-align: right;\">\n",
       "      <th></th>\n",
       "      <th>Customer</th>\n",
       "      <th>Bill Date</th>\n",
       "      <th>Amount</th>\n",
       "      <th>Paid</th>\n",
       "      <th>Paid Date</th>\n",
       "      <th>Balance</th>\n",
       "    </tr>\n",
       "  </thead>\n",
       "  <tbody>\n",
       "    <tr>\n",
       "      <th>0</th>\n",
       "      <td>Blue Cross</td>\n",
       "      <td>2019-03-01</td>\n",
       "      <td>9900</td>\n",
       "      <td>9900</td>\n",
       "      <td>2019-03-15</td>\n",
       "      <td>0</td>\n",
       "    </tr>\n",
       "    <tr>\n",
       "      <th>1</th>\n",
       "      <td>Dunmore High</td>\n",
       "      <td>2019-03-01</td>\n",
       "      <td>6600</td>\n",
       "      <td>0</td>\n",
       "      <td>2019-03-15</td>\n",
       "      <td>6600</td>\n",
       "    </tr>\n",
       "    <tr>\n",
       "      <th>2</th>\n",
       "      <td>Maguire Advertising</td>\n",
       "      <td>2019-03-01</td>\n",
       "      <td>5775</td>\n",
       "      <td>5000</td>\n",
       "      <td>2019-03-15</td>\n",
       "      <td>775</td>\n",
       "    </tr>\n",
       "    <tr>\n",
       "      <th>3</th>\n",
       "      <td>Decker Automotive</td>\n",
       "      <td>2019-03-01</td>\n",
       "      <td>3300</td>\n",
       "      <td>3000</td>\n",
       "      <td>2019-03-15</td>\n",
       "      <td>300</td>\n",
       "    </tr>\n",
       "    <tr>\n",
       "      <th>4</th>\n",
       "      <td>Lackawanna County</td>\n",
       "      <td>2019-03-01</td>\n",
       "      <td>6600</td>\n",
       "      <td>6000</td>\n",
       "      <td>2019-03-15</td>\n",
       "      <td>600</td>\n",
       "    </tr>\n",
       "  </tbody>\n",
       "</table>\n",
       "</div>"
      ],
      "text/plain": [
       "              Customer  Bill Date  Amount  Paid  Paid Date  Balance\n",
       "0           Blue Cross 2019-03-01    9900  9900 2019-03-15        0\n",
       "1         Dunmore High 2019-03-01    6600     0 2019-03-15     6600\n",
       "2  Maguire Advertising 2019-03-01    5775  5000 2019-03-15      775\n",
       "3    Decker Automotive 2019-03-01    3300  3000 2019-03-15      300\n",
       "4    Lackawanna County 2019-03-01    6600  6000 2019-03-15      600"
      ]
     },
     "execution_count": 355,
     "metadata": {},
     "output_type": "execute_result"
    }
   ],
   "source": [
    "df_a.head()"
   ]
  },
  {
   "cell_type": "code",
   "execution_count": 356,
   "metadata": {},
   "outputs": [],
   "source": [
    "df_a['New TAT'] = df_a['Paid Date'] - df_a['Bill Date']"
   ]
  },
  {
   "cell_type": "code",
   "execution_count": 357,
   "metadata": {},
   "outputs": [
    {
     "data": {
      "text/html": [
       "<div>\n",
       "<style scoped>\n",
       "    .dataframe tbody tr th:only-of-type {\n",
       "        vertical-align: middle;\n",
       "    }\n",
       "\n",
       "    .dataframe tbody tr th {\n",
       "        vertical-align: top;\n",
       "    }\n",
       "\n",
       "    .dataframe thead th {\n",
       "        text-align: right;\n",
       "    }\n",
       "</style>\n",
       "<table border=\"1\" class=\"dataframe\">\n",
       "  <thead>\n",
       "    <tr style=\"text-align: right;\">\n",
       "      <th></th>\n",
       "      <th>Customer</th>\n",
       "      <th>Bill Date</th>\n",
       "      <th>Amount</th>\n",
       "      <th>Paid</th>\n",
       "      <th>Paid Date</th>\n",
       "      <th>Balance</th>\n",
       "      <th>New TAT</th>\n",
       "    </tr>\n",
       "  </thead>\n",
       "  <tbody>\n",
       "    <tr>\n",
       "      <th>0</th>\n",
       "      <td>Blue Cross</td>\n",
       "      <td>2019-03-01</td>\n",
       "      <td>9900</td>\n",
       "      <td>9900</td>\n",
       "      <td>2019-03-15</td>\n",
       "      <td>0</td>\n",
       "      <td>14 days</td>\n",
       "    </tr>\n",
       "    <tr>\n",
       "      <th>1</th>\n",
       "      <td>Dunmore High</td>\n",
       "      <td>2019-03-01</td>\n",
       "      <td>6600</td>\n",
       "      <td>0</td>\n",
       "      <td>2019-03-15</td>\n",
       "      <td>6600</td>\n",
       "      <td>14 days</td>\n",
       "    </tr>\n",
       "    <tr>\n",
       "      <th>2</th>\n",
       "      <td>Maguire Advertising</td>\n",
       "      <td>2019-03-01</td>\n",
       "      <td>5775</td>\n",
       "      <td>5000</td>\n",
       "      <td>2019-03-15</td>\n",
       "      <td>775</td>\n",
       "      <td>14 days</td>\n",
       "    </tr>\n",
       "    <tr>\n",
       "      <th>3</th>\n",
       "      <td>Decker Automotive</td>\n",
       "      <td>2019-03-01</td>\n",
       "      <td>3300</td>\n",
       "      <td>3000</td>\n",
       "      <td>2019-03-15</td>\n",
       "      <td>300</td>\n",
       "      <td>14 days</td>\n",
       "    </tr>\n",
       "    <tr>\n",
       "      <th>4</th>\n",
       "      <td>Lackawanna County</td>\n",
       "      <td>2019-03-01</td>\n",
       "      <td>6600</td>\n",
       "      <td>6000</td>\n",
       "      <td>2019-03-15</td>\n",
       "      <td>600</td>\n",
       "      <td>14 days</td>\n",
       "    </tr>\n",
       "  </tbody>\n",
       "</table>\n",
       "</div>"
      ],
      "text/plain": [
       "              Customer  Bill Date  Amount  Paid  Paid Date  Balance New TAT\n",
       "0           Blue Cross 2019-03-01    9900  9900 2019-03-15        0 14 days\n",
       "1         Dunmore High 2019-03-01    6600     0 2019-03-15     6600 14 days\n",
       "2  Maguire Advertising 2019-03-01    5775  5000 2019-03-15      775 14 days\n",
       "3    Decker Automotive 2019-03-01    3300  3000 2019-03-15      300 14 days\n",
       "4    Lackawanna County 2019-03-01    6600  6000 2019-03-15      600 14 days"
      ]
     },
     "execution_count": 357,
     "metadata": {},
     "output_type": "execute_result"
    }
   ],
   "source": [
    "df_a.head()  #new TAT is string obj "
   ]
  },
  {
   "cell_type": "code",
   "execution_count": 358,
   "metadata": {},
   "outputs": [],
   "source": [
    "df_a['New TAT'] = df_a['New TAT'] / pd.to_timedelta(1, unit='D')"
   ]
  },
  {
   "cell_type": "code",
   "execution_count": 359,
   "metadata": {},
   "outputs": [
    {
     "name": "stdout",
     "output_type": "stream",
     "text": [
      "<class 'pandas.core.frame.DataFrame'>\n",
      "RangeIndex: 60 entries, 0 to 59\n",
      "Data columns (total 7 columns):\n",
      " #   Column     Non-Null Count  Dtype         \n",
      "---  ------     --------------  -----         \n",
      " 0   Customer   60 non-null     object        \n",
      " 1   Bill Date  60 non-null     datetime64[ns]\n",
      " 2   Amount     60 non-null     int64         \n",
      " 3   Paid       60 non-null     int64         \n",
      " 4   Paid Date  58 non-null     datetime64[ns]\n",
      " 5   Balance    60 non-null     int64         \n",
      " 6   New TAT    58 non-null     float64       \n",
      "dtypes: datetime64[ns](2), float64(1), int64(3), object(1)\n",
      "memory usage: 3.4+ KB\n"
     ]
    }
   ],
   "source": [
    "df_a.info()"
   ]
  },
  {
   "cell_type": "code",
   "execution_count": 360,
   "metadata": {},
   "outputs": [],
   "source": [
    "df_a['Mont'] = df_a['Bill Date'].dt.strftime('%B') #do last cant convert \n"
   ]
  },
  {
   "cell_type": "code",
   "execution_count": 362,
   "metadata": {},
   "outputs": [
    {
     "data": {
      "text/html": [
       "<div>\n",
       "<style scoped>\n",
       "    .dataframe tbody tr th:only-of-type {\n",
       "        vertical-align: middle;\n",
       "    }\n",
       "\n",
       "    .dataframe tbody tr th {\n",
       "        vertical-align: top;\n",
       "    }\n",
       "\n",
       "    .dataframe thead th {\n",
       "        text-align: right;\n",
       "    }\n",
       "</style>\n",
       "<table border=\"1\" class=\"dataframe\">\n",
       "  <thead>\n",
       "    <tr style=\"text-align: right;\">\n",
       "      <th></th>\n",
       "      <th>Customer</th>\n",
       "      <th>Bill Date</th>\n",
       "      <th>Amount</th>\n",
       "      <th>Paid</th>\n",
       "      <th>Paid Date</th>\n",
       "      <th>Balance</th>\n",
       "      <th>New TAT</th>\n",
       "      <th>Mont</th>\n",
       "    </tr>\n",
       "  </thead>\n",
       "  <tbody>\n",
       "    <tr>\n",
       "      <th>0</th>\n",
       "      <td>Blue Cross</td>\n",
       "      <td>2019-03-01</td>\n",
       "      <td>9900</td>\n",
       "      <td>9900</td>\n",
       "      <td>2019-03-15</td>\n",
       "      <td>0</td>\n",
       "      <td>14.0</td>\n",
       "      <td>March</td>\n",
       "    </tr>\n",
       "    <tr>\n",
       "      <th>1</th>\n",
       "      <td>Dunmore High</td>\n",
       "      <td>2019-03-01</td>\n",
       "      <td>6600</td>\n",
       "      <td>0</td>\n",
       "      <td>2019-03-15</td>\n",
       "      <td>6600</td>\n",
       "      <td>14.0</td>\n",
       "      <td>March</td>\n",
       "    </tr>\n",
       "    <tr>\n",
       "      <th>2</th>\n",
       "      <td>Maguire Advertising</td>\n",
       "      <td>2019-03-01</td>\n",
       "      <td>5775</td>\n",
       "      <td>5000</td>\n",
       "      <td>2019-03-15</td>\n",
       "      <td>775</td>\n",
       "      <td>14.0</td>\n",
       "      <td>March</td>\n",
       "    </tr>\n",
       "    <tr>\n",
       "      <th>3</th>\n",
       "      <td>Decker Automotive</td>\n",
       "      <td>2019-03-01</td>\n",
       "      <td>3300</td>\n",
       "      <td>3000</td>\n",
       "      <td>2019-03-15</td>\n",
       "      <td>300</td>\n",
       "      <td>14.0</td>\n",
       "      <td>March</td>\n",
       "    </tr>\n",
       "    <tr>\n",
       "      <th>4</th>\n",
       "      <td>Lackawanna County</td>\n",
       "      <td>2019-03-01</td>\n",
       "      <td>6600</td>\n",
       "      <td>6000</td>\n",
       "      <td>2019-03-15</td>\n",
       "      <td>600</td>\n",
       "      <td>14.0</td>\n",
       "      <td>March</td>\n",
       "    </tr>\n",
       "  </tbody>\n",
       "</table>\n",
       "</div>"
      ],
      "text/plain": [
       "              Customer  Bill Date  Amount  Paid  Paid Date  Balance  New TAT  \\\n",
       "0           Blue Cross 2019-03-01    9900  9900 2019-03-15        0     14.0   \n",
       "1         Dunmore High 2019-03-01    6600     0 2019-03-15     6600     14.0   \n",
       "2  Maguire Advertising 2019-03-01    5775  5000 2019-03-15      775     14.0   \n",
       "3    Decker Automotive 2019-03-01    3300  3000 2019-03-15      300     14.0   \n",
       "4    Lackawanna County 2019-03-01    6600  6000 2019-03-15      600     14.0   \n",
       "\n",
       "    Mont  \n",
       "0  March  \n",
       "1  March  \n",
       "2  March  \n",
       "3  March  \n",
       "4  March  "
      ]
     },
     "execution_count": 362,
     "metadata": {},
     "output_type": "execute_result"
    }
   ],
   "source": [
    "df_a.head()"
   ]
  },
  {
   "cell_type": "code",
   "execution_count": 364,
   "metadata": {},
   "outputs": [
    {
     "ename": "AttributeError",
     "evalue": "Can only use .dt accessor with datetimelike values",
     "output_type": "error",
     "traceback": [
      "\u001b[1;31m---------------------------------------------------------------------------\u001b[0m",
      "\u001b[1;31mAttributeError\u001b[0m                            Traceback (most recent call last)",
      "\u001b[1;32m<ipython-input-364-d92c40f46888>\u001b[0m in \u001b[0;36m<module>\u001b[1;34m\u001b[0m\n\u001b[1;32m----> 1\u001b[1;33m \u001b[0mdf_a\u001b[0m\u001b[1;33m[\u001b[0m\u001b[1;34m'Bill Date'\u001b[0m\u001b[1;33m]\u001b[0m \u001b[1;33m=\u001b[0m \u001b[0mdf_a\u001b[0m\u001b[1;33m[\u001b[0m\u001b[1;34m'Bill Date'\u001b[0m\u001b[1;33m]\u001b[0m\u001b[1;33m.\u001b[0m\u001b[0mdt\u001b[0m\u001b[1;33m.\u001b[0m\u001b[0mmonth\u001b[0m\u001b[1;33m\u001b[0m\u001b[1;33m\u001b[0m\u001b[0m\n\u001b[0m",
      "\u001b[1;32mc:\\python37\\idea1\\lib\\site-packages\\pandas\\core\\generic.py\u001b[0m in \u001b[0;36m__getattr__\u001b[1;34m(self, name)\u001b[0m\n\u001b[0;32m   5268\u001b[0m             \u001b[1;32mor\u001b[0m \u001b[0mname\u001b[0m \u001b[1;32min\u001b[0m \u001b[0mself\u001b[0m\u001b[1;33m.\u001b[0m\u001b[0m_accessors\u001b[0m\u001b[1;33m\u001b[0m\u001b[1;33m\u001b[0m\u001b[0m\n\u001b[0;32m   5269\u001b[0m         ):\n\u001b[1;32m-> 5270\u001b[1;33m             \u001b[1;32mreturn\u001b[0m \u001b[0mobject\u001b[0m\u001b[1;33m.\u001b[0m\u001b[0m__getattribute__\u001b[0m\u001b[1;33m(\u001b[0m\u001b[0mself\u001b[0m\u001b[1;33m,\u001b[0m \u001b[0mname\u001b[0m\u001b[1;33m)\u001b[0m\u001b[1;33m\u001b[0m\u001b[1;33m\u001b[0m\u001b[0m\n\u001b[0m\u001b[0;32m   5271\u001b[0m         \u001b[1;32melse\u001b[0m\u001b[1;33m:\u001b[0m\u001b[1;33m\u001b[0m\u001b[1;33m\u001b[0m\u001b[0m\n\u001b[0;32m   5272\u001b[0m             \u001b[1;32mif\u001b[0m \u001b[0mself\u001b[0m\u001b[1;33m.\u001b[0m\u001b[0m_info_axis\u001b[0m\u001b[1;33m.\u001b[0m\u001b[0m_can_hold_identifiers_and_holds_name\u001b[0m\u001b[1;33m(\u001b[0m\u001b[0mname\u001b[0m\u001b[1;33m)\u001b[0m\u001b[1;33m:\u001b[0m\u001b[1;33m\u001b[0m\u001b[1;33m\u001b[0m\u001b[0m\n",
      "\u001b[1;32mc:\\python37\\idea1\\lib\\site-packages\\pandas\\core\\accessor.py\u001b[0m in \u001b[0;36m__get__\u001b[1;34m(self, obj, cls)\u001b[0m\n\u001b[0;32m    185\u001b[0m             \u001b[1;31m# we're accessing the attribute of the class, i.e., Dataset.geo\u001b[0m\u001b[1;33m\u001b[0m\u001b[1;33m\u001b[0m\u001b[1;33m\u001b[0m\u001b[0m\n\u001b[0;32m    186\u001b[0m             \u001b[1;32mreturn\u001b[0m \u001b[0mself\u001b[0m\u001b[1;33m.\u001b[0m\u001b[0m_accessor\u001b[0m\u001b[1;33m\u001b[0m\u001b[1;33m\u001b[0m\u001b[0m\n\u001b[1;32m--> 187\u001b[1;33m         \u001b[0maccessor_obj\u001b[0m \u001b[1;33m=\u001b[0m \u001b[0mself\u001b[0m\u001b[1;33m.\u001b[0m\u001b[0m_accessor\u001b[0m\u001b[1;33m(\u001b[0m\u001b[0mobj\u001b[0m\u001b[1;33m)\u001b[0m\u001b[1;33m\u001b[0m\u001b[1;33m\u001b[0m\u001b[0m\n\u001b[0m\u001b[0;32m    188\u001b[0m         \u001b[1;31m# Replace the property with the accessor object. Inspired by:\u001b[0m\u001b[1;33m\u001b[0m\u001b[1;33m\u001b[0m\u001b[1;33m\u001b[0m\u001b[0m\n\u001b[0;32m    189\u001b[0m         \u001b[1;31m# http://www.pydanny.com/cached-property.html\u001b[0m\u001b[1;33m\u001b[0m\u001b[1;33m\u001b[0m\u001b[1;33m\u001b[0m\u001b[0m\n",
      "\u001b[1;32mc:\\python37\\idea1\\lib\\site-packages\\pandas\\core\\indexes\\accessors.py\u001b[0m in \u001b[0;36m__new__\u001b[1;34m(cls, data)\u001b[0m\n\u001b[0;32m    336\u001b[0m             \u001b[1;32mreturn\u001b[0m \u001b[0mDatetimeProperties\u001b[0m\u001b[1;33m(\u001b[0m\u001b[0mdata\u001b[0m\u001b[1;33m,\u001b[0m \u001b[0morig\u001b[0m\u001b[1;33m)\u001b[0m\u001b[1;33m\u001b[0m\u001b[1;33m\u001b[0m\u001b[0m\n\u001b[0;32m    337\u001b[0m \u001b[1;33m\u001b[0m\u001b[0m\n\u001b[1;32m--> 338\u001b[1;33m         \u001b[1;32mraise\u001b[0m \u001b[0mAttributeError\u001b[0m\u001b[1;33m(\u001b[0m\u001b[1;34m\"Can only use .dt accessor with datetimelike values\"\u001b[0m\u001b[1;33m)\u001b[0m\u001b[1;33m\u001b[0m\u001b[1;33m\u001b[0m\u001b[0m\n\u001b[0m",
      "\u001b[1;31mAttributeError\u001b[0m: Can only use .dt accessor with datetimelike values"
     ]
    }
   ],
   "source": [
    "df_a['Bill Date'] = df_a['Bill Date'].dt.month"
   ]
  },
  {
   "cell_type": "code",
   "execution_count": 366,
   "metadata": {},
   "outputs": [
    {
     "data": {
      "text/html": [
       "<div>\n",
       "<style scoped>\n",
       "    .dataframe tbody tr th:only-of-type {\n",
       "        vertical-align: middle;\n",
       "    }\n",
       "\n",
       "    .dataframe tbody tr th {\n",
       "        vertical-align: top;\n",
       "    }\n",
       "\n",
       "    .dataframe thead th {\n",
       "        text-align: right;\n",
       "    }\n",
       "</style>\n",
       "<table border=\"1\" class=\"dataframe\">\n",
       "  <thead>\n",
       "    <tr style=\"text-align: right;\">\n",
       "      <th></th>\n",
       "      <th>Customer</th>\n",
       "      <th>Bill Date</th>\n",
       "      <th>Amount</th>\n",
       "      <th>Paid</th>\n",
       "      <th>Paid Date</th>\n",
       "      <th>Balance</th>\n",
       "      <th>New TAT</th>\n",
       "      <th>Mont</th>\n",
       "    </tr>\n",
       "  </thead>\n",
       "  <tbody>\n",
       "    <tr>\n",
       "      <th>0</th>\n",
       "      <td>Blue Cross</td>\n",
       "      <td>3</td>\n",
       "      <td>9900</td>\n",
       "      <td>9900</td>\n",
       "      <td>2019-03-15</td>\n",
       "      <td>0</td>\n",
       "      <td>14.0</td>\n",
       "      <td>March</td>\n",
       "    </tr>\n",
       "    <tr>\n",
       "      <th>1</th>\n",
       "      <td>Dunmore High</td>\n",
       "      <td>3</td>\n",
       "      <td>6600</td>\n",
       "      <td>0</td>\n",
       "      <td>2019-03-15</td>\n",
       "      <td>6600</td>\n",
       "      <td>14.0</td>\n",
       "      <td>March</td>\n",
       "    </tr>\n",
       "    <tr>\n",
       "      <th>2</th>\n",
       "      <td>Maguire Advertising</td>\n",
       "      <td>3</td>\n",
       "      <td>5775</td>\n",
       "      <td>5000</td>\n",
       "      <td>2019-03-15</td>\n",
       "      <td>775</td>\n",
       "      <td>14.0</td>\n",
       "      <td>March</td>\n",
       "    </tr>\n",
       "    <tr>\n",
       "      <th>3</th>\n",
       "      <td>Decker Automotive</td>\n",
       "      <td>3</td>\n",
       "      <td>3300</td>\n",
       "      <td>3000</td>\n",
       "      <td>2019-03-15</td>\n",
       "      <td>300</td>\n",
       "      <td>14.0</td>\n",
       "      <td>March</td>\n",
       "    </tr>\n",
       "    <tr>\n",
       "      <th>4</th>\n",
       "      <td>Lackawanna County</td>\n",
       "      <td>3</td>\n",
       "      <td>6600</td>\n",
       "      <td>6000</td>\n",
       "      <td>2019-03-15</td>\n",
       "      <td>600</td>\n",
       "      <td>14.0</td>\n",
       "      <td>March</td>\n",
       "    </tr>\n",
       "  </tbody>\n",
       "</table>\n",
       "</div>"
      ],
      "text/plain": [
       "              Customer  Bill Date  Amount  Paid  Paid Date  Balance  New TAT  \\\n",
       "0           Blue Cross          3    9900  9900 2019-03-15        0     14.0   \n",
       "1         Dunmore High          3    6600     0 2019-03-15     6600     14.0   \n",
       "2  Maguire Advertising          3    5775  5000 2019-03-15      775     14.0   \n",
       "3    Decker Automotive          3    3300  3000 2019-03-15      300     14.0   \n",
       "4    Lackawanna County          3    6600  6000 2019-03-15      600     14.0   \n",
       "\n",
       "    Mont  \n",
       "0  March  \n",
       "1  March  \n",
       "2  March  \n",
       "3  March  \n",
       "4  March  "
      ]
     },
     "execution_count": 366,
     "metadata": {},
     "output_type": "execute_result"
    }
   ],
   "source": [
    "df_a.head()"
   ]
  },
  {
   "cell_type": "code",
   "execution_count": 378,
   "metadata": {},
   "outputs": [],
   "source": [
    "#need to use existing columns \n",
    "customer_summary = df_a.groupby(['Bill Date','Mont','Customer'], as_index=False).agg \\\n",
    "({\n",
    "    'Amount':[sum], \n",
    "    'Paid': [sum], \n",
    "    'Balance': [sum], \n",
    "    'New TAT': [\"mean\"]\n",
    "})"
   ]
  },
  {
   "cell_type": "code",
   "execution_count": 379,
   "metadata": {},
   "outputs": [
    {
     "data": {
      "text/html": [
       "<div>\n",
       "<style scoped>\n",
       "    .dataframe tbody tr th:only-of-type {\n",
       "        vertical-align: middle;\n",
       "    }\n",
       "\n",
       "    .dataframe tbody tr th {\n",
       "        vertical-align: top;\n",
       "    }\n",
       "\n",
       "    .dataframe thead tr th {\n",
       "        text-align: left;\n",
       "    }\n",
       "</style>\n",
       "<table border=\"1\" class=\"dataframe\">\n",
       "  <thead>\n",
       "    <tr>\n",
       "      <th></th>\n",
       "      <th>Bill Date</th>\n",
       "      <th>Mont</th>\n",
       "      <th>Customer</th>\n",
       "      <th>Amount</th>\n",
       "      <th>Paid</th>\n",
       "      <th>Balance</th>\n",
       "      <th>New TAT</th>\n",
       "    </tr>\n",
       "    <tr>\n",
       "      <th></th>\n",
       "      <th></th>\n",
       "      <th></th>\n",
       "      <th></th>\n",
       "      <th>sum</th>\n",
       "      <th>sum</th>\n",
       "      <th>sum</th>\n",
       "      <th>mean</th>\n",
       "    </tr>\n",
       "  </thead>\n",
       "  <tbody>\n",
       "    <tr>\n",
       "      <th>0</th>\n",
       "      <td>3</td>\n",
       "      <td>March</td>\n",
       "      <td>Apex Technology</td>\n",
       "      <td>2475</td>\n",
       "      <td>2400</td>\n",
       "      <td>75</td>\n",
       "      <td>17.0</td>\n",
       "    </tr>\n",
       "    <tr>\n",
       "      <th>1</th>\n",
       "      <td>3</td>\n",
       "      <td>March</td>\n",
       "      <td>Barbara Allen</td>\n",
       "      <td>2475</td>\n",
       "      <td>2475</td>\n",
       "      <td>0</td>\n",
       "      <td>17.0</td>\n",
       "    </tr>\n",
       "    <tr>\n",
       "      <th>2</th>\n",
       "      <td>3</td>\n",
       "      <td>March</td>\n",
       "      <td>Blue Cross</td>\n",
       "      <td>9900</td>\n",
       "      <td>9900</td>\n",
       "      <td>0</td>\n",
       "      <td>14.0</td>\n",
       "    </tr>\n",
       "    <tr>\n",
       "      <th>3</th>\n",
       "      <td>3</td>\n",
       "      <td>March</td>\n",
       "      <td>Bob Vance</td>\n",
       "      <td>2475</td>\n",
       "      <td>2475</td>\n",
       "      <td>0</td>\n",
       "      <td>17.0</td>\n",
       "    </tr>\n",
       "    <tr>\n",
       "      <th>4</th>\n",
       "      <td>3</td>\n",
       "      <td>March</td>\n",
       "      <td>Decker Automotive</td>\n",
       "      <td>3300</td>\n",
       "      <td>3000</td>\n",
       "      <td>300</td>\n",
       "      <td>14.0</td>\n",
       "    </tr>\n",
       "  </tbody>\n",
       "</table>\n",
       "</div>"
      ],
      "text/plain": [
       "  Bill Date   Mont           Customer Amount  Paid Balance New TAT\n",
       "                                         sum   sum     sum    mean\n",
       "0         3  March    Apex Technology   2475  2400      75    17.0\n",
       "1         3  March      Barbara Allen   2475  2475       0    17.0\n",
       "2         3  March         Blue Cross   9900  9900       0    14.0\n",
       "3         3  March          Bob Vance   2475  2475       0    17.0\n",
       "4         3  March  Decker Automotive   3300  3000     300    14.0"
      ]
     },
     "execution_count": 379,
     "metadata": {},
     "output_type": "execute_result"
    }
   ],
   "source": [
    "customer_summary.head()"
   ]
  },
  {
   "cell_type": "code",
   "execution_count": 380,
   "metadata": {},
   "outputs": [
    {
     "data": {
      "text/plain": [
       "MultiIndex([('Bill Date',     ''),\n",
       "            (     'Mont',     ''),\n",
       "            ( 'Customer',     ''),\n",
       "            (   'Amount',  'sum'),\n",
       "            (     'Paid',  'sum'),\n",
       "            (  'Balance',  'sum'),\n",
       "            (  'New TAT', 'mean')],\n",
       "           )"
      ]
     },
     "execution_count": 380,
     "metadata": {},
     "output_type": "execute_result"
    }
   ],
   "source": [
    "customer_summary.columns"
   ]
  },
  {
   "cell_type": "code",
   "execution_count": 381,
   "metadata": {},
   "outputs": [],
   "source": [
    "customer_summary.columns = ['Bill Date',\n",
    "                           'Mont', \n",
    "                            'Customer',\n",
    "                           'Total Billed', \n",
    "                           'Total Paid',\n",
    "                           'Balance',\n",
    "                           'Turnaround Time']"
   ]
  },
  {
   "cell_type": "code",
   "execution_count": 382,
   "metadata": {},
   "outputs": [],
   "source": [
    "df_k = frames['Kevin']"
   ]
  },
  {
   "cell_type": "code",
   "execution_count": 384,
   "metadata": {},
   "outputs": [
    {
     "data": {
      "text/html": [
       "<div>\n",
       "<style scoped>\n",
       "    .dataframe tbody tr th:only-of-type {\n",
       "        vertical-align: middle;\n",
       "    }\n",
       "\n",
       "    .dataframe tbody tr th {\n",
       "        vertical-align: top;\n",
       "    }\n",
       "\n",
       "    .dataframe thead th {\n",
       "        text-align: right;\n",
       "    }\n",
       "</style>\n",
       "<table border=\"1\" class=\"dataframe\">\n",
       "  <thead>\n",
       "    <tr style=\"text-align: right;\">\n",
       "      <th></th>\n",
       "      <th>Employee</th>\n",
       "      <th>Date</th>\n",
       "      <th>Expense</th>\n",
       "      <th>Amount Requested</th>\n",
       "      <th>Justification</th>\n",
       "      <th>Amount Paid</th>\n",
       "    </tr>\n",
       "  </thead>\n",
       "  <tbody>\n",
       "    <tr>\n",
       "      <th>0</th>\n",
       "      <td>Michael</td>\n",
       "      <td>2019-03-01</td>\n",
       "      <td>Gas to NY</td>\n",
       "      <td>75</td>\n",
       "      <td>Seeing Jan</td>\n",
       "      <td>75</td>\n",
       "    </tr>\n",
       "    <tr>\n",
       "      <th>1</th>\n",
       "      <td>Michael</td>\n",
       "      <td>2019-03-07</td>\n",
       "      <td>Gas to NY</td>\n",
       "      <td>75</td>\n",
       "      <td>Seeing Jan</td>\n",
       "      <td>75</td>\n",
       "    </tr>\n",
       "    <tr>\n",
       "      <th>2</th>\n",
       "      <td>Michael</td>\n",
       "      <td>2019-03-09</td>\n",
       "      <td>Gas to NY</td>\n",
       "      <td>75</td>\n",
       "      <td>Seeing Jan</td>\n",
       "      <td>75</td>\n",
       "    </tr>\n",
       "    <tr>\n",
       "      <th>3</th>\n",
       "      <td>Darryl</td>\n",
       "      <td>2019-03-01</td>\n",
       "      <td>Food</td>\n",
       "      <td>50</td>\n",
       "      <td>Warehouse Lunch</td>\n",
       "      <td>50</td>\n",
       "    </tr>\n",
       "    <tr>\n",
       "      <th>4</th>\n",
       "      <td>Michael</td>\n",
       "      <td>2019-03-15</td>\n",
       "      <td>Food</td>\n",
       "      <td>200</td>\n",
       "      <td>Dinner with Jan</td>\n",
       "      <td>150</td>\n",
       "    </tr>\n",
       "  </tbody>\n",
       "</table>\n",
       "</div>"
      ],
      "text/plain": [
       "  Employee       Date    Expense  Amount Requested    Justification  \\\n",
       "0  Michael 2019-03-01  Gas to NY                75       Seeing Jan   \n",
       "1  Michael 2019-03-07  Gas to NY                75       Seeing Jan   \n",
       "2  Michael 2019-03-09  Gas to NY                75       Seeing Jan   \n",
       "3   Darryl 2019-03-01       Food                50  Warehouse Lunch   \n",
       "4  Michael 2019-03-15       Food               200  Dinner with Jan   \n",
       "\n",
       "   Amount Paid  \n",
       "0           75  \n",
       "1           75  \n",
       "2           75  \n",
       "3           50  \n",
       "4          150  "
      ]
     },
     "execution_count": 384,
     "metadata": {},
     "output_type": "execute_result"
    }
   ],
   "source": [
    "df_k.head()"
   ]
  },
  {
   "cell_type": "code",
   "execution_count": 385,
   "metadata": {},
   "outputs": [],
   "source": [
    "df_k['Month']=df_k['Date'].dt.strftime('%B')"
   ]
  },
  {
   "cell_type": "code",
   "execution_count": 387,
   "metadata": {},
   "outputs": [
    {
     "data": {
      "text/html": [
       "<div>\n",
       "<style scoped>\n",
       "    .dataframe tbody tr th:only-of-type {\n",
       "        vertical-align: middle;\n",
       "    }\n",
       "\n",
       "    .dataframe tbody tr th {\n",
       "        vertical-align: top;\n",
       "    }\n",
       "\n",
       "    .dataframe thead th {\n",
       "        text-align: right;\n",
       "    }\n",
       "</style>\n",
       "<table border=\"1\" class=\"dataframe\">\n",
       "  <thead>\n",
       "    <tr style=\"text-align: right;\">\n",
       "      <th></th>\n",
       "      <th>Employee</th>\n",
       "      <th>Date</th>\n",
       "      <th>Expense</th>\n",
       "      <th>Amount Requested</th>\n",
       "      <th>Justification</th>\n",
       "      <th>Amount Paid</th>\n",
       "      <th>Month</th>\n",
       "    </tr>\n",
       "  </thead>\n",
       "  <tbody>\n",
       "    <tr>\n",
       "      <th>0</th>\n",
       "      <td>Michael</td>\n",
       "      <td>2019-03-01</td>\n",
       "      <td>Gas to NY</td>\n",
       "      <td>75</td>\n",
       "      <td>Seeing Jan</td>\n",
       "      <td>75</td>\n",
       "      <td>March</td>\n",
       "    </tr>\n",
       "    <tr>\n",
       "      <th>1</th>\n",
       "      <td>Michael</td>\n",
       "      <td>2019-03-07</td>\n",
       "      <td>Gas to NY</td>\n",
       "      <td>75</td>\n",
       "      <td>Seeing Jan</td>\n",
       "      <td>75</td>\n",
       "      <td>March</td>\n",
       "    </tr>\n",
       "    <tr>\n",
       "      <th>2</th>\n",
       "      <td>Michael</td>\n",
       "      <td>2019-03-09</td>\n",
       "      <td>Gas to NY</td>\n",
       "      <td>75</td>\n",
       "      <td>Seeing Jan</td>\n",
       "      <td>75</td>\n",
       "      <td>March</td>\n",
       "    </tr>\n",
       "    <tr>\n",
       "      <th>3</th>\n",
       "      <td>Darryl</td>\n",
       "      <td>2019-03-01</td>\n",
       "      <td>Food</td>\n",
       "      <td>50</td>\n",
       "      <td>Warehouse Lunch</td>\n",
       "      <td>50</td>\n",
       "      <td>March</td>\n",
       "    </tr>\n",
       "    <tr>\n",
       "      <th>4</th>\n",
       "      <td>Michael</td>\n",
       "      <td>2019-03-15</td>\n",
       "      <td>Food</td>\n",
       "      <td>200</td>\n",
       "      <td>Dinner with Jan</td>\n",
       "      <td>150</td>\n",
       "      <td>March</td>\n",
       "    </tr>\n",
       "  </tbody>\n",
       "</table>\n",
       "</div>"
      ],
      "text/plain": [
       "  Employee       Date    Expense  Amount Requested    Justification  \\\n",
       "0  Michael 2019-03-01  Gas to NY                75       Seeing Jan   \n",
       "1  Michael 2019-03-07  Gas to NY                75       Seeing Jan   \n",
       "2  Michael 2019-03-09  Gas to NY                75       Seeing Jan   \n",
       "3   Darryl 2019-03-01       Food                50  Warehouse Lunch   \n",
       "4  Michael 2019-03-15       Food               200  Dinner with Jan   \n",
       "\n",
       "   Amount Paid  Month  \n",
       "0           75  March  \n",
       "1           75  March  \n",
       "2           75  March  \n",
       "3           50  March  \n",
       "4          150  March  "
      ]
     },
     "execution_count": 387,
     "metadata": {},
     "output_type": "execute_result"
    }
   ],
   "source": [
    "df_k.head()"
   ]
  },
  {
   "cell_type": "code",
   "execution_count": 388,
   "metadata": {},
   "outputs": [],
   "source": [
    "#get mont col \n",
    "df_k['Date']=df_k['Date'].dt.month"
   ]
  },
  {
   "cell_type": "code",
   "execution_count": 390,
   "metadata": {},
   "outputs": [
    {
     "data": {
      "text/html": [
       "<div>\n",
       "<style scoped>\n",
       "    .dataframe tbody tr th:only-of-type {\n",
       "        vertical-align: middle;\n",
       "    }\n",
       "\n",
       "    .dataframe tbody tr th {\n",
       "        vertical-align: top;\n",
       "    }\n",
       "\n",
       "    .dataframe thead th {\n",
       "        text-align: right;\n",
       "    }\n",
       "</style>\n",
       "<table border=\"1\" class=\"dataframe\">\n",
       "  <thead>\n",
       "    <tr style=\"text-align: right;\">\n",
       "      <th></th>\n",
       "      <th>Employee</th>\n",
       "      <th>Date</th>\n",
       "      <th>Expense</th>\n",
       "      <th>Amount Requested</th>\n",
       "      <th>Justification</th>\n",
       "      <th>Amount Paid</th>\n",
       "      <th>Month</th>\n",
       "    </tr>\n",
       "  </thead>\n",
       "  <tbody>\n",
       "    <tr>\n",
       "      <th>0</th>\n",
       "      <td>Michael</td>\n",
       "      <td>3</td>\n",
       "      <td>Gas to NY</td>\n",
       "      <td>75</td>\n",
       "      <td>Seeing Jan</td>\n",
       "      <td>75</td>\n",
       "      <td>March</td>\n",
       "    </tr>\n",
       "    <tr>\n",
       "      <th>1</th>\n",
       "      <td>Michael</td>\n",
       "      <td>3</td>\n",
       "      <td>Gas to NY</td>\n",
       "      <td>75</td>\n",
       "      <td>Seeing Jan</td>\n",
       "      <td>75</td>\n",
       "      <td>March</td>\n",
       "    </tr>\n",
       "    <tr>\n",
       "      <th>2</th>\n",
       "      <td>Michael</td>\n",
       "      <td>3</td>\n",
       "      <td>Gas to NY</td>\n",
       "      <td>75</td>\n",
       "      <td>Seeing Jan</td>\n",
       "      <td>75</td>\n",
       "      <td>March</td>\n",
       "    </tr>\n",
       "    <tr>\n",
       "      <th>3</th>\n",
       "      <td>Darryl</td>\n",
       "      <td>3</td>\n",
       "      <td>Food</td>\n",
       "      <td>50</td>\n",
       "      <td>Warehouse Lunch</td>\n",
       "      <td>50</td>\n",
       "      <td>March</td>\n",
       "    </tr>\n",
       "    <tr>\n",
       "      <th>4</th>\n",
       "      <td>Michael</td>\n",
       "      <td>3</td>\n",
       "      <td>Food</td>\n",
       "      <td>200</td>\n",
       "      <td>Dinner with Jan</td>\n",
       "      <td>150</td>\n",
       "      <td>March</td>\n",
       "    </tr>\n",
       "  </tbody>\n",
       "</table>\n",
       "</div>"
      ],
      "text/plain": [
       "  Employee  Date    Expense  Amount Requested    Justification  Amount Paid  \\\n",
       "0  Michael     3  Gas to NY                75       Seeing Jan           75   \n",
       "1  Michael     3  Gas to NY                75       Seeing Jan           75   \n",
       "2  Michael     3  Gas to NY                75       Seeing Jan           75   \n",
       "3   Darryl     3       Food                50  Warehouse Lunch           50   \n",
       "4  Michael     3       Food               200  Dinner with Jan          150   \n",
       "\n",
       "   Month  \n",
       "0  March  \n",
       "1  March  \n",
       "2  March  \n",
       "3  March  \n",
       "4  March  "
      ]
     },
     "execution_count": 390,
     "metadata": {},
     "output_type": "execute_result"
    }
   ],
   "source": [
    "df_k.head()"
   ]
  },
  {
   "cell_type": "code",
   "execution_count": 391,
   "metadata": {},
   "outputs": [],
   "source": [
    "expenses_summary = df_k.groupby(['Date','Month','Employee'], as_index=False).agg({\n",
    "    'Amount Requested':[sum],\n",
    "    'Amount Paid':[sum]\n",
    "})"
   ]
  },
  {
   "cell_type": "code",
   "execution_count": 392,
   "metadata": {},
   "outputs": [
    {
     "data": {
      "text/html": [
       "<div>\n",
       "<style scoped>\n",
       "    .dataframe tbody tr th:only-of-type {\n",
       "        vertical-align: middle;\n",
       "    }\n",
       "\n",
       "    .dataframe tbody tr th {\n",
       "        vertical-align: top;\n",
       "    }\n",
       "\n",
       "    .dataframe thead tr th {\n",
       "        text-align: left;\n",
       "    }\n",
       "</style>\n",
       "<table border=\"1\" class=\"dataframe\">\n",
       "  <thead>\n",
       "    <tr>\n",
       "      <th></th>\n",
       "      <th>Date</th>\n",
       "      <th>Month</th>\n",
       "      <th>Employee</th>\n",
       "      <th>Amount Requested</th>\n",
       "      <th>Amount Paid</th>\n",
       "    </tr>\n",
       "    <tr>\n",
       "      <th></th>\n",
       "      <th></th>\n",
       "      <th></th>\n",
       "      <th></th>\n",
       "      <th>sum</th>\n",
       "      <th>sum</th>\n",
       "    </tr>\n",
       "  </thead>\n",
       "  <tbody>\n",
       "    <tr>\n",
       "      <th>0</th>\n",
       "      <td>3</td>\n",
       "      <td>March</td>\n",
       "      <td>Darryl</td>\n",
       "      <td>50</td>\n",
       "      <td>50</td>\n",
       "    </tr>\n",
       "    <tr>\n",
       "      <th>1</th>\n",
       "      <td>3</td>\n",
       "      <td>March</td>\n",
       "      <td>Michael</td>\n",
       "      <td>800</td>\n",
       "      <td>450</td>\n",
       "    </tr>\n",
       "    <tr>\n",
       "      <th>2</th>\n",
       "      <td>4</td>\n",
       "      <td>April</td>\n",
       "      <td>Andy</td>\n",
       "      <td>200</td>\n",
       "      <td>100</td>\n",
       "    </tr>\n",
       "    <tr>\n",
       "      <th>3</th>\n",
       "      <td>4</td>\n",
       "      <td>April</td>\n",
       "      <td>Dwight</td>\n",
       "      <td>100</td>\n",
       "      <td>100</td>\n",
       "    </tr>\n",
       "    <tr>\n",
       "      <th>4</th>\n",
       "      <td>4</td>\n",
       "      <td>April</td>\n",
       "      <td>Jim</td>\n",
       "      <td>100</td>\n",
       "      <td>100</td>\n",
       "    </tr>\n",
       "  </tbody>\n",
       "</table>\n",
       "</div>"
      ],
      "text/plain": [
       "  Date  Month Employee Amount Requested Amount Paid\n",
       "                                    sum         sum\n",
       "0    3  March   Darryl               50          50\n",
       "1    3  March  Michael              800         450\n",
       "2    4  April     Andy              200         100\n",
       "3    4  April   Dwight              100         100\n",
       "4    4  April      Jim              100         100"
      ]
     },
     "execution_count": 392,
     "metadata": {},
     "output_type": "execute_result"
    }
   ],
   "source": [
    "expenses_summary.head()"
   ]
  },
  {
   "cell_type": "code",
   "execution_count": 394,
   "metadata": {},
   "outputs": [],
   "source": [
    "expenses_summary.columns=['Date', 'Month','Employee','Amount Requested', 'Amount Paid']"
   ]
  },
  {
   "cell_type": "code",
   "execution_count": 395,
   "metadata": {},
   "outputs": [
    {
     "data": {
      "text/html": [
       "<div>\n",
       "<style scoped>\n",
       "    .dataframe tbody tr th:only-of-type {\n",
       "        vertical-align: middle;\n",
       "    }\n",
       "\n",
       "    .dataframe tbody tr th {\n",
       "        vertical-align: top;\n",
       "    }\n",
       "\n",
       "    .dataframe thead th {\n",
       "        text-align: right;\n",
       "    }\n",
       "</style>\n",
       "<table border=\"1\" class=\"dataframe\">\n",
       "  <thead>\n",
       "    <tr style=\"text-align: right;\">\n",
       "      <th></th>\n",
       "      <th>Date</th>\n",
       "      <th>Month</th>\n",
       "      <th>Employee</th>\n",
       "      <th>Amount Requested</th>\n",
       "      <th>Amount Paid</th>\n",
       "    </tr>\n",
       "  </thead>\n",
       "  <tbody>\n",
       "    <tr>\n",
       "      <th>0</th>\n",
       "      <td>3</td>\n",
       "      <td>March</td>\n",
       "      <td>Darryl</td>\n",
       "      <td>50</td>\n",
       "      <td>50</td>\n",
       "    </tr>\n",
       "    <tr>\n",
       "      <th>1</th>\n",
       "      <td>3</td>\n",
       "      <td>March</td>\n",
       "      <td>Michael</td>\n",
       "      <td>800</td>\n",
       "      <td>450</td>\n",
       "    </tr>\n",
       "    <tr>\n",
       "      <th>2</th>\n",
       "      <td>4</td>\n",
       "      <td>April</td>\n",
       "      <td>Andy</td>\n",
       "      <td>200</td>\n",
       "      <td>100</td>\n",
       "    </tr>\n",
       "    <tr>\n",
       "      <th>3</th>\n",
       "      <td>4</td>\n",
       "      <td>April</td>\n",
       "      <td>Dwight</td>\n",
       "      <td>100</td>\n",
       "      <td>100</td>\n",
       "    </tr>\n",
       "    <tr>\n",
       "      <th>4</th>\n",
       "      <td>4</td>\n",
       "      <td>April</td>\n",
       "      <td>Jim</td>\n",
       "      <td>100</td>\n",
       "      <td>100</td>\n",
       "    </tr>\n",
       "  </tbody>\n",
       "</table>\n",
       "</div>"
      ],
      "text/plain": [
       "   Date  Month Employee  Amount Requested  Amount Paid\n",
       "0     3  March   Darryl                50           50\n",
       "1     3  March  Michael               800          450\n",
       "2     4  April     Andy               200          100\n",
       "3     4  April   Dwight               100          100\n",
       "4     4  April      Jim               100          100"
      ]
     },
     "execution_count": 395,
     "metadata": {},
     "output_type": "execute_result"
    }
   ],
   "source": [
    "expenses_summary.head()"
   ]
  },
  {
   "cell_type": "code",
   "execution_count": 396,
   "metadata": {},
   "outputs": [],
   "source": [
    "expenses_summary.drop(columns=['Date'],inplace=True)"
   ]
  },
  {
   "cell_type": "code",
   "execution_count": 397,
   "metadata": {},
   "outputs": [
    {
     "data": {
      "text/html": [
       "<div>\n",
       "<style scoped>\n",
       "    .dataframe tbody tr th:only-of-type {\n",
       "        vertical-align: middle;\n",
       "    }\n",
       "\n",
       "    .dataframe tbody tr th {\n",
       "        vertical-align: top;\n",
       "    }\n",
       "\n",
       "    .dataframe thead th {\n",
       "        text-align: right;\n",
       "    }\n",
       "</style>\n",
       "<table border=\"1\" class=\"dataframe\">\n",
       "  <thead>\n",
       "    <tr style=\"text-align: right;\">\n",
       "      <th></th>\n",
       "      <th>Month</th>\n",
       "      <th>Employee</th>\n",
       "      <th>Amount Requested</th>\n",
       "      <th>Amount Paid</th>\n",
       "    </tr>\n",
       "  </thead>\n",
       "  <tbody>\n",
       "    <tr>\n",
       "      <th>0</th>\n",
       "      <td>March</td>\n",
       "      <td>Darryl</td>\n",
       "      <td>50</td>\n",
       "      <td>50</td>\n",
       "    </tr>\n",
       "    <tr>\n",
       "      <th>1</th>\n",
       "      <td>March</td>\n",
       "      <td>Michael</td>\n",
       "      <td>800</td>\n",
       "      <td>450</td>\n",
       "    </tr>\n",
       "    <tr>\n",
       "      <th>2</th>\n",
       "      <td>April</td>\n",
       "      <td>Andy</td>\n",
       "      <td>200</td>\n",
       "      <td>100</td>\n",
       "    </tr>\n",
       "    <tr>\n",
       "      <th>3</th>\n",
       "      <td>April</td>\n",
       "      <td>Dwight</td>\n",
       "      <td>100</td>\n",
       "      <td>100</td>\n",
       "    </tr>\n",
       "    <tr>\n",
       "      <th>4</th>\n",
       "      <td>April</td>\n",
       "      <td>Jim</td>\n",
       "      <td>100</td>\n",
       "      <td>100</td>\n",
       "    </tr>\n",
       "  </tbody>\n",
       "</table>\n",
       "</div>"
      ],
      "text/plain": [
       "   Month Employee  Amount Requested  Amount Paid\n",
       "0  March   Darryl                50           50\n",
       "1  March  Michael               800          450\n",
       "2  April     Andy               200          100\n",
       "3  April   Dwight               100          100\n",
       "4  April      Jim               100          100"
      ]
     },
     "execution_count": 397,
     "metadata": {},
     "output_type": "execute_result"
    }
   ],
   "source": [
    "expenses_summary.head()"
   ]
  },
  {
   "cell_type": "markdown",
   "metadata": {},
   "source": [
    "## Write out to one sheet "
   ]
  },
  {
   "cell_type": "code",
   "execution_count": 403,
   "metadata": {},
   "outputs": [],
   "source": [
    "output_file = os.path.join('..','data','accounting_summary.xlsx')\n",
    "writer = pd.ExcelWriter(output_file, engine='xlsxwriter')\n",
    "workbook = writer.book"
   ]
  },
  {
   "cell_type": "code",
   "execution_count": null,
   "metadata": {},
   "outputs": [],
   "source": []
  },
  {
   "cell_type": "code",
   "execution_count": 398,
   "metadata": {},
   "outputs": [],
   "source": [
    "header_format = workbook.add_format({\n",
    "    'bold':True,\n",
    "    'align':'center',\n",
    "    'valign':'top',\n",
    "    'font_color':'white',\n",
    "    'font_size':12\n",
    "})"
   ]
  },
  {
   "cell_type": "code",
   "execution_count": 399,
   "metadata": {},
   "outputs": [],
   "source": [
    "number_format = workbook.add_format({ 'num_format':'#,##0.00'})"
   ]
  },
  {
   "cell_type": "code",
   "execution_count": 400,
   "metadata": {},
   "outputs": [],
   "source": [
    "money_format = workbook.add_format({ 'num_format':'$#,##0.00'})"
   ]
  },
  {
   "cell_type": "code",
   "execution_count": 401,
   "metadata": {},
   "outputs": [],
   "source": [
    "#conditional formatting \n",
    "red_color = workbook.add_format({\n",
    "    'bg_color': '#FFC7CE',\n",
    "    'font_color': '#9C0006'\n",
    "})"
   ]
  },
  {
   "cell_type": "code",
   "execution_count": 405,
   "metadata": {},
   "outputs": [],
   "source": [
    "sheet = 'Customer Summary'\n",
    "customer_summary.to_excel(writer,sheet_name=sheet, index=False)"
   ]
  },
  {
   "cell_type": "code",
   "execution_count": 410,
   "metadata": {},
   "outputs": [
    {
     "name": "stdout",
     "output_type": "stream",
     "text": [
      "0 Bill Date\n",
      "1 Mont\n",
      "2 Customer\n",
      "3 Total Billed\n",
      "4 Total Paid\n",
      "5 Balance\n",
      "6 Turnaround Time\n"
     ]
    }
   ],
   "source": [
    "for col_num, value in enumerate(customer_summary.columns.values):\n",
    "    print(col_num,value)"
   ]
  },
  {
   "cell_type": "code",
   "execution_count": 411,
   "metadata": {},
   "outputs": [],
   "source": [
    "for col_num, value in enumerate(customer_summary.columns.values):\n",
    "    worksheet.write(0,col_num,value, header_format)\n"
   ]
  },
  {
   "cell_type": "code",
   "execution_count": 412,
   "metadata": {},
   "outputs": [
    {
     "data": {
      "text/plain": [
       "0"
      ]
     },
     "execution_count": 412,
     "metadata": {},
     "output_type": "execute_result"
    }
   ],
   "source": [
    "worksheet.set_column('A:B', 14, None)\n",
    "worksheet.set_column('C:E', 14, money_format)\n",
    "worksheet.set_column('F:F', 14, number_format)"
   ]
  },
  {
   "cell_type": "code",
   "execution_count": 414,
   "metadata": {},
   "outputs": [
    {
     "data": {
      "text/plain": [
       "{'type': 'cell',\n",
       " 'criteria': '<',\n",
       " 'value': 0,\n",
       " 'format': <xlsxwriter.format.Format at 0x2690a85b588>}"
      ]
     },
     "execution_count": 414,
     "metadata": {},
     "output_type": "execute_result"
    }
   ],
   "source": [
    "#conditional formatting \n",
    "first_row = 1\n",
    "first_column = 1\n",
    "last_row = len(customer_summary.index)\n",
    "last_column = 4 \n",
    "conditions = {\n",
    "    'type':'cell',\n",
    "    'criteria':'<',\n",
    "    'value':0,\n",
    "    'format':red_color\n",
    "}\n",
    "conditions"
   ]
  },
  {
   "cell_type": "code",
   "execution_count": 415,
   "metadata": {},
   "outputs": [],
   "source": [
    "worksheet.conditional_format(first_row,\n",
    "                            first_column,\n",
    "                            last_row,\n",
    "                            last_column,\n",
    "                            conditions,)"
   ]
  },
  {
   "cell_type": "code",
   "execution_count": 423,
   "metadata": {},
   "outputs": [],
   "source": [
    "#? NEED to write data \n",
    "writer.save()"
   ]
  },
  {
   "cell_type": "markdown",
   "metadata": {},
   "source": [
    "## Transposed and Combining data \n"
   ]
  },
  {
   "cell_type": "code",
   "execution_count": 421,
   "metadata": {},
   "outputs": [],
   "source": [
    "supply_file = os.path.join('..','data','supply.xlsx')"
   ]
  },
  {
   "cell_type": "code",
   "execution_count": 422,
   "metadata": {},
   "outputs": [
    {
     "data": {
      "text/plain": [
       "dict_keys(['March', 'April', 'May'])"
      ]
     },
     "execution_count": 422,
     "metadata": {},
     "output_type": "execute_result"
    }
   ],
   "source": [
    "frames.keys()"
   ]
  },
  {
   "cell_type": "code",
   "execution_count": 419,
   "metadata": {},
   "outputs": [],
   "source": [
    "frames = pd.read_excel(supply_file, sheet_name=None)"
   ]
  },
  {
   "cell_type": "code",
   "execution_count": 420,
   "metadata": {},
   "outputs": [
    {
     "data": {
      "text/html": [
       "<div>\n",
       "<style scoped>\n",
       "    .dataframe tbody tr th:only-of-type {\n",
       "        vertical-align: middle;\n",
       "    }\n",
       "\n",
       "    .dataframe tbody tr th {\n",
       "        vertical-align: top;\n",
       "    }\n",
       "\n",
       "    .dataframe thead th {\n",
       "        text-align: right;\n",
       "    }\n",
       "</style>\n",
       "<table border=\"1\" class=\"dataframe\">\n",
       "  <thead>\n",
       "    <tr style=\"text-align: right;\">\n",
       "      <th></th>\n",
       "      <th>Supplier</th>\n",
       "      <th>Hammermill</th>\n",
       "      <th>Weyerhouser</th>\n",
       "      <th>Georgia-Pacific</th>\n",
       "      <th>Boise</th>\n",
       "      <th>HP Card Stock</th>\n",
       "    </tr>\n",
       "  </thead>\n",
       "  <tbody>\n",
       "    <tr>\n",
       "      <th>0</th>\n",
       "      <td>On-Hand</td>\n",
       "      <td>25</td>\n",
       "      <td>50</td>\n",
       "      <td>35</td>\n",
       "      <td>15</td>\n",
       "      <td>25</td>\n",
       "    </tr>\n",
       "    <tr>\n",
       "      <th>1</th>\n",
       "      <td>Incoming</td>\n",
       "      <td>300</td>\n",
       "      <td>300</td>\n",
       "      <td>250</td>\n",
       "      <td>250</td>\n",
       "      <td>300</td>\n",
       "    </tr>\n",
       "    <tr>\n",
       "      <th>2</th>\n",
       "      <td>Outgoing</td>\n",
       "      <td>250</td>\n",
       "      <td>275</td>\n",
       "      <td>200</td>\n",
       "      <td>200</td>\n",
       "      <td>300</td>\n",
       "    </tr>\n",
       "    <tr>\n",
       "      <th>3</th>\n",
       "      <td>Balance</td>\n",
       "      <td>75</td>\n",
       "      <td>75</td>\n",
       "      <td>85</td>\n",
       "      <td>65</td>\n",
       "      <td>25</td>\n",
       "    </tr>\n",
       "  </tbody>\n",
       "</table>\n",
       "</div>"
      ],
      "text/plain": [
       "   Supplier  Hammermill  Weyerhouser  Georgia-Pacific  Boise  HP Card Stock\n",
       "0   On-Hand          25           50               35     15             25\n",
       "1  Incoming         300          300              250    250            300\n",
       "2  Outgoing         250          275              200    200            300\n",
       "3   Balance          75           75               85     65             25"
      ]
     },
     "execution_count": 420,
     "metadata": {},
     "output_type": "execute_result"
    }
   ],
   "source": [
    "frames['March'].head()"
   ]
  },
  {
   "cell_type": "code",
   "execution_count": 427,
   "metadata": {},
   "outputs": [],
   "source": [
    "def format_dataframe(frames, sheet_name):\n",
    "    df = pd.DataFrame(frames[sheet_name])\n",
    "    df = df.T.reset_index()\n",
    "    df.columns = df.loc[0]\n",
    "    df.drop([0], inplace=True)\n",
    "    df['Month']=sheet_name\n",
    "    return(df)"
   ]
  },
  {
   "cell_type": "code",
   "execution_count": 428,
   "metadata": {},
   "outputs": [],
   "source": [
    "march_formatted = format_dataframe(frames, 'March')"
   ]
  },
  {
   "cell_type": "code",
   "execution_count": 430,
   "metadata": {},
   "outputs": [
    {
     "data": {
      "text/html": [
       "<div>\n",
       "<style scoped>\n",
       "    .dataframe tbody tr th:only-of-type {\n",
       "        vertical-align: middle;\n",
       "    }\n",
       "\n",
       "    .dataframe tbody tr th {\n",
       "        vertical-align: top;\n",
       "    }\n",
       "\n",
       "    .dataframe thead th {\n",
       "        text-align: right;\n",
       "    }\n",
       "</style>\n",
       "<table border=\"1\" class=\"dataframe\">\n",
       "  <thead>\n",
       "    <tr style=\"text-align: right;\">\n",
       "      <th></th>\n",
       "      <th>Supplier</th>\n",
       "      <th>On-Hand</th>\n",
       "      <th>Incoming</th>\n",
       "      <th>Outgoing</th>\n",
       "      <th>Balance</th>\n",
       "      <th>Month</th>\n",
       "    </tr>\n",
       "  </thead>\n",
       "  <tbody>\n",
       "    <tr>\n",
       "      <th>1</th>\n",
       "      <td>Hammermill</td>\n",
       "      <td>25</td>\n",
       "      <td>300</td>\n",
       "      <td>250</td>\n",
       "      <td>75</td>\n",
       "      <td>March</td>\n",
       "    </tr>\n",
       "    <tr>\n",
       "      <th>2</th>\n",
       "      <td>Weyerhouser</td>\n",
       "      <td>50</td>\n",
       "      <td>300</td>\n",
       "      <td>275</td>\n",
       "      <td>75</td>\n",
       "      <td>March</td>\n",
       "    </tr>\n",
       "    <tr>\n",
       "      <th>3</th>\n",
       "      <td>Georgia-Pacific</td>\n",
       "      <td>35</td>\n",
       "      <td>250</td>\n",
       "      <td>200</td>\n",
       "      <td>85</td>\n",
       "      <td>March</td>\n",
       "    </tr>\n",
       "  </tbody>\n",
       "</table>\n",
       "</div>"
      ],
      "text/plain": [
       "0         Supplier On-Hand Incoming Outgoing Balance  Month\n",
       "1       Hammermill      25      300      250      75  March\n",
       "2      Weyerhouser      50      300      275      75  March\n",
       "3  Georgia-Pacific      35      250      200      85  March"
      ]
     },
     "execution_count": 430,
     "metadata": {},
     "output_type": "execute_result"
    }
   ],
   "source": [
    "march_formatted.head(3)"
   ]
  },
  {
   "cell_type": "markdown",
   "metadata": {},
   "source": [
    "## Summarize  Sheets "
   ]
  },
  {
   "cell_type": "code",
   "execution_count": 432,
   "metadata": {},
   "outputs": [
    {
     "name": "stdout",
     "output_type": "stream",
     "text": [
      "March\n",
      "April\n",
      "May\n"
     ]
    }
   ],
   "source": [
    "for f in frames.keys():\n",
    "    print(f)"
   ]
  },
  {
   "cell_type": "code",
   "execution_count": 433,
   "metadata": {},
   "outputs": [],
   "source": [
    "formatted_dfs =[]\n",
    "for f in frames.keys():\n",
    "    df = format_dataframe(frames,f)\n",
    "    formatted_dfs.append(df)\n",
    "    "
   ]
  },
  {
   "cell_type": "code",
   "execution_count": 434,
   "metadata": {},
   "outputs": [],
   "source": [
    "summary_df = pd.concat(formatted_dfs, ignore_index=True )"
   ]
  },
  {
   "cell_type": "code",
   "execution_count": 435,
   "metadata": {},
   "outputs": [
    {
     "data": {
      "text/html": [
       "<div>\n",
       "<style scoped>\n",
       "    .dataframe tbody tr th:only-of-type {\n",
       "        vertical-align: middle;\n",
       "    }\n",
       "\n",
       "    .dataframe tbody tr th {\n",
       "        vertical-align: top;\n",
       "    }\n",
       "\n",
       "    .dataframe thead th {\n",
       "        text-align: right;\n",
       "    }\n",
       "</style>\n",
       "<table border=\"1\" class=\"dataframe\">\n",
       "  <thead>\n",
       "    <tr style=\"text-align: right;\">\n",
       "      <th></th>\n",
       "      <th>Supplier</th>\n",
       "      <th>On-Hand</th>\n",
       "      <th>Incoming</th>\n",
       "      <th>Outgoing</th>\n",
       "      <th>Balance</th>\n",
       "      <th>Month</th>\n",
       "    </tr>\n",
       "  </thead>\n",
       "  <tbody>\n",
       "    <tr>\n",
       "      <th>0</th>\n",
       "      <td>Hammermill</td>\n",
       "      <td>25</td>\n",
       "      <td>300</td>\n",
       "      <td>250</td>\n",
       "      <td>75</td>\n",
       "      <td>March</td>\n",
       "    </tr>\n",
       "    <tr>\n",
       "      <th>1</th>\n",
       "      <td>Weyerhouser</td>\n",
       "      <td>50</td>\n",
       "      <td>300</td>\n",
       "      <td>275</td>\n",
       "      <td>75</td>\n",
       "      <td>March</td>\n",
       "    </tr>\n",
       "    <tr>\n",
       "      <th>2</th>\n",
       "      <td>Georgia-Pacific</td>\n",
       "      <td>35</td>\n",
       "      <td>250</td>\n",
       "      <td>200</td>\n",
       "      <td>85</td>\n",
       "      <td>March</td>\n",
       "    </tr>\n",
       "  </tbody>\n",
       "</table>\n",
       "</div>"
      ],
      "text/plain": [
       "0         Supplier On-Hand Incoming Outgoing Balance  Month\n",
       "0       Hammermill      25      300      250      75  March\n",
       "1      Weyerhouser      50      300      275      75  March\n",
       "2  Georgia-Pacific      35      250      200      85  March"
      ]
     },
     "execution_count": 435,
     "metadata": {},
     "output_type": "execute_result"
    }
   ],
   "source": [
    "summary_df.head(3)"
   ]
  },
  {
   "cell_type": "code",
   "execution_count": 436,
   "metadata": {},
   "outputs": [
    {
     "data": {
      "text/html": [
       "<div>\n",
       "<style scoped>\n",
       "    .dataframe tbody tr th:only-of-type {\n",
       "        vertical-align: middle;\n",
       "    }\n",
       "\n",
       "    .dataframe tbody tr th {\n",
       "        vertical-align: top;\n",
       "    }\n",
       "\n",
       "    .dataframe thead th {\n",
       "        text-align: right;\n",
       "    }\n",
       "</style>\n",
       "<table border=\"1\" class=\"dataframe\">\n",
       "  <thead>\n",
       "    <tr style=\"text-align: right;\">\n",
       "      <th></th>\n",
       "      <th>Supplier</th>\n",
       "      <th>On-Hand</th>\n",
       "      <th>Incoming</th>\n",
       "      <th>Outgoing</th>\n",
       "      <th>Balance</th>\n",
       "      <th>Month</th>\n",
       "    </tr>\n",
       "  </thead>\n",
       "  <tbody>\n",
       "    <tr>\n",
       "      <th>13</th>\n",
       "      <td>Boise</td>\n",
       "      <td>65</td>\n",
       "      <td>200</td>\n",
       "      <td>200</td>\n",
       "      <td>65</td>\n",
       "      <td>May</td>\n",
       "    </tr>\n",
       "    <tr>\n",
       "      <th>14</th>\n",
       "      <td>HP Card Stock</td>\n",
       "      <td>100</td>\n",
       "      <td>250</td>\n",
       "      <td>300</td>\n",
       "      <td>50</td>\n",
       "      <td>May</td>\n",
       "    </tr>\n",
       "  </tbody>\n",
       "</table>\n",
       "</div>"
      ],
      "text/plain": [
       "0        Supplier On-Hand Incoming Outgoing Balance Month\n",
       "13          Boise      65      200      200      65   May\n",
       "14  HP Card Stock     100      250      300      50   May"
      ]
     },
     "execution_count": 436,
     "metadata": {},
     "output_type": "execute_result"
    }
   ],
   "source": [
    "summary_df.tail(2)"
   ]
  },
  {
   "cell_type": "code",
   "execution_count": 437,
   "metadata": {},
   "outputs": [],
   "source": [
    "#faster version \n",
    "formatted_dfs = [format_dataframe(frames,f) for f in frames.keys()]"
   ]
  },
  {
   "cell_type": "code",
   "execution_count": 438,
   "metadata": {},
   "outputs": [],
   "source": [
    "#faster version \n",
    "summary_df = pd.concat([format_dataframe(frames,f) for f in frames.keys()], ignore_index=False)"
   ]
  },
  {
   "cell_type": "markdown",
   "metadata": {},
   "source": [
    "## Full Version \n",
    "with conditional colors etc...\n"
   ]
  },
  {
   "cell_type": "code",
   "execution_count": 441,
   "metadata": {},
   "outputs": [],
   "source": [
    "summary_df = summary_df[['Month', 'Supplier', 'Incoming', 'Outgoing', 'On-Hand']]"
   ]
  },
  {
   "cell_type": "code",
   "execution_count": 442,
   "metadata": {},
   "outputs": [],
   "source": [
    "output_file = os.path.join('..', 'data', 'supply_summary.xlsx')\n",
    "writer = pd.ExcelWriter(output_file, engine='xlsxwriter')\n",
    "workbook = writer.book"
   ]
  },
  {
   "cell_type": "code",
   "execution_count": null,
   "metadata": {},
   "outputs": [],
   "source": [
    "# Define the format for our header:\n",
    "header_format = workbook.add_format({\n",
    "    'bold': True, #Bold Font: This value must be either True or False\n",
    "    'align': 'center', #Center Alignment\n",
    "    'valign': 'top', #Top Alignment\n",
    "    'fg_color': '#4472C1', #Cell Color\n",
    "    'font_color': 'white', #Font Color\n",
    "    'font_size': 12, #Font Size\n",
    "})"
   ]
  },
  {
   "cell_type": "code",
   "execution_count": null,
   "metadata": {},
   "outputs": [],
   "source": [
    "# Define the format for our numbers:\n",
    "number_format = workbook.add_format({'num_format': '#,##0'})"
   ]
  },
  {
   "cell_type": "code",
   "execution_count": 440,
   "metadata": {},
   "outputs": [],
   "source": [
    "good_color = workbook.add_format({'bg_color': '#C6EFCE',\n",
    "                            'font_color': '#006100'})\n",
    "\n",
    "neutral_color = workbook.add_format({'bg_color': '#FFEB9C',\n",
    "                            'font_color': '#9C5700'})\n",
    "\n",
    "bad_color = workbook.add_format({'bg_color': '#FFC7CE',\n",
    "                            'font_color': '#9C0006'})"
   ]
  },
  {
   "cell_type": "code",
   "execution_count": null,
   "metadata": {},
   "outputs": [],
   "source": [
    "# Define the sheet and write the data to Excel\n",
    "sheet = 'Supply Summary'\n",
    "summary_df.to_excel(writer, sheet_name=sheet, index=False)"
   ]
  },
  {
   "cell_type": "code",
   "execution_count": null,
   "metadata": {},
   "outputs": [],
   "source": [
    "# Define the worksheet\n",
    "worksheet = writer.sheets[sheet]"
   ]
  },
  {
   "cell_type": "code",
   "execution_count": null,
   "metadata": {},
   "outputs": [],
   "source": [
    "# Write the headers to the worksheet\n",
    "for col_num, value in enumerate(summary_df.columns.values):\n",
    "    worksheet.write(0, col_num, value, header_format)"
   ]
  },
  {
   "cell_type": "code",
   "execution_count": null,
   "metadata": {},
   "outputs": [],
   "source": [
    "# Set the numerical columns\n",
    "worksheet.set_column('A:B', 14, None)\n",
    "worksheet.set_column('C:E', 14, number_format)"
   ]
  },
  {
   "cell_type": "code",
   "execution_count": 443,
   "metadata": {},
   "outputs": [],
   "source": [
    "# Define rows and columns\n",
    "first_row = 1\n",
    "last_row = len(summary_df.index)\n",
    "incoming_column = 2\n",
    "outgoing_column = 3\n",
    "on_hand_column = 4\n",
    "\n",
    "\n",
    "# Set the color conditions\n",
    "incoming_col_condition = {\n",
    "    'type': 'cell', # Because we want to apply the formatting to each individual cell\n",
    "    'criteria': '>', # for greater than\n",
    "    'value': 0,\n",
    "    'format': good_color,\n",
    "}\n",
    "\n",
    "outgoing_col_condition = {\n",
    "    'type': 'cell', \n",
    "    'criteria': '>', \n",
    "    'value': 0,\n",
    "    'format': neutral_color,\n",
    "}\n",
    "\n",
    "on_hand_col_condition = {\n",
    "    'type': 'cell', \n",
    "    'criteria': '<=', # for less than or equal to\n",
    "    'value': 25,\n",
    "    'format': bad_color,\n",
    "}"
   ]
  },
  {
   "cell_type": "code",
   "execution_count": null,
   "metadata": {},
   "outputs": [],
   "source": [
    "# Apply the color formats\n",
    "\n",
    "# Incoming Column\n",
    "worksheet.conditional_format(first_row,\n",
    "                            incoming_column,\n",
    "                            last_row,\n",
    "                            incoming_column,\n",
    "                            incoming_col_condition)\n",
    "\n",
    "# Outgoing Column\n",
    "worksheet.conditional_format(first_row,\n",
    "                            outgoing_column,\n",
    "                            last_row,\n",
    "                            outgoing_column,\n",
    "                            outgoing_col_condition)\n",
    "# On Hand Column\n",
    "worksheet.conditional_format(first_row,\n",
    "                            on_hand_column,\n",
    "                            last_row,\n",
    "                            on_hand_column,\n",
    "                            on_hand_col_condition)"
   ]
  },
  {
   "cell_type": "code",
   "execution_count": null,
   "metadata": {},
   "outputs": [],
   "source": [
    "writer.save()"
   ]
  },
  {
   "cell_type": "code",
   "execution_count": null,
   "metadata": {},
   "outputs": [],
   "source": [
    "## Filtering "
   ]
  },
  {
   "cell_type": "code",
   "execution_count": 444,
   "metadata": {},
   "outputs": [],
   "source": [
    "# Define the path to the file\n",
    "hr_file = os.path.join('..', 'data', 'hr_report.xlsx')"
   ]
  },
  {
   "cell_type": "code",
   "execution_count": 445,
   "metadata": {},
   "outputs": [],
   "source": [
    "frames = pd.read_excel(hr_file, sheet_name=None)"
   ]
  },
  {
   "cell_type": "code",
   "execution_count": 446,
   "metadata": {},
   "outputs": [],
   "source": [
    "df = pd.DataFrame(frames['Sheet1'])"
   ]
  },
  {
   "cell_type": "code",
   "execution_count": 447,
   "metadata": {},
   "outputs": [
    {
     "data": {
      "text/html": [
       "<div>\n",
       "<style scoped>\n",
       "    .dataframe tbody tr th:only-of-type {\n",
       "        vertical-align: middle;\n",
       "    }\n",
       "\n",
       "    .dataframe tbody tr th {\n",
       "        vertical-align: top;\n",
       "    }\n",
       "\n",
       "    .dataframe thead th {\n",
       "        text-align: right;\n",
       "    }\n",
       "</style>\n",
       "<table border=\"1\" class=\"dataframe\">\n",
       "  <thead>\n",
       "    <tr style=\"text-align: right;\">\n",
       "      <th></th>\n",
       "      <th>Date</th>\n",
       "      <th>Reporter</th>\n",
       "      <th>Employee</th>\n",
       "      <th>Complaint</th>\n",
       "    </tr>\n",
       "  </thead>\n",
       "  <tbody>\n",
       "    <tr>\n",
       "      <th>0</th>\n",
       "      <td>2019-03-01</td>\n",
       "      <td>Michael</td>\n",
       "      <td>Toby</td>\n",
       "      <td>Toby is horrible</td>\n",
       "    </tr>\n",
       "    <tr>\n",
       "      <th>1</th>\n",
       "      <td>2019-03-02</td>\n",
       "      <td>Dwight</td>\n",
       "      <td>Jim</td>\n",
       "      <td>Jim encased my stapler in Jello</td>\n",
       "    </tr>\n",
       "    <tr>\n",
       "      <th>2</th>\n",
       "      <td>2019-03-03</td>\n",
       "      <td>Andy</td>\n",
       "      <td>Jim</td>\n",
       "      <td>Jim hid my phone in the ceiling</td>\n",
       "    </tr>\n",
       "    <tr>\n",
       "      <th>3</th>\n",
       "      <td>2019-03-05</td>\n",
       "      <td>Dwight</td>\n",
       "      <td>Jim</td>\n",
       "      <td>I hit myself in the head with my phone</td>\n",
       "    </tr>\n",
       "    <tr>\n",
       "      <th>4</th>\n",
       "      <td>2019-03-09</td>\n",
       "      <td>Dwight</td>\n",
       "      <td>Jim</td>\n",
       "      <td>Jim jammed all of my desk drawers so I could o...</td>\n",
       "    </tr>\n",
       "  </tbody>\n",
       "</table>\n",
       "</div>"
      ],
      "text/plain": [
       "        Date Reporter Employee  \\\n",
       "0 2019-03-01  Michael     Toby   \n",
       "1 2019-03-02   Dwight      Jim   \n",
       "2 2019-03-03     Andy      Jim   \n",
       "3 2019-03-05   Dwight      Jim   \n",
       "4 2019-03-09   Dwight      Jim   \n",
       "\n",
       "                                           Complaint  \n",
       "0                                   Toby is horrible  \n",
       "1                    Jim encased my stapler in Jello  \n",
       "2                    Jim hid my phone in the ceiling  \n",
       "3             I hit myself in the head with my phone  \n",
       "4  Jim jammed all of my desk drawers so I could o...  "
      ]
     },
     "execution_count": 447,
     "metadata": {},
     "output_type": "execute_result"
    }
   ],
   "source": [
    "df.head()"
   ]
  },
  {
   "cell_type": "code",
   "execution_count": 448,
   "metadata": {},
   "outputs": [],
   "source": [
    "# Generating a unique list of all employees\n",
    "reporters = df['Reporter'].unique()\n",
    "\n",
    "# Add the\n",
    "employees = df['Employee'].unique()\n",
    "\n",
    "# Combine the lists\n",
    "all_employees = list(reporters) + list(employees)\n",
    "\n",
    "# Convert the list to a set\n",
    "all_employees = list(set(all_employees))"
   ]
  },
  {
   "cell_type": "code",
   "execution_count": 449,
   "metadata": {},
   "outputs": [
    {
     "data": {
      "text/plain": [
       "['Toby',\n",
       " 'Angela',\n",
       " 'Michael',\n",
       " 'Phyllis',\n",
       " 'Jim',\n",
       " 'Daryl',\n",
       " 'Oscar',\n",
       " 'Dwight',\n",
       " 'Ryan',\n",
       " 'Pam',\n",
       " 'Andy',\n",
       " 'Stanley']"
      ]
     },
     "execution_count": 449,
     "metadata": {},
     "output_type": "execute_result"
    }
   ],
   "source": [
    "all_employees"
   ]
  },
  {
   "cell_type": "code",
   "execution_count": 450,
   "metadata": {},
   "outputs": [],
   "source": [
    "df['Month'] = df['Date'].dt.strftime('%B')"
   ]
  },
  {
   "cell_type": "code",
   "execution_count": 451,
   "metadata": {},
   "outputs": [
    {
     "data": {
      "text/html": [
       "<div>\n",
       "<style scoped>\n",
       "    .dataframe tbody tr th:only-of-type {\n",
       "        vertical-align: middle;\n",
       "    }\n",
       "\n",
       "    .dataframe tbody tr th {\n",
       "        vertical-align: top;\n",
       "    }\n",
       "\n",
       "    .dataframe thead th {\n",
       "        text-align: right;\n",
       "    }\n",
       "</style>\n",
       "<table border=\"1\" class=\"dataframe\">\n",
       "  <thead>\n",
       "    <tr style=\"text-align: right;\">\n",
       "      <th></th>\n",
       "      <th>Date</th>\n",
       "      <th>Reporter</th>\n",
       "      <th>Employee</th>\n",
       "      <th>Complaint</th>\n",
       "      <th>Month</th>\n",
       "    </tr>\n",
       "  </thead>\n",
       "  <tbody>\n",
       "    <tr>\n",
       "      <th>25</th>\n",
       "      <td>2019-05-20</td>\n",
       "      <td>Phyllis</td>\n",
       "      <td>Andy</td>\n",
       "      <td>Andy's talks like a baby all day</td>\n",
       "      <td>May</td>\n",
       "    </tr>\n",
       "  </tbody>\n",
       "</table>\n",
       "</div>"
      ],
      "text/plain": [
       "         Date Reporter Employee                         Complaint Month\n",
       "25 2019-05-20  Phyllis     Andy  Andy's talks like a baby all day   May"
      ]
     },
     "execution_count": 451,
     "metadata": {},
     "output_type": "execute_result"
    }
   ],
   "source": [
    "# Get the Data\n",
    "df.loc[(df['Reporter'] == 'Phyllis') & (df['Month'] == 'May')]"
   ]
  },
  {
   "cell_type": "code",
   "execution_count": 452,
   "metadata": {},
   "outputs": [
    {
     "data": {
      "text/plain": [
       "1"
      ]
     },
     "execution_count": 452,
     "metadata": {},
     "output_type": "execute_result"
    }
   ],
   "source": [
    "# Get a Count from that data:\n",
    "len(df.loc[(df['Reporter'] == 'Phyllis') & (df['Month'] == 'May')])"
   ]
  },
  {
   "cell_type": "code",
   "execution_count": 453,
   "metadata": {},
   "outputs": [],
   "source": [
    "month = 'March'\n",
    "\n",
    "# Create and empty dictionary to hold our data\n",
    "summary_data = {}\n",
    "\n",
    "# Loop through our employee list with our conditions\n",
    "for employee in all_employees:\n",
    "    complaints_made = len(df.loc[(df['Reporter'] == employee) & (df['Month'] == month)])\n",
    "    complaints_received = len(df.loc[(df['Employee'] == employee) & (df['Month'] == month)])\n",
    "    \n",
    "    # Update the dictionary with the information for that employee\n",
    "    summary_data[employee] = {'complaints_made': complaints_made, 'complaints_received': complaints_received}"
   ]
  },
  {
   "cell_type": "code",
   "execution_count": 455,
   "metadata": {},
   "outputs": [
    {
     "data": {
      "text/plain": [
       "{'Toby': {'complaints_made': 0, 'complaints_received': 1},\n",
       " 'Angela': {'complaints_made': 0, 'complaints_received': 0},\n",
       " 'Michael': {'complaints_made': 1, 'complaints_received': 1},\n",
       " 'Phyllis': {'complaints_made': 0, 'complaints_received': 0},\n",
       " 'Jim': {'complaints_made': 0, 'complaints_received': 5},\n",
       " 'Daryl': {'complaints_made': 0, 'complaints_received': 0},\n",
       " 'Oscar': {'complaints_made': 1, 'complaints_received': 0},\n",
       " 'Dwight': {'complaints_made': 4, 'complaints_received': 0},\n",
       " 'Ryan': {'complaints_made': 0, 'complaints_received': 0},\n",
       " 'Pam': {'complaints_made': 0, 'complaints_received': 0},\n",
       " 'Andy': {'complaints_made': 1, 'complaints_received': 0},\n",
       " 'Stanley': {'complaints_made': 0, 'complaints_received': 0}}"
      ]
     },
     "execution_count": 455,
     "metadata": {},
     "output_type": "execute_result"
    }
   ],
   "source": [
    " summary_data"
   ]
  },
  {
   "cell_type": "code",
   "execution_count": 458,
   "metadata": {},
   "outputs": [
    {
     "data": {
      "text/html": [
       "<div>\n",
       "<style scoped>\n",
       "    .dataframe tbody tr th:only-of-type {\n",
       "        vertical-align: middle;\n",
       "    }\n",
       "\n",
       "    .dataframe tbody tr th {\n",
       "        vertical-align: top;\n",
       "    }\n",
       "\n",
       "    .dataframe thead th {\n",
       "        text-align: right;\n",
       "    }\n",
       "</style>\n",
       "<table border=\"1\" class=\"dataframe\">\n",
       "  <thead>\n",
       "    <tr style=\"text-align: right;\">\n",
       "      <th></th>\n",
       "      <th>Toby</th>\n",
       "      <th>Angela</th>\n",
       "      <th>Michael</th>\n",
       "      <th>Phyllis</th>\n",
       "      <th>Jim</th>\n",
       "      <th>Daryl</th>\n",
       "      <th>Oscar</th>\n",
       "      <th>Dwight</th>\n",
       "      <th>Ryan</th>\n",
       "      <th>Pam</th>\n",
       "      <th>Andy</th>\n",
       "      <th>Stanley</th>\n",
       "    </tr>\n",
       "  </thead>\n",
       "  <tbody>\n",
       "    <tr>\n",
       "      <th>complaints_made</th>\n",
       "      <td>0</td>\n",
       "      <td>0</td>\n",
       "      <td>1</td>\n",
       "      <td>0</td>\n",
       "      <td>0</td>\n",
       "      <td>0</td>\n",
       "      <td>1</td>\n",
       "      <td>4</td>\n",
       "      <td>0</td>\n",
       "      <td>0</td>\n",
       "      <td>1</td>\n",
       "      <td>0</td>\n",
       "    </tr>\n",
       "    <tr>\n",
       "      <th>complaints_received</th>\n",
       "      <td>1</td>\n",
       "      <td>0</td>\n",
       "      <td>1</td>\n",
       "      <td>0</td>\n",
       "      <td>5</td>\n",
       "      <td>0</td>\n",
       "      <td>0</td>\n",
       "      <td>0</td>\n",
       "      <td>0</td>\n",
       "      <td>0</td>\n",
       "      <td>0</td>\n",
       "      <td>0</td>\n",
       "    </tr>\n",
       "  </tbody>\n",
       "</table>\n",
       "</div>"
      ],
      "text/plain": [
       "                     Toby  Angela  Michael  Phyllis  Jim  Daryl  Oscar  \\\n",
       "complaints_made         0       0        1        0    0      0      1   \n",
       "complaints_received     1       0        1        0    5      0      0   \n",
       "\n",
       "                     Dwight  Ryan  Pam  Andy  Stanley  \n",
       "complaints_made           4     0    0     1        0  \n",
       "complaints_received       0     0    0     0        0  "
      ]
     },
     "execution_count": 458,
     "metadata": {},
     "output_type": "execute_result"
    }
   ],
   "source": [
    "pd.DataFrame(summary_data).head()"
   ]
  },
  {
   "cell_type": "code",
   "execution_count": 459,
   "metadata": {},
   "outputs": [
    {
     "data": {
      "text/html": [
       "<div>\n",
       "<style scoped>\n",
       "    .dataframe tbody tr th:only-of-type {\n",
       "        vertical-align: middle;\n",
       "    }\n",
       "\n",
       "    .dataframe tbody tr th {\n",
       "        vertical-align: top;\n",
       "    }\n",
       "\n",
       "    .dataframe thead th {\n",
       "        text-align: right;\n",
       "    }\n",
       "</style>\n",
       "<table border=\"1\" class=\"dataframe\">\n",
       "  <thead>\n",
       "    <tr style=\"text-align: right;\">\n",
       "      <th></th>\n",
       "      <th>complaints_made</th>\n",
       "      <th>complaints_received</th>\n",
       "    </tr>\n",
       "  </thead>\n",
       "  <tbody>\n",
       "    <tr>\n",
       "      <th>Toby</th>\n",
       "      <td>0</td>\n",
       "      <td>1</td>\n",
       "    </tr>\n",
       "    <tr>\n",
       "      <th>Angela</th>\n",
       "      <td>0</td>\n",
       "      <td>0</td>\n",
       "    </tr>\n",
       "    <tr>\n",
       "      <th>Michael</th>\n",
       "      <td>1</td>\n",
       "      <td>1</td>\n",
       "    </tr>\n",
       "    <tr>\n",
       "      <th>Phyllis</th>\n",
       "      <td>0</td>\n",
       "      <td>0</td>\n",
       "    </tr>\n",
       "    <tr>\n",
       "      <th>Jim</th>\n",
       "      <td>0</td>\n",
       "      <td>5</td>\n",
       "    </tr>\n",
       "  </tbody>\n",
       "</table>\n",
       "</div>"
      ],
      "text/plain": [
       "         complaints_made  complaints_received\n",
       "Toby                   0                    1\n",
       "Angela                 0                    0\n",
       "Michael                1                    1\n",
       "Phyllis                0                    0\n",
       "Jim                    0                    5"
      ]
     },
     "execution_count": 459,
     "metadata": {},
     "output_type": "execute_result"
    }
   ],
   "source": [
    "pd.DataFrame(summary_data).T.head()"
   ]
  },
  {
   "cell_type": "code",
   "execution_count": 457,
   "metadata": {},
   "outputs": [],
   "source": [
    "def summarize_hr_data(df, month, employees):\n",
    "    '''Summarizes HR data by Month'''\n",
    "    # Create and empty dictionary to hold our data\n",
    "    summary_data = {}\n",
    "    # Loop through our employee list with our conditions\n",
    "    for employee in employees:\n",
    "        complaints_made = len(df.loc[(df['Reporter'] == employee) & (df['Month'] == month)])\n",
    "        complaints_received = len(df.loc[(df['Employee'] == employee) & (df['Month'] == month)])\n",
    "        summary_data[employee] = {'complaints_made': complaints_made, 'complaints_received': complaints_received}\n",
    "    \n",
    "    # Transpose the data\n",
    "    tmp_df = pd.DataFrame(summary_data).T\n",
    "    \n",
    "    # Add the Month column\n",
    "    tmp_df['Month'] = month\n",
    "    \n",
    "    # We also need to give it an index\n",
    "    tmp_df.reset_index(inplace=True)\n",
    "    \n",
    "    # return the DataFrame\n",
    "    return tmp_df"
   ]
  },
  {
   "cell_type": "code",
   "execution_count": 460,
   "metadata": {},
   "outputs": [
    {
     "data": {
      "text/html": [
       "<div>\n",
       "<style scoped>\n",
       "    .dataframe tbody tr th:only-of-type {\n",
       "        vertical-align: middle;\n",
       "    }\n",
       "\n",
       "    .dataframe tbody tr th {\n",
       "        vertical-align: top;\n",
       "    }\n",
       "\n",
       "    .dataframe thead th {\n",
       "        text-align: right;\n",
       "    }\n",
       "</style>\n",
       "<table border=\"1\" class=\"dataframe\">\n",
       "  <thead>\n",
       "    <tr style=\"text-align: right;\">\n",
       "      <th></th>\n",
       "      <th>index</th>\n",
       "      <th>complaints_made</th>\n",
       "      <th>complaints_received</th>\n",
       "      <th>Month</th>\n",
       "    </tr>\n",
       "  </thead>\n",
       "  <tbody>\n",
       "    <tr>\n",
       "      <th>0</th>\n",
       "      <td>Toby</td>\n",
       "      <td>0</td>\n",
       "      <td>1</td>\n",
       "      <td>March</td>\n",
       "    </tr>\n",
       "    <tr>\n",
       "      <th>1</th>\n",
       "      <td>Angela</td>\n",
       "      <td>0</td>\n",
       "      <td>0</td>\n",
       "      <td>March</td>\n",
       "    </tr>\n",
       "    <tr>\n",
       "      <th>2</th>\n",
       "      <td>Michael</td>\n",
       "      <td>1</td>\n",
       "      <td>1</td>\n",
       "      <td>March</td>\n",
       "    </tr>\n",
       "    <tr>\n",
       "      <th>3</th>\n",
       "      <td>Phyllis</td>\n",
       "      <td>0</td>\n",
       "      <td>0</td>\n",
       "      <td>March</td>\n",
       "    </tr>\n",
       "    <tr>\n",
       "      <th>4</th>\n",
       "      <td>Jim</td>\n",
       "      <td>0</td>\n",
       "      <td>5</td>\n",
       "      <td>March</td>\n",
       "    </tr>\n",
       "  </tbody>\n",
       "</table>\n",
       "</div>"
      ],
      "text/plain": [
       "     index  complaints_made  complaints_received  Month\n",
       "0     Toby                0                    1  March\n",
       "1   Angela                0                    0  March\n",
       "2  Michael                1                    1  March\n",
       "3  Phyllis                0                    0  March\n",
       "4      Jim                0                    5  March"
      ]
     },
     "execution_count": 460,
     "metadata": {},
     "output_type": "execute_result"
    }
   ],
   "source": [
    "summarize_hr_data(df, 'March', all_employees).head()"
   ]
  },
  {
   "cell_type": "code",
   "execution_count": 461,
   "metadata": {},
   "outputs": [],
   "source": [
    "# Concat the DataFrames\n",
    "hr_summary_df = pd.concat([summarize_hr_data(df, month, employees) for month in df['Month'].unique()], \n",
    "                          ignore_index=True)"
   ]
  },
  {
   "cell_type": "code",
   "execution_count": 462,
   "metadata": {},
   "outputs": [
    {
     "data": {
      "text/html": [
       "<div>\n",
       "<style scoped>\n",
       "    .dataframe tbody tr th:only-of-type {\n",
       "        vertical-align: middle;\n",
       "    }\n",
       "\n",
       "    .dataframe tbody tr th {\n",
       "        vertical-align: top;\n",
       "    }\n",
       "\n",
       "    .dataframe thead th {\n",
       "        text-align: right;\n",
       "    }\n",
       "</style>\n",
       "<table border=\"1\" class=\"dataframe\">\n",
       "  <thead>\n",
       "    <tr style=\"text-align: right;\">\n",
       "      <th></th>\n",
       "      <th>index</th>\n",
       "      <th>complaints_made</th>\n",
       "      <th>complaints_received</th>\n",
       "      <th>Month</th>\n",
       "    </tr>\n",
       "  </thead>\n",
       "  <tbody>\n",
       "    <tr>\n",
       "      <th>0</th>\n",
       "      <td>Toby</td>\n",
       "      <td>0</td>\n",
       "      <td>1</td>\n",
       "      <td>March</td>\n",
       "    </tr>\n",
       "    <tr>\n",
       "      <th>1</th>\n",
       "      <td>Jim</td>\n",
       "      <td>0</td>\n",
       "      <td>5</td>\n",
       "      <td>March</td>\n",
       "    </tr>\n",
       "    <tr>\n",
       "      <th>2</th>\n",
       "      <td>Michael</td>\n",
       "      <td>1</td>\n",
       "      <td>1</td>\n",
       "      <td>March</td>\n",
       "    </tr>\n",
       "    <tr>\n",
       "      <th>3</th>\n",
       "      <td>Pam</td>\n",
       "      <td>0</td>\n",
       "      <td>0</td>\n",
       "      <td>March</td>\n",
       "    </tr>\n",
       "    <tr>\n",
       "      <th>4</th>\n",
       "      <td>Dwight</td>\n",
       "      <td>4</td>\n",
       "      <td>0</td>\n",
       "      <td>March</td>\n",
       "    </tr>\n",
       "    <tr>\n",
       "      <th>5</th>\n",
       "      <td>Andy</td>\n",
       "      <td>1</td>\n",
       "      <td>0</td>\n",
       "      <td>March</td>\n",
       "    </tr>\n",
       "    <tr>\n",
       "      <th>6</th>\n",
       "      <td>Ryan</td>\n",
       "      <td>0</td>\n",
       "      <td>0</td>\n",
       "      <td>March</td>\n",
       "    </tr>\n",
       "    <tr>\n",
       "      <th>7</th>\n",
       "      <td>Toby</td>\n",
       "      <td>0</td>\n",
       "      <td>1</td>\n",
       "      <td>April</td>\n",
       "    </tr>\n",
       "    <tr>\n",
       "      <th>8</th>\n",
       "      <td>Jim</td>\n",
       "      <td>0</td>\n",
       "      <td>4</td>\n",
       "      <td>April</td>\n",
       "    </tr>\n",
       "    <tr>\n",
       "      <th>9</th>\n",
       "      <td>Michael</td>\n",
       "      <td>1</td>\n",
       "      <td>0</td>\n",
       "      <td>April</td>\n",
       "    </tr>\n",
       "    <tr>\n",
       "      <th>10</th>\n",
       "      <td>Pam</td>\n",
       "      <td>0</td>\n",
       "      <td>1</td>\n",
       "      <td>April</td>\n",
       "    </tr>\n",
       "    <tr>\n",
       "      <th>11</th>\n",
       "      <td>Dwight</td>\n",
       "      <td>5</td>\n",
       "      <td>1</td>\n",
       "      <td>April</td>\n",
       "    </tr>\n",
       "    <tr>\n",
       "      <th>12</th>\n",
       "      <td>Andy</td>\n",
       "      <td>1</td>\n",
       "      <td>1</td>\n",
       "      <td>April</td>\n",
       "    </tr>\n",
       "    <tr>\n",
       "      <th>13</th>\n",
       "      <td>Ryan</td>\n",
       "      <td>0</td>\n",
       "      <td>0</td>\n",
       "      <td>April</td>\n",
       "    </tr>\n",
       "    <tr>\n",
       "      <th>14</th>\n",
       "      <td>Toby</td>\n",
       "      <td>1</td>\n",
       "      <td>1</td>\n",
       "      <td>May</td>\n",
       "    </tr>\n",
       "    <tr>\n",
       "      <th>15</th>\n",
       "      <td>Jim</td>\n",
       "      <td>0</td>\n",
       "      <td>5</td>\n",
       "      <td>May</td>\n",
       "    </tr>\n",
       "    <tr>\n",
       "      <th>16</th>\n",
       "      <td>Michael</td>\n",
       "      <td>1</td>\n",
       "      <td>1</td>\n",
       "      <td>May</td>\n",
       "    </tr>\n",
       "    <tr>\n",
       "      <th>17</th>\n",
       "      <td>Pam</td>\n",
       "      <td>0</td>\n",
       "      <td>1</td>\n",
       "      <td>May</td>\n",
       "    </tr>\n",
       "    <tr>\n",
       "      <th>18</th>\n",
       "      <td>Dwight</td>\n",
       "      <td>5</td>\n",
       "      <td>1</td>\n",
       "      <td>May</td>\n",
       "    </tr>\n",
       "    <tr>\n",
       "      <th>19</th>\n",
       "      <td>Andy</td>\n",
       "      <td>1</td>\n",
       "      <td>1</td>\n",
       "      <td>May</td>\n",
       "    </tr>\n",
       "    <tr>\n",
       "      <th>20</th>\n",
       "      <td>Ryan</td>\n",
       "      <td>0</td>\n",
       "      <td>1</td>\n",
       "      <td>May</td>\n",
       "    </tr>\n",
       "  </tbody>\n",
       "</table>\n",
       "</div>"
      ],
      "text/plain": [
       "      index  complaints_made  complaints_received  Month\n",
       "0      Toby                0                    1  March\n",
       "1       Jim                0                    5  March\n",
       "2   Michael                1                    1  March\n",
       "3       Pam                0                    0  March\n",
       "4    Dwight                4                    0  March\n",
       "5      Andy                1                    0  March\n",
       "6      Ryan                0                    0  March\n",
       "7      Toby                0                    1  April\n",
       "8       Jim                0                    4  April\n",
       "9   Michael                1                    0  April\n",
       "10      Pam                0                    1  April\n",
       "11   Dwight                5                    1  April\n",
       "12     Andy                1                    1  April\n",
       "13     Ryan                0                    0  April\n",
       "14     Toby                1                    1    May\n",
       "15      Jim                0                    5    May\n",
       "16  Michael                1                    1    May\n",
       "17      Pam                0                    1    May\n",
       "18   Dwight                5                    1    May\n",
       "19     Andy                1                    1    May\n",
       "20     Ryan                0                    1    May"
      ]
     },
     "execution_count": 462,
     "metadata": {},
     "output_type": "execute_result"
    }
   ],
   "source": [
    "hr_summary_df\n"
   ]
  },
  {
   "cell_type": "code",
   "execution_count": 463,
   "metadata": {},
   "outputs": [],
   "source": [
    "hr_summary_df = hr_summary_df.loc[(hr_summary_df['complaints_made'] > 0) | (hr_summary_df['complaints_received'] > 0)]"
   ]
  },
  {
   "cell_type": "code",
   "execution_count": 464,
   "metadata": {},
   "outputs": [
    {
     "data": {
      "text/html": [
       "<div>\n",
       "<style scoped>\n",
       "    .dataframe tbody tr th:only-of-type {\n",
       "        vertical-align: middle;\n",
       "    }\n",
       "\n",
       "    .dataframe tbody tr th {\n",
       "        vertical-align: top;\n",
       "    }\n",
       "\n",
       "    .dataframe thead th {\n",
       "        text-align: right;\n",
       "    }\n",
       "</style>\n",
       "<table border=\"1\" class=\"dataframe\">\n",
       "  <thead>\n",
       "    <tr style=\"text-align: right;\">\n",
       "      <th></th>\n",
       "      <th>index</th>\n",
       "      <th>complaints_made</th>\n",
       "      <th>complaints_received</th>\n",
       "      <th>Month</th>\n",
       "    </tr>\n",
       "  </thead>\n",
       "  <tbody>\n",
       "    <tr>\n",
       "      <th>0</th>\n",
       "      <td>Toby</td>\n",
       "      <td>0</td>\n",
       "      <td>1</td>\n",
       "      <td>March</td>\n",
       "    </tr>\n",
       "    <tr>\n",
       "      <th>1</th>\n",
       "      <td>Jim</td>\n",
       "      <td>0</td>\n",
       "      <td>5</td>\n",
       "      <td>March</td>\n",
       "    </tr>\n",
       "    <tr>\n",
       "      <th>2</th>\n",
       "      <td>Michael</td>\n",
       "      <td>1</td>\n",
       "      <td>1</td>\n",
       "      <td>March</td>\n",
       "    </tr>\n",
       "    <tr>\n",
       "      <th>4</th>\n",
       "      <td>Dwight</td>\n",
       "      <td>4</td>\n",
       "      <td>0</td>\n",
       "      <td>March</td>\n",
       "    </tr>\n",
       "    <tr>\n",
       "      <th>5</th>\n",
       "      <td>Andy</td>\n",
       "      <td>1</td>\n",
       "      <td>0</td>\n",
       "      <td>March</td>\n",
       "    </tr>\n",
       "    <tr>\n",
       "      <th>7</th>\n",
       "      <td>Toby</td>\n",
       "      <td>0</td>\n",
       "      <td>1</td>\n",
       "      <td>April</td>\n",
       "    </tr>\n",
       "    <tr>\n",
       "      <th>8</th>\n",
       "      <td>Jim</td>\n",
       "      <td>0</td>\n",
       "      <td>4</td>\n",
       "      <td>April</td>\n",
       "    </tr>\n",
       "    <tr>\n",
       "      <th>9</th>\n",
       "      <td>Michael</td>\n",
       "      <td>1</td>\n",
       "      <td>0</td>\n",
       "      <td>April</td>\n",
       "    </tr>\n",
       "    <tr>\n",
       "      <th>10</th>\n",
       "      <td>Pam</td>\n",
       "      <td>0</td>\n",
       "      <td>1</td>\n",
       "      <td>April</td>\n",
       "    </tr>\n",
       "    <tr>\n",
       "      <th>11</th>\n",
       "      <td>Dwight</td>\n",
       "      <td>5</td>\n",
       "      <td>1</td>\n",
       "      <td>April</td>\n",
       "    </tr>\n",
       "    <tr>\n",
       "      <th>12</th>\n",
       "      <td>Andy</td>\n",
       "      <td>1</td>\n",
       "      <td>1</td>\n",
       "      <td>April</td>\n",
       "    </tr>\n",
       "    <tr>\n",
       "      <th>14</th>\n",
       "      <td>Toby</td>\n",
       "      <td>1</td>\n",
       "      <td>1</td>\n",
       "      <td>May</td>\n",
       "    </tr>\n",
       "    <tr>\n",
       "      <th>15</th>\n",
       "      <td>Jim</td>\n",
       "      <td>0</td>\n",
       "      <td>5</td>\n",
       "      <td>May</td>\n",
       "    </tr>\n",
       "    <tr>\n",
       "      <th>16</th>\n",
       "      <td>Michael</td>\n",
       "      <td>1</td>\n",
       "      <td>1</td>\n",
       "      <td>May</td>\n",
       "    </tr>\n",
       "    <tr>\n",
       "      <th>17</th>\n",
       "      <td>Pam</td>\n",
       "      <td>0</td>\n",
       "      <td>1</td>\n",
       "      <td>May</td>\n",
       "    </tr>\n",
       "    <tr>\n",
       "      <th>18</th>\n",
       "      <td>Dwight</td>\n",
       "      <td>5</td>\n",
       "      <td>1</td>\n",
       "      <td>May</td>\n",
       "    </tr>\n",
       "    <tr>\n",
       "      <th>19</th>\n",
       "      <td>Andy</td>\n",
       "      <td>1</td>\n",
       "      <td>1</td>\n",
       "      <td>May</td>\n",
       "    </tr>\n",
       "    <tr>\n",
       "      <th>20</th>\n",
       "      <td>Ryan</td>\n",
       "      <td>0</td>\n",
       "      <td>1</td>\n",
       "      <td>May</td>\n",
       "    </tr>\n",
       "  </tbody>\n",
       "</table>\n",
       "</div>"
      ],
      "text/plain": [
       "      index  complaints_made  complaints_received  Month\n",
       "0      Toby                0                    1  March\n",
       "1       Jim                0                    5  March\n",
       "2   Michael                1                    1  March\n",
       "4    Dwight                4                    0  March\n",
       "5      Andy                1                    0  March\n",
       "7      Toby                0                    1  April\n",
       "8       Jim                0                    4  April\n",
       "9   Michael                1                    0  April\n",
       "10      Pam                0                    1  April\n",
       "11   Dwight                5                    1  April\n",
       "12     Andy                1                    1  April\n",
       "14     Toby                1                    1    May\n",
       "15      Jim                0                    5    May\n",
       "16  Michael                1                    1    May\n",
       "17      Pam                0                    1    May\n",
       "18   Dwight                5                    1    May\n",
       "19     Andy                1                    1    May\n",
       "20     Ryan                0                    1    May"
      ]
     },
     "execution_count": 464,
     "metadata": {},
     "output_type": "execute_result"
    }
   ],
   "source": [
    "hr_summary_df"
   ]
  },
  {
   "cell_type": "code",
   "execution_count": 465,
   "metadata": {},
   "outputs": [],
   "source": [
    "# Let's rename and reorder our columns:\n",
    "hr_summary_df.columns = ['Employee', 'Complaints Made', 'Complaints Received', 'Month']"
   ]
  },
  {
   "cell_type": "code",
   "execution_count": 466,
   "metadata": {},
   "outputs": [],
   "source": [
    "r_summary_df = hr_summary_df[['Month', 'Employee', 'Complaints Made', 'Complaints Received']]"
   ]
  },
  {
   "cell_type": "code",
   "execution_count": 467,
   "metadata": {},
   "outputs": [
    {
     "data": {
      "text/html": [
       "<div>\n",
       "<style scoped>\n",
       "    .dataframe tbody tr th:only-of-type {\n",
       "        vertical-align: middle;\n",
       "    }\n",
       "\n",
       "    .dataframe tbody tr th {\n",
       "        vertical-align: top;\n",
       "    }\n",
       "\n",
       "    .dataframe thead th {\n",
       "        text-align: right;\n",
       "    }\n",
       "</style>\n",
       "<table border=\"1\" class=\"dataframe\">\n",
       "  <thead>\n",
       "    <tr style=\"text-align: right;\">\n",
       "      <th></th>\n",
       "      <th>Employee</th>\n",
       "      <th>Complaints Made</th>\n",
       "      <th>Complaints Received</th>\n",
       "      <th>Month</th>\n",
       "    </tr>\n",
       "  </thead>\n",
       "  <tbody>\n",
       "    <tr>\n",
       "      <th>0</th>\n",
       "      <td>Toby</td>\n",
       "      <td>0</td>\n",
       "      <td>1</td>\n",
       "      <td>March</td>\n",
       "    </tr>\n",
       "    <tr>\n",
       "      <th>1</th>\n",
       "      <td>Jim</td>\n",
       "      <td>0</td>\n",
       "      <td>5</td>\n",
       "      <td>March</td>\n",
       "    </tr>\n",
       "    <tr>\n",
       "      <th>2</th>\n",
       "      <td>Michael</td>\n",
       "      <td>1</td>\n",
       "      <td>1</td>\n",
       "      <td>March</td>\n",
       "    </tr>\n",
       "    <tr>\n",
       "      <th>4</th>\n",
       "      <td>Dwight</td>\n",
       "      <td>4</td>\n",
       "      <td>0</td>\n",
       "      <td>March</td>\n",
       "    </tr>\n",
       "    <tr>\n",
       "      <th>5</th>\n",
       "      <td>Andy</td>\n",
       "      <td>1</td>\n",
       "      <td>0</td>\n",
       "      <td>March</td>\n",
       "    </tr>\n",
       "    <tr>\n",
       "      <th>7</th>\n",
       "      <td>Toby</td>\n",
       "      <td>0</td>\n",
       "      <td>1</td>\n",
       "      <td>April</td>\n",
       "    </tr>\n",
       "    <tr>\n",
       "      <th>8</th>\n",
       "      <td>Jim</td>\n",
       "      <td>0</td>\n",
       "      <td>4</td>\n",
       "      <td>April</td>\n",
       "    </tr>\n",
       "    <tr>\n",
       "      <th>9</th>\n",
       "      <td>Michael</td>\n",
       "      <td>1</td>\n",
       "      <td>0</td>\n",
       "      <td>April</td>\n",
       "    </tr>\n",
       "    <tr>\n",
       "      <th>10</th>\n",
       "      <td>Pam</td>\n",
       "      <td>0</td>\n",
       "      <td>1</td>\n",
       "      <td>April</td>\n",
       "    </tr>\n",
       "    <tr>\n",
       "      <th>11</th>\n",
       "      <td>Dwight</td>\n",
       "      <td>5</td>\n",
       "      <td>1</td>\n",
       "      <td>April</td>\n",
       "    </tr>\n",
       "    <tr>\n",
       "      <th>12</th>\n",
       "      <td>Andy</td>\n",
       "      <td>1</td>\n",
       "      <td>1</td>\n",
       "      <td>April</td>\n",
       "    </tr>\n",
       "    <tr>\n",
       "      <th>14</th>\n",
       "      <td>Toby</td>\n",
       "      <td>1</td>\n",
       "      <td>1</td>\n",
       "      <td>May</td>\n",
       "    </tr>\n",
       "    <tr>\n",
       "      <th>15</th>\n",
       "      <td>Jim</td>\n",
       "      <td>0</td>\n",
       "      <td>5</td>\n",
       "      <td>May</td>\n",
       "    </tr>\n",
       "    <tr>\n",
       "      <th>16</th>\n",
       "      <td>Michael</td>\n",
       "      <td>1</td>\n",
       "      <td>1</td>\n",
       "      <td>May</td>\n",
       "    </tr>\n",
       "    <tr>\n",
       "      <th>17</th>\n",
       "      <td>Pam</td>\n",
       "      <td>0</td>\n",
       "      <td>1</td>\n",
       "      <td>May</td>\n",
       "    </tr>\n",
       "    <tr>\n",
       "      <th>18</th>\n",
       "      <td>Dwight</td>\n",
       "      <td>5</td>\n",
       "      <td>1</td>\n",
       "      <td>May</td>\n",
       "    </tr>\n",
       "    <tr>\n",
       "      <th>19</th>\n",
       "      <td>Andy</td>\n",
       "      <td>1</td>\n",
       "      <td>1</td>\n",
       "      <td>May</td>\n",
       "    </tr>\n",
       "    <tr>\n",
       "      <th>20</th>\n",
       "      <td>Ryan</td>\n",
       "      <td>0</td>\n",
       "      <td>1</td>\n",
       "      <td>May</td>\n",
       "    </tr>\n",
       "  </tbody>\n",
       "</table>\n",
       "</div>"
      ],
      "text/plain": [
       "   Employee  Complaints Made  Complaints Received  Month\n",
       "0      Toby                0                    1  March\n",
       "1       Jim                0                    5  March\n",
       "2   Michael                1                    1  March\n",
       "4    Dwight                4                    0  March\n",
       "5      Andy                1                    0  March\n",
       "7      Toby                0                    1  April\n",
       "8       Jim                0                    4  April\n",
       "9   Michael                1                    0  April\n",
       "10      Pam                0                    1  April\n",
       "11   Dwight                5                    1  April\n",
       "12     Andy                1                    1  April\n",
       "14     Toby                1                    1    May\n",
       "15      Jim                0                    5    May\n",
       "16  Michael                1                    1    May\n",
       "17      Pam                0                    1    May\n",
       "18   Dwight                5                    1    May\n",
       "19     Andy                1                    1    May\n",
       "20     Ryan                0                    1    May"
      ]
     },
     "execution_count": 467,
     "metadata": {},
     "output_type": "execute_result"
    }
   ],
   "source": [
    "hr_summary_df"
   ]
  },
  {
   "cell_type": "code",
   "execution_count": 468,
   "metadata": {},
   "outputs": [
    {
     "data": {
      "text/html": [
       "<div>\n",
       "<style scoped>\n",
       "    .dataframe tbody tr th:only-of-type {\n",
       "        vertical-align: middle;\n",
       "    }\n",
       "\n",
       "    .dataframe tbody tr th {\n",
       "        vertical-align: top;\n",
       "    }\n",
       "\n",
       "    .dataframe thead th {\n",
       "        text-align: right;\n",
       "    }\n",
       "</style>\n",
       "<table border=\"1\" class=\"dataframe\">\n",
       "  <thead>\n",
       "    <tr style=\"text-align: right;\">\n",
       "      <th></th>\n",
       "      <th>Date</th>\n",
       "      <th>Reporter</th>\n",
       "      <th>Employee</th>\n",
       "      <th>Complaint</th>\n",
       "      <th>Month</th>\n",
       "    </tr>\n",
       "  </thead>\n",
       "  <tbody>\n",
       "    <tr>\n",
       "      <th>1</th>\n",
       "      <td>2019-03-02</td>\n",
       "      <td>Dwight</td>\n",
       "      <td>Jim</td>\n",
       "      <td>Jim encased my stapler in Jello</td>\n",
       "      <td>March</td>\n",
       "    </tr>\n",
       "    <tr>\n",
       "      <th>2</th>\n",
       "      <td>2019-03-03</td>\n",
       "      <td>Andy</td>\n",
       "      <td>Jim</td>\n",
       "      <td>Jim hid my phone in the ceiling</td>\n",
       "      <td>March</td>\n",
       "    </tr>\n",
       "    <tr>\n",
       "      <th>3</th>\n",
       "      <td>2019-03-05</td>\n",
       "      <td>Dwight</td>\n",
       "      <td>Jim</td>\n",
       "      <td>I hit myself in the head with my phone</td>\n",
       "      <td>March</td>\n",
       "    </tr>\n",
       "    <tr>\n",
       "      <th>4</th>\n",
       "      <td>2019-03-09</td>\n",
       "      <td>Dwight</td>\n",
       "      <td>Jim</td>\n",
       "      <td>Jim jammed all of my desk drawers so I could o...</td>\n",
       "      <td>March</td>\n",
       "    </tr>\n",
       "    <tr>\n",
       "      <th>6</th>\n",
       "      <td>2019-03-17</td>\n",
       "      <td>Dwight</td>\n",
       "      <td>Jim</td>\n",
       "      <td>Jim stole my identity</td>\n",
       "      <td>March</td>\n",
       "    </tr>\n",
       "  </tbody>\n",
       "</table>\n",
       "</div>"
      ],
      "text/plain": [
       "        Date Reporter Employee  \\\n",
       "1 2019-03-02   Dwight      Jim   \n",
       "2 2019-03-03     Andy      Jim   \n",
       "3 2019-03-05   Dwight      Jim   \n",
       "4 2019-03-09   Dwight      Jim   \n",
       "6 2019-03-17   Dwight      Jim   \n",
       "\n",
       "                                           Complaint  Month  \n",
       "1                    Jim encased my stapler in Jello  March  \n",
       "2                    Jim hid my phone in the ceiling  March  \n",
       "3             I hit myself in the head with my phone  March  \n",
       "4  Jim jammed all of my desk drawers so I could o...  March  \n",
       "6                              Jim stole my identity  March  "
      ]
     },
     "execution_count": 468,
     "metadata": {},
     "output_type": "execute_result"
    }
   ],
   "source": [
    "df.loc[(df['Employee'] == 'Jim') & (df['Month'] == 'March')]"
   ]
  },
  {
   "cell_type": "code",
   "execution_count": 470,
   "metadata": {},
   "outputs": [],
   "source": [
    "def get_complaint_details(df, month, employees):\n",
    "    '''Gets the complaint details if the employee had more than three complaints in a month'''\n",
    "    # Create an empty list to hold our DataFrames\n",
    "    frames = []\n",
    "    # Loop through our employee list with our conditions\n",
    "    for employee in employees:\n",
    "        complaints_received = df.loc[(df['Employee'] == employee) & (df['Month'] == month)]\n",
    "        # IF there were three or more complaints:\n",
    "        if len(complaints_received) >= 3:\n",
    "            frames.append(pd.DataFrame(complaints_received))\n",
    "    df = pd.concat(frames, ignore_index=True)\n",
    "    \n",
    "    return df"
   ]
  },
  {
   "cell_type": "code",
   "execution_count": 475,
   "metadata": {},
   "outputs": [
    {
     "data": {
      "text/plain": [
       "array(['Toby', 'Jim'], dtype=object)"
      ]
     },
     "execution_count": 475,
     "metadata": {},
     "output_type": "execute_result"
    }
   ],
   "source": [
    "df.head(2)\n",
    "month\n",
    "employees[:2]"
   ]
  },
  {
   "cell_type": "code",
   "execution_count": null,
   "metadata": {},
   "outputs": [],
   "source": [
    "get_complaint_details(df, month, employees)"
   ]
  },
  {
   "cell_type": "code",
   "execution_count": 476,
   "metadata": {},
   "outputs": [],
   "source": [
    "hr_df =  pd.concat([get_complaint_details(df, month, all_employees) for month in df['Month'].unique()], \n",
    "                       ignore_index=False)"
   ]
  },
  {
   "cell_type": "code",
   "execution_count": 477,
   "metadata": {},
   "outputs": [
    {
     "data": {
      "text/html": [
       "<div>\n",
       "<style scoped>\n",
       "    .dataframe tbody tr th:only-of-type {\n",
       "        vertical-align: middle;\n",
       "    }\n",
       "\n",
       "    .dataframe tbody tr th {\n",
       "        vertical-align: top;\n",
       "    }\n",
       "\n",
       "    .dataframe thead th {\n",
       "        text-align: right;\n",
       "    }\n",
       "</style>\n",
       "<table border=\"1\" class=\"dataframe\">\n",
       "  <thead>\n",
       "    <tr style=\"text-align: right;\">\n",
       "      <th></th>\n",
       "      <th>Date</th>\n",
       "      <th>Reporter</th>\n",
       "      <th>Employee</th>\n",
       "      <th>Complaint</th>\n",
       "      <th>Month</th>\n",
       "    </tr>\n",
       "  </thead>\n",
       "  <tbody>\n",
       "    <tr>\n",
       "      <th>0</th>\n",
       "      <td>2019-03-02</td>\n",
       "      <td>Dwight</td>\n",
       "      <td>Jim</td>\n",
       "      <td>Jim encased my stapler in Jello</td>\n",
       "      <td>March</td>\n",
       "    </tr>\n",
       "    <tr>\n",
       "      <th>1</th>\n",
       "      <td>2019-03-03</td>\n",
       "      <td>Andy</td>\n",
       "      <td>Jim</td>\n",
       "      <td>Jim hid my phone in the ceiling</td>\n",
       "      <td>March</td>\n",
       "    </tr>\n",
       "    <tr>\n",
       "      <th>2</th>\n",
       "      <td>2019-03-05</td>\n",
       "      <td>Dwight</td>\n",
       "      <td>Jim</td>\n",
       "      <td>I hit myself in the head with my phone</td>\n",
       "      <td>March</td>\n",
       "    </tr>\n",
       "  </tbody>\n",
       "</table>\n",
       "</div>"
      ],
      "text/plain": [
       "        Date Reporter Employee                               Complaint  Month\n",
       "0 2019-03-02   Dwight      Jim         Jim encased my stapler in Jello  March\n",
       "1 2019-03-03     Andy      Jim         Jim hid my phone in the ceiling  March\n",
       "2 2019-03-05   Dwight      Jim  I hit myself in the head with my phone  March"
      ]
     },
     "execution_count": 477,
     "metadata": {},
     "output_type": "execute_result"
    }
   ],
   "source": [
    "hr_df.head(3)"
   ]
  },
  {
   "cell_type": "markdown",
   "metadata": {},
   "source": [
    " ## Combining reports "
   ]
  },
  {
   "cell_type": "code",
   "execution_count": 481,
   "metadata": {},
   "outputs": [],
   "source": [
    "# Define the path to the file\n",
    "combined_report = os.path.join('..', 'data', 'combined_report.xlsx')"
   ]
  },
  {
   "cell_type": "code",
   "execution_count": 483,
   "metadata": {},
   "outputs": [],
   "source": [
    "# Read the file into our notebook\n",
    "frames = pd.read_excel(combined_report, sheet_name=None)"
   ]
  },
  {
   "cell_type": "code",
   "execution_count": 485,
   "metadata": {},
   "outputs": [
    {
     "data": {
      "text/plain": [
       "dict_keys(['Sales', 'Billing', 'Supply', 'HR', 'HR Detail'])"
      ]
     },
     "execution_count": 485,
     "metadata": {},
     "output_type": "execute_result"
    }
   ],
   "source": [
    "frames.keys()"
   ]
  },
  {
   "cell_type": "code",
   "execution_count": 486,
   "metadata": {},
   "outputs": [],
   "source": [
    "# Summarize the Sales Data\n",
    "sales_summary = pd.DataFrame(frames['Sales']).groupby(['Month'], as_index=False).agg({\\\n",
    "    'Amt': [sum],\n",
    "    'Commission': [sum]\n",
    "})"
   ]
  },
  {
   "cell_type": "code",
   "execution_count": 487,
   "metadata": {},
   "outputs": [
    {
     "data": {
      "text/html": [
       "<div>\n",
       "<style scoped>\n",
       "    .dataframe tbody tr th:only-of-type {\n",
       "        vertical-align: middle;\n",
       "    }\n",
       "\n",
       "    .dataframe tbody tr th {\n",
       "        vertical-align: top;\n",
       "    }\n",
       "\n",
       "    .dataframe thead tr th {\n",
       "        text-align: left;\n",
       "    }\n",
       "</style>\n",
       "<table border=\"1\" class=\"dataframe\">\n",
       "  <thead>\n",
       "    <tr>\n",
       "      <th></th>\n",
       "      <th>Month</th>\n",
       "      <th>Amt</th>\n",
       "      <th>Commission</th>\n",
       "    </tr>\n",
       "    <tr>\n",
       "      <th></th>\n",
       "      <th></th>\n",
       "      <th>sum</th>\n",
       "      <th>sum</th>\n",
       "    </tr>\n",
       "  </thead>\n",
       "  <tbody>\n",
       "    <tr>\n",
       "      <th>0</th>\n",
       "      <td>April</td>\n",
       "      <td>92575</td>\n",
       "      <td>13886.25</td>\n",
       "    </tr>\n",
       "    <tr>\n",
       "      <th>1</th>\n",
       "      <td>March</td>\n",
       "      <td>125625</td>\n",
       "      <td>18843.75</td>\n",
       "    </tr>\n",
       "    <tr>\n",
       "      <th>2</th>\n",
       "      <td>May</td>\n",
       "      <td>73250</td>\n",
       "      <td>10987.50</td>\n",
       "    </tr>\n",
       "  </tbody>\n",
       "</table>\n",
       "</div>"
      ],
      "text/plain": [
       "   Month     Amt Commission\n",
       "             sum        sum\n",
       "0  April   92575   13886.25\n",
       "1  March  125625   18843.75\n",
       "2    May   73250   10987.50"
      ]
     },
     "execution_count": 487,
     "metadata": {},
     "output_type": "execute_result"
    }
   ],
   "source": [
    "sales_summary"
   ]
  },
  {
   "cell_type": "code",
   "execution_count": 488,
   "metadata": {},
   "outputs": [],
   "source": [
    "# Rename the columns\n",
    "sales_summary.columns = ['Month', 'Sales Amount', 'Sales Commission']"
   ]
  },
  {
   "cell_type": "code",
   "execution_count": 489,
   "metadata": {},
   "outputs": [
    {
     "data": {
      "text/html": [
       "<div>\n",
       "<style scoped>\n",
       "    .dataframe tbody tr th:only-of-type {\n",
       "        vertical-align: middle;\n",
       "    }\n",
       "\n",
       "    .dataframe tbody tr th {\n",
       "        vertical-align: top;\n",
       "    }\n",
       "\n",
       "    .dataframe thead th {\n",
       "        text-align: right;\n",
       "    }\n",
       "</style>\n",
       "<table border=\"1\" class=\"dataframe\">\n",
       "  <thead>\n",
       "    <tr style=\"text-align: right;\">\n",
       "      <th></th>\n",
       "      <th>Month</th>\n",
       "      <th>Sales Amount</th>\n",
       "      <th>Sales Commission</th>\n",
       "    </tr>\n",
       "  </thead>\n",
       "  <tbody>\n",
       "    <tr>\n",
       "      <th>0</th>\n",
       "      <td>April</td>\n",
       "      <td>92575</td>\n",
       "      <td>13886.25</td>\n",
       "    </tr>\n",
       "    <tr>\n",
       "      <th>1</th>\n",
       "      <td>March</td>\n",
       "      <td>125625</td>\n",
       "      <td>18843.75</td>\n",
       "    </tr>\n",
       "    <tr>\n",
       "      <th>2</th>\n",
       "      <td>May</td>\n",
       "      <td>73250</td>\n",
       "      <td>10987.50</td>\n",
       "    </tr>\n",
       "  </tbody>\n",
       "</table>\n",
       "</div>"
      ],
      "text/plain": [
       "   Month  Sales Amount  Sales Commission\n",
       "0  April         92575          13886.25\n",
       "1  March        125625          18843.75\n",
       "2    May         73250          10987.50"
      ]
     },
     "execution_count": 489,
     "metadata": {},
     "output_type": "execute_result"
    }
   ],
   "source": [
    "sales_summary  #sort in calendar order"
   ]
  },
  {
   "cell_type": "code",
   "execution_count": 490,
   "metadata": {},
   "outputs": [],
   "source": [
    "# Define the category\n",
    "sales_summary['Month'] = pd.Categorical(sales_summary['Month'], ['March', 'April', 'May'])"
   ]
  },
  {
   "cell_type": "code",
   "execution_count": 491,
   "metadata": {},
   "outputs": [],
   "source": [
    "# Sort the values\n",
    "sales_summary.sort_values(by=['Month'], inplace=True)"
   ]
  },
  {
   "cell_type": "code",
   "execution_count": 492,
   "metadata": {},
   "outputs": [
    {
     "data": {
      "text/html": [
       "<div>\n",
       "<style scoped>\n",
       "    .dataframe tbody tr th:only-of-type {\n",
       "        vertical-align: middle;\n",
       "    }\n",
       "\n",
       "    .dataframe tbody tr th {\n",
       "        vertical-align: top;\n",
       "    }\n",
       "\n",
       "    .dataframe thead th {\n",
       "        text-align: right;\n",
       "    }\n",
       "</style>\n",
       "<table border=\"1\" class=\"dataframe\">\n",
       "  <thead>\n",
       "    <tr style=\"text-align: right;\">\n",
       "      <th></th>\n",
       "      <th>Month</th>\n",
       "      <th>Sales Amount</th>\n",
       "      <th>Sales Commission</th>\n",
       "    </tr>\n",
       "  </thead>\n",
       "  <tbody>\n",
       "    <tr>\n",
       "      <th>1</th>\n",
       "      <td>March</td>\n",
       "      <td>125625</td>\n",
       "      <td>18843.75</td>\n",
       "    </tr>\n",
       "    <tr>\n",
       "      <th>0</th>\n",
       "      <td>April</td>\n",
       "      <td>92575</td>\n",
       "      <td>13886.25</td>\n",
       "    </tr>\n",
       "    <tr>\n",
       "      <th>2</th>\n",
       "      <td>May</td>\n",
       "      <td>73250</td>\n",
       "      <td>10987.50</td>\n",
       "    </tr>\n",
       "  </tbody>\n",
       "</table>\n",
       "</div>"
      ],
      "text/plain": [
       "   Month  Sales Amount  Sales Commission\n",
       "1  March        125625          18843.75\n",
       "0  April         92575          13886.25\n",
       "2    May         73250          10987.50"
      ]
     },
     "execution_count": 492,
     "metadata": {},
     "output_type": "execute_result"
    }
   ],
   "source": [
    "# Preview our data\n",
    "sales_summary.head()"
   ]
  },
  {
   "cell_type": "code",
   "execution_count": 493,
   "metadata": {},
   "outputs": [],
   "source": [
    "billing_summary = pd.DataFrame(frames['Billing']).groupby(['Month'], as_index=False).agg({ \\\n",
    "    'Total Billed': [sum],\n",
    "    'Total Paid': [sum],\n",
    "})"
   ]
  },
  {
   "cell_type": "code",
   "execution_count": 494,
   "metadata": {},
   "outputs": [
    {
     "data": {
      "text/html": [
       "<div>\n",
       "<style scoped>\n",
       "    .dataframe tbody tr th:only-of-type {\n",
       "        vertical-align: middle;\n",
       "    }\n",
       "\n",
       "    .dataframe tbody tr th {\n",
       "        vertical-align: top;\n",
       "    }\n",
       "\n",
       "    .dataframe thead tr th {\n",
       "        text-align: left;\n",
       "    }\n",
       "</style>\n",
       "<table border=\"1\" class=\"dataframe\">\n",
       "  <thead>\n",
       "    <tr>\n",
       "      <th></th>\n",
       "      <th>Month</th>\n",
       "      <th>Total Billed</th>\n",
       "      <th>Total Paid</th>\n",
       "    </tr>\n",
       "    <tr>\n",
       "      <th></th>\n",
       "      <th></th>\n",
       "      <th>sum</th>\n",
       "      <th>sum</th>\n",
       "    </tr>\n",
       "  </thead>\n",
       "  <tbody>\n",
       "    <tr>\n",
       "      <th>0</th>\n",
       "      <td>April</td>\n",
       "      <td>61100</td>\n",
       "      <td>59800</td>\n",
       "    </tr>\n",
       "    <tr>\n",
       "      <th>1</th>\n",
       "      <td>March</td>\n",
       "      <td>82912</td>\n",
       "      <td>69587</td>\n",
       "    </tr>\n",
       "  </tbody>\n",
       "</table>\n",
       "</div>"
      ],
      "text/plain": [
       "   Month Total Billed Total Paid\n",
       "                  sum        sum\n",
       "0  April        61100      59800\n",
       "1  March        82912      69587"
      ]
     },
     "execution_count": 494,
     "metadata": {},
     "output_type": "execute_result"
    }
   ],
   "source": [
    "billing_summary.head(2)"
   ]
  },
  {
   "cell_type": "code",
   "execution_count": 495,
   "metadata": {},
   "outputs": [],
   "source": [
    "billing_summary.columns = ['Month', 'Amount Billed', 'Amount Paid']"
   ]
  },
  {
   "cell_type": "code",
   "execution_count": 496,
   "metadata": {},
   "outputs": [],
   "source": [
    "billing_summary['Month'] = pd.Categorical(billing_summary['Month'], ['March', 'April', 'May'])"
   ]
  },
  {
   "cell_type": "code",
   "execution_count": 497,
   "metadata": {},
   "outputs": [],
   "source": [
    "billing_summary.sort_values(by=['Month'], inplace=True)"
   ]
  },
  {
   "cell_type": "code",
   "execution_count": 498,
   "metadata": {},
   "outputs": [],
   "source": [
    "billing_summary['Outstanding Balance'] = billing_summary['Amount Billed'] - billing_summary['Amount Paid']"
   ]
  },
  {
   "cell_type": "code",
   "execution_count": 499,
   "metadata": {},
   "outputs": [
    {
     "data": {
      "text/html": [
       "<div>\n",
       "<style scoped>\n",
       "    .dataframe tbody tr th:only-of-type {\n",
       "        vertical-align: middle;\n",
       "    }\n",
       "\n",
       "    .dataframe tbody tr th {\n",
       "        vertical-align: top;\n",
       "    }\n",
       "\n",
       "    .dataframe thead th {\n",
       "        text-align: right;\n",
       "    }\n",
       "</style>\n",
       "<table border=\"1\" class=\"dataframe\">\n",
       "  <thead>\n",
       "    <tr style=\"text-align: right;\">\n",
       "      <th></th>\n",
       "      <th>Month</th>\n",
       "      <th>Amount Billed</th>\n",
       "      <th>Amount Paid</th>\n",
       "      <th>Outstanding Balance</th>\n",
       "    </tr>\n",
       "  </thead>\n",
       "  <tbody>\n",
       "    <tr>\n",
       "      <th>1</th>\n",
       "      <td>March</td>\n",
       "      <td>82912</td>\n",
       "      <td>69587</td>\n",
       "      <td>13325</td>\n",
       "    </tr>\n",
       "    <tr>\n",
       "      <th>0</th>\n",
       "      <td>April</td>\n",
       "      <td>61100</td>\n",
       "      <td>59800</td>\n",
       "      <td>1300</td>\n",
       "    </tr>\n",
       "    <tr>\n",
       "      <th>2</th>\n",
       "      <td>May</td>\n",
       "      <td>48345</td>\n",
       "      <td>45980</td>\n",
       "      <td>2365</td>\n",
       "    </tr>\n",
       "  </tbody>\n",
       "</table>\n",
       "</div>"
      ],
      "text/plain": [
       "   Month  Amount Billed  Amount Paid  Outstanding Balance\n",
       "1  March          82912        69587                13325\n",
       "0  April          61100        59800                 1300\n",
       "2    May          48345        45980                 2365"
      ]
     },
     "execution_count": 499,
     "metadata": {},
     "output_type": "execute_result"
    }
   ],
   "source": [
    "billing_summary.head()"
   ]
  },
  {
   "cell_type": "code",
   "execution_count": 500,
   "metadata": {},
   "outputs": [],
   "source": [
    "supply_summary = pd.DataFrame(frames['Supply']).groupby(['Month'], as_index=False).agg({\n",
    "    'Incoming': [sum],\n",
    "    'Outgoing': [sum],\n",
    "    'On-Hand': [sum],\n",
    "})"
   ]
  },
  {
   "cell_type": "code",
   "execution_count": 501,
   "metadata": {},
   "outputs": [],
   "source": [
    "supply_summary.columns = ['Month', 'Supply - Incoming', 'Supply - Outgoing', 'Supply - On-Hand']"
   ]
  },
  {
   "cell_type": "code",
   "execution_count": 502,
   "metadata": {},
   "outputs": [],
   "source": [
    "supply_summary['Month'] = pd.Categorical(supply_summary['Month'], ['March', 'April', 'May'])"
   ]
  },
  {
   "cell_type": "code",
   "execution_count": 503,
   "metadata": {},
   "outputs": [],
   "source": [
    "supply_summary.sort_values(by=['Month'], inplace=True)"
   ]
  },
  {
   "cell_type": "code",
   "execution_count": 504,
   "metadata": {},
   "outputs": [
    {
     "data": {
      "text/html": [
       "<div>\n",
       "<style scoped>\n",
       "    .dataframe tbody tr th:only-of-type {\n",
       "        vertical-align: middle;\n",
       "    }\n",
       "\n",
       "    .dataframe tbody tr th {\n",
       "        vertical-align: top;\n",
       "    }\n",
       "\n",
       "    .dataframe thead th {\n",
       "        text-align: right;\n",
       "    }\n",
       "</style>\n",
       "<table border=\"1\" class=\"dataframe\">\n",
       "  <thead>\n",
       "    <tr style=\"text-align: right;\">\n",
       "      <th></th>\n",
       "      <th>Month</th>\n",
       "      <th>Supply - Incoming</th>\n",
       "      <th>Supply - Outgoing</th>\n",
       "      <th>Supply - On-Hand</th>\n",
       "    </tr>\n",
       "  </thead>\n",
       "  <tbody>\n",
       "    <tr>\n",
       "      <th>1</th>\n",
       "      <td>March</td>\n",
       "      <td>1400</td>\n",
       "      <td>1225</td>\n",
       "      <td>150</td>\n",
       "    </tr>\n",
       "    <tr>\n",
       "      <th>0</th>\n",
       "      <td>April</td>\n",
       "      <td>1200</td>\n",
       "      <td>1150</td>\n",
       "      <td>325</td>\n",
       "    </tr>\n",
       "    <tr>\n",
       "      <th>2</th>\n",
       "      <td>May</td>\n",
       "      <td>1075</td>\n",
       "      <td>1225</td>\n",
       "      <td>375</td>\n",
       "    </tr>\n",
       "  </tbody>\n",
       "</table>\n",
       "</div>"
      ],
      "text/plain": [
       "   Month  Supply - Incoming  Supply - Outgoing  Supply - On-Hand\n",
       "1  March               1400               1225               150\n",
       "0  April               1200               1150               325\n",
       "2    May               1075               1225               375"
      ]
     },
     "execution_count": 504,
     "metadata": {},
     "output_type": "execute_result"
    }
   ],
   "source": [
    "supply_summary.head()"
   ]
  },
  {
   "cell_type": "code",
   "execution_count": 505,
   "metadata": {},
   "outputs": [],
   "source": [
    "hr_summary = pd.DataFrame(frames['HR']).groupby(['Month'], as_index=False).agg({\n",
    "    'Complaints Received': [sum],\n",
    "})"
   ]
  },
  {
   "cell_type": "code",
   "execution_count": 506,
   "metadata": {},
   "outputs": [],
   "source": [
    "hr_summary.columns = ['Month', 'HR Incidents']"
   ]
  },
  {
   "cell_type": "code",
   "execution_count": 507,
   "metadata": {},
   "outputs": [],
   "source": [
    "hr_summary['Month'] = pd.Categorical(hr_summary['Month'], ['March', 'April', 'May'])"
   ]
  },
  {
   "cell_type": "code",
   "execution_count": 508,
   "metadata": {},
   "outputs": [],
   "source": [
    "hr_summary.sort_values(by=['Month'], inplace=True)"
   ]
  },
  {
   "cell_type": "code",
   "execution_count": 509,
   "metadata": {},
   "outputs": [
    {
     "data": {
      "text/html": [
       "<div>\n",
       "<style scoped>\n",
       "    .dataframe tbody tr th:only-of-type {\n",
       "        vertical-align: middle;\n",
       "    }\n",
       "\n",
       "    .dataframe tbody tr th {\n",
       "        vertical-align: top;\n",
       "    }\n",
       "\n",
       "    .dataframe thead th {\n",
       "        text-align: right;\n",
       "    }\n",
       "</style>\n",
       "<table border=\"1\" class=\"dataframe\">\n",
       "  <thead>\n",
       "    <tr style=\"text-align: right;\">\n",
       "      <th></th>\n",
       "      <th>Month</th>\n",
       "      <th>HR Incidents</th>\n",
       "    </tr>\n",
       "  </thead>\n",
       "  <tbody>\n",
       "    <tr>\n",
       "      <th>1</th>\n",
       "      <td>March</td>\n",
       "      <td>7</td>\n",
       "    </tr>\n",
       "    <tr>\n",
       "      <th>0</th>\n",
       "      <td>April</td>\n",
       "      <td>8</td>\n",
       "    </tr>\n",
       "    <tr>\n",
       "      <th>2</th>\n",
       "      <td>May</td>\n",
       "      <td>11</td>\n",
       "    </tr>\n",
       "  </tbody>\n",
       "</table>\n",
       "</div>"
      ],
      "text/plain": [
       "   Month  HR Incidents\n",
       "1  March             7\n",
       "0  April             8\n",
       "2    May            11"
      ]
     },
     "execution_count": 509,
     "metadata": {},
     "output_type": "execute_result"
    }
   ],
   "source": [
    "hr_summary.head()"
   ]
  },
  {
   "cell_type": "markdown",
   "metadata": {},
   "source": [
    "## Horizontal concat \n"
   ]
  },
  {
   "cell_type": "code",
   "execution_count": 510,
   "metadata": {},
   "outputs": [],
   "source": [
    "summary_df = pd.concat([sales_summary, billing_summary, supply_summary, hr_summary], axis=1).\\\n",
    "                T.drop_duplicates().T"
   ]
  },
  {
   "cell_type": "code",
   "execution_count": 511,
   "metadata": {},
   "outputs": [
    {
     "data": {
      "text/html": [
       "<div>\n",
       "<style scoped>\n",
       "    .dataframe tbody tr th:only-of-type {\n",
       "        vertical-align: middle;\n",
       "    }\n",
       "\n",
       "    .dataframe tbody tr th {\n",
       "        vertical-align: top;\n",
       "    }\n",
       "\n",
       "    .dataframe thead th {\n",
       "        text-align: right;\n",
       "    }\n",
       "</style>\n",
       "<table border=\"1\" class=\"dataframe\">\n",
       "  <thead>\n",
       "    <tr style=\"text-align: right;\">\n",
       "      <th></th>\n",
       "      <th>Month</th>\n",
       "      <th>Sales Amount</th>\n",
       "      <th>Sales Commission</th>\n",
       "      <th>Amount Billed</th>\n",
       "      <th>Amount Paid</th>\n",
       "      <th>Outstanding Balance</th>\n",
       "      <th>Supply - Incoming</th>\n",
       "      <th>Supply - Outgoing</th>\n",
       "      <th>Supply - On-Hand</th>\n",
       "      <th>HR Incidents</th>\n",
       "    </tr>\n",
       "  </thead>\n",
       "  <tbody>\n",
       "    <tr>\n",
       "      <th>1</th>\n",
       "      <td>March</td>\n",
       "      <td>125625</td>\n",
       "      <td>18843.8</td>\n",
       "      <td>82912</td>\n",
       "      <td>69587</td>\n",
       "      <td>13325</td>\n",
       "      <td>1400</td>\n",
       "      <td>1225</td>\n",
       "      <td>150</td>\n",
       "      <td>7</td>\n",
       "    </tr>\n",
       "    <tr>\n",
       "      <th>0</th>\n",
       "      <td>April</td>\n",
       "      <td>92575</td>\n",
       "      <td>13886.2</td>\n",
       "      <td>61100</td>\n",
       "      <td>59800</td>\n",
       "      <td>1300</td>\n",
       "      <td>1200</td>\n",
       "      <td>1150</td>\n",
       "      <td>325</td>\n",
       "      <td>8</td>\n",
       "    </tr>\n",
       "    <tr>\n",
       "      <th>2</th>\n",
       "      <td>May</td>\n",
       "      <td>73250</td>\n",
       "      <td>10987.5</td>\n",
       "      <td>48345</td>\n",
       "      <td>45980</td>\n",
       "      <td>2365</td>\n",
       "      <td>1075</td>\n",
       "      <td>1225</td>\n",
       "      <td>375</td>\n",
       "      <td>11</td>\n",
       "    </tr>\n",
       "  </tbody>\n",
       "</table>\n",
       "</div>"
      ],
      "text/plain": [
       "   Month Sales Amount Sales Commission Amount Billed Amount Paid  \\\n",
       "1  March       125625          18843.8         82912       69587   \n",
       "0  April        92575          13886.2         61100       59800   \n",
       "2    May        73250          10987.5         48345       45980   \n",
       "\n",
       "  Outstanding Balance Supply - Incoming Supply - Outgoing Supply - On-Hand  \\\n",
       "1               13325              1400              1225              150   \n",
       "0                1300              1200              1150              325   \n",
       "2                2365              1075              1225              375   \n",
       "\n",
       "  HR Incidents  \n",
       "1            7  \n",
       "0            8  \n",
       "2           11  "
      ]
     },
     "execution_count": 511,
     "metadata": {},
     "output_type": "execute_result"
    }
   ],
   "source": [
    "summary_df.head()"
   ]
  },
  {
   "cell_type": "code",
   "execution_count": 512,
   "metadata": {},
   "outputs": [
    {
     "name": "stdout",
     "output_type": "stream",
     "text": [
      "<class 'pandas.core.frame.DataFrame'>\n",
      "Int64Index: 3 entries, 1 to 2\n",
      "Data columns (total 10 columns):\n",
      " #   Column               Non-Null Count  Dtype \n",
      "---  ------               --------------  ----- \n",
      " 0   Month                3 non-null      object\n",
      " 1   Sales Amount         3 non-null      object\n",
      " 2   Sales Commission     3 non-null      object\n",
      " 3   Amount Billed        3 non-null      object\n",
      " 4   Amount Paid          3 non-null      object\n",
      " 5   Outstanding Balance  3 non-null      object\n",
      " 6   Supply - Incoming    3 non-null      object\n",
      " 7   Supply - Outgoing    3 non-null      object\n",
      " 8   Supply - On-Hand     3 non-null      object\n",
      " 9   HR Incidents         3 non-null      object\n",
      "dtypes: object(10)\n",
      "memory usage: 344.0+ bytes\n"
     ]
    }
   ],
   "source": [
    "summary_df.info() #all objects "
   ]
  },
  {
   "cell_type": "code",
   "execution_count": 513,
   "metadata": {},
   "outputs": [],
   "source": [
    "cols = summary_df.columns"
   ]
  },
  {
   "cell_type": "code",
   "execution_count": 514,
   "metadata": {},
   "outputs": [],
   "source": [
    "# Convert the columns to a Numeric type\n",
    "summary_df[cols] = summary_df[cols].apply(pd.to_numeric, errors='ignore')"
   ]
  },
  {
   "cell_type": "code",
   "execution_count": 515,
   "metadata": {},
   "outputs": [
    {
     "name": "stdout",
     "output_type": "stream",
     "text": [
      "<class 'pandas.core.frame.DataFrame'>\n",
      "Int64Index: 3 entries, 1 to 2\n",
      "Data columns (total 10 columns):\n",
      " #   Column               Non-Null Count  Dtype  \n",
      "---  ------               --------------  -----  \n",
      " 0   Month                3 non-null      object \n",
      " 1   Sales Amount         3 non-null      int64  \n",
      " 2   Sales Commission     3 non-null      float64\n",
      " 3   Amount Billed        3 non-null      int64  \n",
      " 4   Amount Paid          3 non-null      int64  \n",
      " 5   Outstanding Balance  3 non-null      int64  \n",
      " 6   Supply - Incoming    3 non-null      int64  \n",
      " 7   Supply - Outgoing    3 non-null      int64  \n",
      " 8   Supply - On-Hand     3 non-null      int64  \n",
      " 9   HR Incidents         3 non-null      int64  \n",
      "dtypes: float64(1), int64(8), object(1)\n",
      "memory usage: 344.0+ bytes\n"
     ]
    }
   ],
   "source": [
    "# Verify the type conversion worked\n",
    "summary_df.info()"
   ]
  },
  {
   "cell_type": "code",
   "execution_count": 516,
   "metadata": {},
   "outputs": [],
   "source": [
    "# Set 'Month' as the index\n",
    "summary_df.set_index('Month', inplace=True)\n",
    "\n",
    "\n",
    "\n"
   ]
  },
  {
   "cell_type": "code",
   "execution_count": 517,
   "metadata": {},
   "outputs": [
    {
     "data": {
      "text/html": [
       "<div>\n",
       "<style scoped>\n",
       "    .dataframe tbody tr th:only-of-type {\n",
       "        vertical-align: middle;\n",
       "    }\n",
       "\n",
       "    .dataframe tbody tr th {\n",
       "        vertical-align: top;\n",
       "    }\n",
       "\n",
       "    .dataframe thead th {\n",
       "        text-align: right;\n",
       "    }\n",
       "</style>\n",
       "<table border=\"1\" class=\"dataframe\">\n",
       "  <thead>\n",
       "    <tr style=\"text-align: right;\">\n",
       "      <th></th>\n",
       "      <th>Sales Amount</th>\n",
       "      <th>Sales Commission</th>\n",
       "      <th>Amount Billed</th>\n",
       "      <th>Amount Paid</th>\n",
       "      <th>Outstanding Balance</th>\n",
       "      <th>Supply - Incoming</th>\n",
       "      <th>Supply - Outgoing</th>\n",
       "      <th>Supply - On-Hand</th>\n",
       "      <th>HR Incidents</th>\n",
       "    </tr>\n",
       "    <tr>\n",
       "      <th>Month</th>\n",
       "      <th></th>\n",
       "      <th></th>\n",
       "      <th></th>\n",
       "      <th></th>\n",
       "      <th></th>\n",
       "      <th></th>\n",
       "      <th></th>\n",
       "      <th></th>\n",
       "      <th></th>\n",
       "    </tr>\n",
       "  </thead>\n",
       "  <tbody>\n",
       "    <tr>\n",
       "      <th>March</th>\n",
       "      <td>125625</td>\n",
       "      <td>18843.75</td>\n",
       "      <td>82912</td>\n",
       "      <td>69587</td>\n",
       "      <td>13325</td>\n",
       "      <td>1400</td>\n",
       "      <td>1225</td>\n",
       "      <td>150</td>\n",
       "      <td>7</td>\n",
       "    </tr>\n",
       "    <tr>\n",
       "      <th>April</th>\n",
       "      <td>92575</td>\n",
       "      <td>13886.25</td>\n",
       "      <td>61100</td>\n",
       "      <td>59800</td>\n",
       "      <td>1300</td>\n",
       "      <td>1200</td>\n",
       "      <td>1150</td>\n",
       "      <td>325</td>\n",
       "      <td>8</td>\n",
       "    </tr>\n",
       "    <tr>\n",
       "      <th>May</th>\n",
       "      <td>73250</td>\n",
       "      <td>10987.50</td>\n",
       "      <td>48345</td>\n",
       "      <td>45980</td>\n",
       "      <td>2365</td>\n",
       "      <td>1075</td>\n",
       "      <td>1225</td>\n",
       "      <td>375</td>\n",
       "      <td>11</td>\n",
       "    </tr>\n",
       "  </tbody>\n",
       "</table>\n",
       "</div>"
      ],
      "text/plain": [
       "       Sales Amount  Sales Commission  Amount Billed  Amount Paid  \\\n",
       "Month                                                               \n",
       "March        125625          18843.75          82912        69587   \n",
       "April         92575          13886.25          61100        59800   \n",
       "May           73250          10987.50          48345        45980   \n",
       "\n",
       "       Outstanding Balance  Supply - Incoming  Supply - Outgoing  \\\n",
       "Month                                                              \n",
       "March                13325               1400               1225   \n",
       "April                 1300               1200               1150   \n",
       "May                   2365               1075               1225   \n",
       "\n",
       "       Supply - On-Hand  HR Incidents  \n",
       "Month                                  \n",
       "March               150             7  \n",
       "April               325             8  \n",
       "May                 375            11  "
      ]
     },
     "execution_count": 517,
     "metadata": {},
     "output_type": "execute_result"
    }
   ],
   "source": [
    "summary_df.head()"
   ]
  },
  {
   "cell_type": "code",
   "execution_count": 518,
   "metadata": {},
   "outputs": [],
   "source": [
    "# Create a 'Total' row\n",
    "summary_df.loc[\"Total\"] = summary_df.sum()"
   ]
  },
  {
   "cell_type": "code",
   "execution_count": 519,
   "metadata": {},
   "outputs": [
    {
     "data": {
      "text/html": [
       "<div>\n",
       "<style scoped>\n",
       "    .dataframe tbody tr th:only-of-type {\n",
       "        vertical-align: middle;\n",
       "    }\n",
       "\n",
       "    .dataframe tbody tr th {\n",
       "        vertical-align: top;\n",
       "    }\n",
       "\n",
       "    .dataframe thead th {\n",
       "        text-align: right;\n",
       "    }\n",
       "</style>\n",
       "<table border=\"1\" class=\"dataframe\">\n",
       "  <thead>\n",
       "    <tr style=\"text-align: right;\">\n",
       "      <th></th>\n",
       "      <th>Sales Amount</th>\n",
       "      <th>Sales Commission</th>\n",
       "      <th>Amount Billed</th>\n",
       "      <th>Amount Paid</th>\n",
       "      <th>Outstanding Balance</th>\n",
       "      <th>Supply - Incoming</th>\n",
       "      <th>Supply - Outgoing</th>\n",
       "      <th>Supply - On-Hand</th>\n",
       "      <th>HR Incidents</th>\n",
       "    </tr>\n",
       "    <tr>\n",
       "      <th>Month</th>\n",
       "      <th></th>\n",
       "      <th></th>\n",
       "      <th></th>\n",
       "      <th></th>\n",
       "      <th></th>\n",
       "      <th></th>\n",
       "      <th></th>\n",
       "      <th></th>\n",
       "      <th></th>\n",
       "    </tr>\n",
       "  </thead>\n",
       "  <tbody>\n",
       "    <tr>\n",
       "      <th>March</th>\n",
       "      <td>125625.0</td>\n",
       "      <td>18843.75</td>\n",
       "      <td>82912.0</td>\n",
       "      <td>69587.0</td>\n",
       "      <td>13325.0</td>\n",
       "      <td>1400.0</td>\n",
       "      <td>1225.0</td>\n",
       "      <td>150.0</td>\n",
       "      <td>7.0</td>\n",
       "    </tr>\n",
       "    <tr>\n",
       "      <th>April</th>\n",
       "      <td>92575.0</td>\n",
       "      <td>13886.25</td>\n",
       "      <td>61100.0</td>\n",
       "      <td>59800.0</td>\n",
       "      <td>1300.0</td>\n",
       "      <td>1200.0</td>\n",
       "      <td>1150.0</td>\n",
       "      <td>325.0</td>\n",
       "      <td>8.0</td>\n",
       "    </tr>\n",
       "    <tr>\n",
       "      <th>May</th>\n",
       "      <td>73250.0</td>\n",
       "      <td>10987.50</td>\n",
       "      <td>48345.0</td>\n",
       "      <td>45980.0</td>\n",
       "      <td>2365.0</td>\n",
       "      <td>1075.0</td>\n",
       "      <td>1225.0</td>\n",
       "      <td>375.0</td>\n",
       "      <td>11.0</td>\n",
       "    </tr>\n",
       "    <tr>\n",
       "      <th>Total</th>\n",
       "      <td>291450.0</td>\n",
       "      <td>43717.50</td>\n",
       "      <td>192357.0</td>\n",
       "      <td>175367.0</td>\n",
       "      <td>16990.0</td>\n",
       "      <td>3675.0</td>\n",
       "      <td>3600.0</td>\n",
       "      <td>850.0</td>\n",
       "      <td>26.0</td>\n",
       "    </tr>\n",
       "  </tbody>\n",
       "</table>\n",
       "</div>"
      ],
      "text/plain": [
       "       Sales Amount  Sales Commission  Amount Billed  Amount Paid  \\\n",
       "Month                                                               \n",
       "March      125625.0          18843.75        82912.0      69587.0   \n",
       "April       92575.0          13886.25        61100.0      59800.0   \n",
       "May         73250.0          10987.50        48345.0      45980.0   \n",
       "Total      291450.0          43717.50       192357.0     175367.0   \n",
       "\n",
       "       Outstanding Balance  Supply - Incoming  Supply - Outgoing  \\\n",
       "Month                                                              \n",
       "March              13325.0             1400.0             1225.0   \n",
       "April               1300.0             1200.0             1150.0   \n",
       "May                 2365.0             1075.0             1225.0   \n",
       "Total              16990.0             3675.0             3600.0   \n",
       "\n",
       "       Supply - On-Hand  HR Incidents  \n",
       "Month                                  \n",
       "March             150.0           7.0  \n",
       "April             325.0           8.0  \n",
       "May               375.0          11.0  \n",
       "Total             850.0          26.0  "
      ]
     },
     "execution_count": 519,
     "metadata": {},
     "output_type": "execute_result"
    }
   ],
   "source": [
    "summary_df.head()"
   ]
  },
  {
   "cell_type": "code",
   "execution_count": 520,
   "metadata": {},
   "outputs": [
    {
     "data": {
      "text/html": [
       "<div>\n",
       "<style scoped>\n",
       "    .dataframe tbody tr th:only-of-type {\n",
       "        vertical-align: middle;\n",
       "    }\n",
       "\n",
       "    .dataframe tbody tr th {\n",
       "        vertical-align: top;\n",
       "    }\n",
       "\n",
       "    .dataframe thead th {\n",
       "        text-align: right;\n",
       "    }\n",
       "</style>\n",
       "<table border=\"1\" class=\"dataframe\">\n",
       "  <thead>\n",
       "    <tr style=\"text-align: right;\">\n",
       "      <th></th>\n",
       "      <th>Sales Amount</th>\n",
       "      <th>Sales Commission</th>\n",
       "      <th>Amount Billed</th>\n",
       "      <th>Amount Paid</th>\n",
       "      <th>Outstanding Balance</th>\n",
       "      <th>Supply - Incoming</th>\n",
       "      <th>Supply - Outgoing</th>\n",
       "      <th>Supply - On-Hand</th>\n",
       "      <th>HR Incidents</th>\n",
       "    </tr>\n",
       "    <tr>\n",
       "      <th>Month</th>\n",
       "      <th></th>\n",
       "      <th></th>\n",
       "      <th></th>\n",
       "      <th></th>\n",
       "      <th></th>\n",
       "      <th></th>\n",
       "      <th></th>\n",
       "      <th></th>\n",
       "      <th></th>\n",
       "    </tr>\n",
       "  </thead>\n",
       "  <tbody>\n",
       "    <tr>\n",
       "      <th>March</th>\n",
       "      <td>125625.0</td>\n",
       "      <td>18843.75</td>\n",
       "      <td>82912.0</td>\n",
       "      <td>69587.0</td>\n",
       "      <td>13325.0</td>\n",
       "      <td>1400.0</td>\n",
       "      <td>1225.0</td>\n",
       "      <td>150.0</td>\n",
       "      <td>7.0</td>\n",
       "    </tr>\n",
       "    <tr>\n",
       "      <th>April</th>\n",
       "      <td>92575.0</td>\n",
       "      <td>13886.25</td>\n",
       "      <td>61100.0</td>\n",
       "      <td>59800.0</td>\n",
       "      <td>1300.0</td>\n",
       "      <td>1200.0</td>\n",
       "      <td>1150.0</td>\n",
       "      <td>325.0</td>\n",
       "      <td>8.0</td>\n",
       "    </tr>\n",
       "    <tr>\n",
       "      <th>May</th>\n",
       "      <td>73250.0</td>\n",
       "      <td>10987.50</td>\n",
       "      <td>48345.0</td>\n",
       "      <td>45980.0</td>\n",
       "      <td>2365.0</td>\n",
       "      <td>1075.0</td>\n",
       "      <td>1225.0</td>\n",
       "      <td>375.0</td>\n",
       "      <td>11.0</td>\n",
       "    </tr>\n",
       "    <tr>\n",
       "      <th>Total</th>\n",
       "      <td>291450.0</td>\n",
       "      <td>43717.50</td>\n",
       "      <td>192357.0</td>\n",
       "      <td>175367.0</td>\n",
       "      <td>16990.0</td>\n",
       "      <td>3675.0</td>\n",
       "      <td>3600.0</td>\n",
       "      <td>850.0</td>\n",
       "      <td>26.0</td>\n",
       "    </tr>\n",
       "  </tbody>\n",
       "</table>\n",
       "</div>"
      ],
      "text/plain": [
       "       Sales Amount  Sales Commission  Amount Billed  Amount Paid  \\\n",
       "Month                                                               \n",
       "March      125625.0          18843.75        82912.0      69587.0   \n",
       "April       92575.0          13886.25        61100.0      59800.0   \n",
       "May         73250.0          10987.50        48345.0      45980.0   \n",
       "Total      291450.0          43717.50       192357.0     175367.0   \n",
       "\n",
       "       Outstanding Balance  Supply - Incoming  Supply - Outgoing  \\\n",
       "Month                                                              \n",
       "March              13325.0             1400.0             1225.0   \n",
       "April               1300.0             1200.0             1150.0   \n",
       "May                 2365.0             1075.0             1225.0   \n",
       "Total              16990.0             3675.0             3600.0   \n",
       "\n",
       "       Supply - On-Hand  HR Incidents  \n",
       "Month                                  \n",
       "March             150.0           7.0  \n",
       "April             325.0           8.0  \n",
       "May               375.0          11.0  \n",
       "Total             850.0          26.0  "
      ]
     },
     "execution_count": 520,
     "metadata": {},
     "output_type": "execute_result"
    }
   ],
   "source": [
    "# Now let's preview our data\n",
    "summary_df.head()"
   ]
  },
  {
   "cell_type": "code",
   "execution_count": 521,
   "metadata": {},
   "outputs": [],
   "source": [
    "# Reset the index\n",
    "summary_df.reset_index(inplace=True)"
   ]
  },
  {
   "cell_type": "code",
   "execution_count": 522,
   "metadata": {},
   "outputs": [
    {
     "data": {
      "text/html": [
       "<div>\n",
       "<style scoped>\n",
       "    .dataframe tbody tr th:only-of-type {\n",
       "        vertical-align: middle;\n",
       "    }\n",
       "\n",
       "    .dataframe tbody tr th {\n",
       "        vertical-align: top;\n",
       "    }\n",
       "\n",
       "    .dataframe thead th {\n",
       "        text-align: right;\n",
       "    }\n",
       "</style>\n",
       "<table border=\"1\" class=\"dataframe\">\n",
       "  <thead>\n",
       "    <tr style=\"text-align: right;\">\n",
       "      <th></th>\n",
       "      <th>Month</th>\n",
       "      <th>Sales Amount</th>\n",
       "      <th>Sales Commission</th>\n",
       "      <th>Amount Billed</th>\n",
       "      <th>Amount Paid</th>\n",
       "      <th>Outstanding Balance</th>\n",
       "      <th>Supply - Incoming</th>\n",
       "      <th>Supply - Outgoing</th>\n",
       "      <th>Supply - On-Hand</th>\n",
       "      <th>HR Incidents</th>\n",
       "    </tr>\n",
       "  </thead>\n",
       "  <tbody>\n",
       "    <tr>\n",
       "      <th>0</th>\n",
       "      <td>March</td>\n",
       "      <td>125625.0</td>\n",
       "      <td>18843.75</td>\n",
       "      <td>82912.0</td>\n",
       "      <td>69587.0</td>\n",
       "      <td>13325.0</td>\n",
       "      <td>1400.0</td>\n",
       "      <td>1225.0</td>\n",
       "      <td>150.0</td>\n",
       "      <td>7.0</td>\n",
       "    </tr>\n",
       "    <tr>\n",
       "      <th>1</th>\n",
       "      <td>April</td>\n",
       "      <td>92575.0</td>\n",
       "      <td>13886.25</td>\n",
       "      <td>61100.0</td>\n",
       "      <td>59800.0</td>\n",
       "      <td>1300.0</td>\n",
       "      <td>1200.0</td>\n",
       "      <td>1150.0</td>\n",
       "      <td>325.0</td>\n",
       "      <td>8.0</td>\n",
       "    </tr>\n",
       "    <tr>\n",
       "      <th>2</th>\n",
       "      <td>May</td>\n",
       "      <td>73250.0</td>\n",
       "      <td>10987.50</td>\n",
       "      <td>48345.0</td>\n",
       "      <td>45980.0</td>\n",
       "      <td>2365.0</td>\n",
       "      <td>1075.0</td>\n",
       "      <td>1225.0</td>\n",
       "      <td>375.0</td>\n",
       "      <td>11.0</td>\n",
       "    </tr>\n",
       "    <tr>\n",
       "      <th>3</th>\n",
       "      <td>Total</td>\n",
       "      <td>291450.0</td>\n",
       "      <td>43717.50</td>\n",
       "      <td>192357.0</td>\n",
       "      <td>175367.0</td>\n",
       "      <td>16990.0</td>\n",
       "      <td>3675.0</td>\n",
       "      <td>3600.0</td>\n",
       "      <td>850.0</td>\n",
       "      <td>26.0</td>\n",
       "    </tr>\n",
       "  </tbody>\n",
       "</table>\n",
       "</div>"
      ],
      "text/plain": [
       "   Month  Sales Amount  Sales Commission  Amount Billed  Amount Paid  \\\n",
       "0  March      125625.0          18843.75        82912.0      69587.0   \n",
       "1  April       92575.0          13886.25        61100.0      59800.0   \n",
       "2    May       73250.0          10987.50        48345.0      45980.0   \n",
       "3  Total      291450.0          43717.50       192357.0     175367.0   \n",
       "\n",
       "   Outstanding Balance  Supply - Incoming  Supply - Outgoing  \\\n",
       "0              13325.0             1400.0             1225.0   \n",
       "1               1300.0             1200.0             1150.0   \n",
       "2               2365.0             1075.0             1225.0   \n",
       "3              16990.0             3675.0             3600.0   \n",
       "\n",
       "   Supply - On-Hand  HR Incidents  \n",
       "0             150.0           7.0  \n",
       "1             325.0           8.0  \n",
       "2             375.0          11.0  \n",
       "3             850.0          26.0  "
      ]
     },
     "execution_count": 522,
     "metadata": {},
     "output_type": "execute_result"
    }
   ],
   "source": [
    "summary_df.head()"
   ]
  },
  {
   "cell_type": "markdown",
   "metadata": {},
   "source": [
    "## Write out Excel \n",
    "formatting.. "
   ]
  },
  {
   "cell_type": "code",
   "execution_count": 531,
   "metadata": {},
   "outputs": [],
   "source": [
    "output_file = os.path.join('..', 'data', 'Quarterly Report.xlsx')\n",
    "writer = pd.ExcelWriter(output_file, engine='xlsxwriter')\n",
    "workbook = writer.book"
   ]
  },
  {
   "cell_type": "code",
   "execution_count": 532,
   "metadata": {},
   "outputs": [],
   "source": [
    "# Define the format for our header:\n",
    "title_format = workbook.add_format({\n",
    "    'bold': True, \n",
    "    'align': 'center', \n",
    "    'valign': 'top',\n",
    "    'fg_color': '#4472C1',\n",
    "    'font_color': 'white',\n",
    "    'font_size': 16,\n",
    "})\n",
    "\n",
    "header_format = workbook.add_format({\n",
    "    'bold': True,\n",
    "    'align': 'center',\n",
    "    'valign': 'top',\n",
    "    'fg_color': '#4472C1',\n",
    "    'font_color': 'white',\n",
    "    'font_size': 12,\n",
    "})\n",
    "\n",
    "# Define the subheader format:\n",
    "subheader_format = workbook.add_format({\n",
    "            'bold': False,\n",
    "            'align': 'center',\n",
    "            'valign': 'top',\n",
    "            'fg_color': '#8EA9DB',\n",
    "            'font_color': 'black',\n",
    "            'text_wrap': 1,\n",
    "            'border': 1})\n",
    "\n",
    "# Define the format for our numbers:\n",
    "number_format = workbook.add_format({'num_format': '#,##0'})\n",
    "accounting_format = workbook.add_format({'num_format': '$#,##0'})"
   ]
  },
  {
   "cell_type": "code",
   "execution_count": 533,
   "metadata": {},
   "outputs": [],
   "source": [
    "# Get the column number for month\n",
    "month_column = list(summary_df.columns).index('Month')\n",
    "\n",
    "# Get the column numbers for accounting columns\n",
    "accounting_start = list(summary_df.columns).index('Sales Amount')\n",
    "accounting_end = list(summary_df.columns).index('Outstanding Balance')\n",
    "\n",
    "# Get the number column numbers\n",
    "num_start = list(summary_df.columns).index('Supply - Incoming')\n",
    "num_end = list(summary_df.columns).index('HR Incidents')"
   ]
  },
  {
   "cell_type": "code",
   "execution_count": 534,
   "metadata": {},
   "outputs": [
    {
     "data": {
      "text/plain": [
       "0"
      ]
     },
     "execution_count": 534,
     "metadata": {},
     "output_type": "execute_result"
    }
   ],
   "source": [
    "# Set the column formats\n",
    "\n",
    "# Month Column\n",
    "worksheet.set_column(month_column, month_column, 14, None)\n",
    "\n",
    "# Accounting Columns\n",
    "worksheet.set_column(accounting_start, accounting_end, 14, accounting_format)\n",
    "\n",
    "# Number Columns\n",
    "worksheet.set_column(num_start, num_end, 14, number_format)"
   ]
  },
  {
   "cell_type": "code",
   "execution_count": 535,
   "metadata": {},
   "outputs": [],
   "source": [
    "# Writing the Headers\n",
    "worksheet.merge_range(0, 0, 0, len(summary_df.columns)-1, 'Dunder Mifflin Scranton', title_format)\n",
    "worksheet.merge_range(1, 0, 1, len(summary_df.columns)-1, 'Quarterly Summary', subheader_format)"
   ]
  },
  {
   "cell_type": "markdown",
   "metadata": {},
   "source": [
    "## Charting "
   ]
  },
  {
   "cell_type": "code",
   "execution_count": 543,
   "metadata": {},
   "outputs": [],
   "source": [
    "chart_columns = ['Sales Amount', 'Amount Billed', 'Amount Paid']\n",
    "category_column = 0\n",
    "first_row = 3\n",
    "last_row = 5"
   ]
  },
  {
   "cell_type": "code",
   "execution_count": 544,
   "metadata": {},
   "outputs": [],
   "source": [
    "simple_chart = workbook.add_chart({'type': 'column'})"
   ]
  },
  {
   "cell_type": "code",
   "execution_count": 545,
   "metadata": {},
   "outputs": [],
   "source": [
    "# Remember, for categories and values the order is [sheetname, first_row, first_col, last_row, last_col]\n",
    "for col in chart_columns:\n",
    "    # Get the column number of the data we want to add\n",
    "    col_num = list(summary_df.columns).index(col)\n",
    "    # Add the series\n",
    "    simple_chart.add_series({\n",
    "        'name': col,\n",
    "        'categories': [sheet, first_row, category_column, last_row, category_column],\n",
    "        'values': [sheet, first_row, col_num, last_row, col_num]\n",
    "    })"
   ]
  },
  {
   "cell_type": "code",
   "execution_count": 546,
   "metadata": {},
   "outputs": [],
   "source": [
    "# Set the chart title\n",
    "simple_chart.set_title({'name': 'Simple Bar Chart'})"
   ]
  },
  {
   "cell_type": "code",
   "execution_count": 547,
   "metadata": {},
   "outputs": [],
   "source": [
    "worksheet.insert_chart('A9', simple_chart)"
   ]
  },
  {
   "cell_type": "code",
   "execution_count": 548,
   "metadata": {},
   "outputs": [],
   "source": [
    "# Save the file\n",
    "writer.save()"
   ]
  },
  {
   "cell_type": "markdown",
   "metadata": {},
   "source": [
    "## Permutations "
   ]
  },
  {
   "cell_type": "code",
   "execution_count": 153,
   "metadata": {},
   "outputs": [],
   "source": [
    "# Function to print permutations of string \n",
    "# This function takes three parameters: \n",
    "# 1. String \n",
    "# 2. Starting index of the string \n",
    "# 3. Ending index of the string. \n",
    "def permute(a, l, r): \n",
    "    if l==r: \n",
    "        print(a) \n",
    "    else: \n",
    "        for i in range(l,r+1): \n",
    "            a[l], a[i] = a[i], a[l] \n",
    "            permute(a, l+1, r) \n",
    "            a[l], a[i] = a[i], a[l] # backtrack "
   ]
  },
  {
   "cell_type": "code",
   "execution_count": 154,
   "metadata": {},
   "outputs": [
    {
     "name": "stdout",
     "output_type": "stream",
     "text": [
      "['A', 'B', 'C']\n",
      "['A', 'C', 'B']\n",
      "['B', 'A', 'C']\n",
      "['B', 'C', 'A']\n",
      "['C', 'B', 'A']\n",
      "['C', 'A', 'B']\n"
     ]
    }
   ],
   "source": [
    "string = \"ABC\"\n",
    "n = len(string) \n",
    "a = list(string) \n",
    "permute(a, 0, n-1) "
   ]
  },
  {
   "cell_type": "code",
   "execution_count": 155,
   "metadata": {},
   "outputs": [
    {
     "name": "stdout",
     "output_type": "stream",
     "text": [
      "['A', 'B']\n",
      "['B', 'A']\n"
     ]
    }
   ],
   "source": [
    "string = \"AB\"\n",
    "n = len(string) \n",
    "a = list(string) \n",
    "permute(a, 0, n-1) "
   ]
  },
  {
   "cell_type": "code",
   "execution_count": 156,
   "metadata": {},
   "outputs": [
    {
     "data": {
      "text/plain": [
       "<itertools.permutations at 0x222bcabf768>"
      ]
     },
     "execution_count": 156,
     "metadata": {},
     "output_type": "execute_result"
    }
   ],
   "source": [
    "import itertools\n",
    "itertools.permutations([1,2,3])"
   ]
  },
  {
   "cell_type": "code",
   "execution_count": 163,
   "metadata": {},
   "outputs": [
    {
     "name": "stdout",
     "output_type": "stream",
     "text": [
      "[(1, 2, 3), (1, 3, 2), (2, 1, 3), (2, 3, 1), (3, 1, 2), (3, 2, 1)]\n"
     ]
    }
   ],
   "source": [
    "p = list(itertools.permutations([1,2,3], 3))\n",
    "print(p)"
   ]
  },
  {
   "cell_type": "code",
   "execution_count": 201,
   "metadata": {},
   "outputs": [
    {
     "name": "stdout",
     "output_type": "stream",
     "text": [
      "1\n",
      "4\n",
      "12\n",
      "24\n",
      "24\n",
      "64\n"
     ]
    }
   ],
   "source": [
    "perm_list = []\n",
    "count = 0 \n",
    "for x in range(5):\n",
    "    #print(x)\n",
    "    p = list(itertools.permutations([1,2,3,4], x))\n",
    "    p_len = len(p)\n",
    "    print(p_len)\n",
    "    count = count +p_len \n",
    "    perm_list.append(p)\n",
    "print(count-1)"
   ]
  },
  {
   "cell_type": "code",
   "execution_count": 202,
   "metadata": {},
   "outputs": [
    {
     "data": {
      "text/plain": [
       "[(1, 2, 3, 4),\n",
       " (1, 2, 4, 3),\n",
       " (1, 3, 2, 4),\n",
       " (1, 3, 4, 2),\n",
       " (1, 4, 2, 3),\n",
       " (1, 4, 3, 2),\n",
       " (2, 1, 3, 4),\n",
       " (2, 1, 4, 3),\n",
       " (2, 3, 1, 4),\n",
       " (2, 3, 4, 1),\n",
       " (2, 4, 1, 3),\n",
       " (2, 4, 3, 1),\n",
       " (3, 1, 2, 4),\n",
       " (3, 1, 4, 2),\n",
       " (3, 2, 1, 4),\n",
       " (3, 2, 4, 1),\n",
       " (3, 4, 1, 2),\n",
       " (3, 4, 2, 1),\n",
       " (4, 1, 2, 3),\n",
       " (4, 1, 3, 2),\n",
       " (4, 2, 1, 3),\n",
       " (4, 2, 3, 1),\n",
       " (4, 3, 1, 2),\n",
       " (4, 3, 2, 1)]"
      ]
     },
     "execution_count": 202,
     "metadata": {},
     "output_type": "execute_result"
    }
   ],
   "source": [
    "p"
   ]
  },
  {
   "cell_type": "code",
   "execution_count": 203,
   "metadata": {},
   "outputs": [
    {
     "data": {
      "text/plain": [
       "24"
      ]
     },
     "execution_count": 203,
     "metadata": {},
     "output_type": "execute_result"
    }
   ],
   "source": [
    "p_len"
   ]
  },
  {
   "cell_type": "code",
   "execution_count": 205,
   "metadata": {},
   "outputs": [],
   "source": [
    "p = list(itertools.permutations([1,2,3,4], 4))\n",
    "perm_list.append(p)"
   ]
  },
  {
   "cell_type": "code",
   "execution_count": 209,
   "metadata": {},
   "outputs": [
    {
     "data": {
      "text/plain": [
       "[[()],\n",
       " [(1,), (2,), (3,), (4,)],\n",
       " [(1, 2),\n",
       "  (1, 3),\n",
       "  (1, 4),\n",
       "  (2, 1),\n",
       "  (2, 3),\n",
       "  (2, 4),\n",
       "  (3, 1),\n",
       "  (3, 2),\n",
       "  (3, 4),\n",
       "  (4, 1),\n",
       "  (4, 2),\n",
       "  (4, 3)]]"
      ]
     },
     "execution_count": 209,
     "metadata": {},
     "output_type": "execute_result"
    }
   ],
   "source": [
    "perm_list[:3]\n"
   ]
  },
  {
   "cell_type": "code",
   "execution_count": 216,
   "metadata": {},
   "outputs": [
    {
     "data": {
      "text/plain": [
       "24"
      ]
     },
     "execution_count": 216,
     "metadata": {},
     "output_type": "execute_result"
    }
   ],
   "source": [
    "len(perm_list[3])"
   ]
  },
  {
   "cell_type": "code",
   "execution_count": 217,
   "metadata": {},
   "outputs": [],
   "source": [
    "from functools import reduce # only in Python 3"
   ]
  },
  {
   "cell_type": "code",
   "execution_count": 218,
   "metadata": {},
   "outputs": [
    {
     "data": {
      "text/plain": [
       "[1, 2, 3, 4, 5, 6, 7, 8, 9]"
      ]
     },
     "execution_count": 218,
     "metadata": {},
     "output_type": "execute_result"
    }
   ],
   "source": [
    "import operator\n",
    "l = [[1,2,3],[4,5,6], [7], [8,9]]\n",
    "reduce(operator.concat, l)\n",
    "[1, 2, 3, 4, 5, 6, 7, 8, 9]"
   ]
  },
  {
   "cell_type": "code",
   "execution_count": 220,
   "metadata": {},
   "outputs": [
    {
     "data": {
      "text/plain": [
       "[(),\n",
       " (1,),\n",
       " (2,),\n",
       " (3,),\n",
       " (4,),\n",
       " (1, 2),\n",
       " (1, 3),\n",
       " (1, 4),\n",
       " (2, 1),\n",
       " (2, 3),\n",
       " (2, 4),\n",
       " (3, 1),\n",
       " (3, 2),\n",
       " (3, 4),\n",
       " (4, 1),\n",
       " (4, 2),\n",
       " (4, 3),\n",
       " (1, 2, 3),\n",
       " (1, 2, 4),\n",
       " (1, 3, 2),\n",
       " (1, 3, 4),\n",
       " (1, 4, 2),\n",
       " (1, 4, 3),\n",
       " (2, 1, 3),\n",
       " (2, 1, 4),\n",
       " (2, 3, 1),\n",
       " (2, 3, 4),\n",
       " (2, 4, 1),\n",
       " (2, 4, 3),\n",
       " (3, 1, 2),\n",
       " (3, 1, 4),\n",
       " (3, 2, 1),\n",
       " (3, 2, 4),\n",
       " (3, 4, 1),\n",
       " (3, 4, 2),\n",
       " (4, 1, 2),\n",
       " (4, 1, 3),\n",
       " (4, 2, 1),\n",
       " (4, 2, 3),\n",
       " (4, 3, 1),\n",
       " (4, 3, 2),\n",
       " (1, 2, 3, 4),\n",
       " (1, 2, 4, 3),\n",
       " (1, 3, 2, 4),\n",
       " (1, 3, 4, 2),\n",
       " (1, 4, 2, 3),\n",
       " (1, 4, 3, 2),\n",
       " (2, 1, 3, 4),\n",
       " (2, 1, 4, 3),\n",
       " (2, 3, 1, 4),\n",
       " (2, 3, 4, 1),\n",
       " (2, 4, 1, 3),\n",
       " (2, 4, 3, 1),\n",
       " (3, 1, 2, 4),\n",
       " (3, 1, 4, 2),\n",
       " (3, 2, 1, 4),\n",
       " (3, 2, 4, 1),\n",
       " (3, 4, 1, 2),\n",
       " (3, 4, 2, 1),\n",
       " (4, 1, 2, 3),\n",
       " (4, 1, 3, 2),\n",
       " (4, 2, 1, 3),\n",
       " (4, 2, 3, 1),\n",
       " (4, 3, 1, 2),\n",
       " (4, 3, 2, 1),\n",
       " (1,),\n",
       " (2,),\n",
       " (3,),\n",
       " (1, 2, 3, 4),\n",
       " (1, 2, 4, 3),\n",
       " (1, 3, 2, 4),\n",
       " (1, 3, 4, 2),\n",
       " (1, 4, 2, 3),\n",
       " (1, 4, 3, 2),\n",
       " (2, 1, 3, 4),\n",
       " (2, 1, 4, 3),\n",
       " (2, 3, 1, 4),\n",
       " (2, 3, 4, 1),\n",
       " (2, 4, 1, 3),\n",
       " (2, 4, 3, 1),\n",
       " (3, 1, 2, 4),\n",
       " (3, 1, 4, 2),\n",
       " (3, 2, 1, 4),\n",
       " (3, 2, 4, 1),\n",
       " (3, 4, 1, 2),\n",
       " (3, 4, 2, 1),\n",
       " (4, 1, 2, 3),\n",
       " (4, 1, 3, 2),\n",
       " (4, 2, 1, 3),\n",
       " (4, 2, 3, 1),\n",
       " (4, 3, 1, 2),\n",
       " (4, 3, 2, 1)]"
      ]
     },
     "execution_count": 220,
     "metadata": {},
     "output_type": "execute_result"
    }
   ],
   "source": [
    "flatten_perms = reduce(operator.concat, perm_list)\n",
    "flatten_perms"
   ]
  },
  {
   "cell_type": "code",
   "execution_count": 221,
   "metadata": {},
   "outputs": [
    {
     "data": {
      "text/plain": [
       "92"
      ]
     },
     "execution_count": 221,
     "metadata": {},
     "output_type": "execute_result"
    }
   ],
   "source": [
    "len(flatten_perms)"
   ]
  },
  {
   "cell_type": "code",
   "execution_count": 242,
   "metadata": {},
   "outputs": [],
   "source": [
    "c =['Workers','Clients']  #2 example columns "
   ]
  },
  {
   "cell_type": "code",
   "execution_count": 245,
   "metadata": {},
   "outputs": [
    {
     "data": {
      "text/plain": [
       "[('Workers',), ('Clients',)]"
      ]
     },
     "execution_count": 245,
     "metadata": {},
     "output_type": "execute_result"
    }
   ],
   "source": [
    "list(itertools.permutations(c, 1))"
   ]
  },
  {
   "cell_type": "code",
   "execution_count": 246,
   "metadata": {},
   "outputs": [
    {
     "data": {
      "text/plain": [
       "[('Workers', 'Clients'), ('Clients', 'Workers')]"
      ]
     },
     "execution_count": 246,
     "metadata": {},
     "output_type": "execute_result"
    }
   ],
   "source": [
    "list(itertools.permutations(c, 2))"
   ]
  },
  {
   "cell_type": "code",
   "execution_count": 239,
   "metadata": {},
   "outputs": [],
   "source": [
    "cc =['Workers','Clients','Region','Warehouse']  #4 example columns "
   ]
  },
  {
   "cell_type": "code",
   "execution_count": 241,
   "metadata": {},
   "outputs": [
    {
     "data": {
      "text/plain": [
       "[('Workers',), ('Clients',), ('Region',), ('Warehouse',)]"
      ]
     },
     "execution_count": 241,
     "metadata": {},
     "output_type": "execute_result"
    }
   ],
   "source": [
    "list(itertools.permutations(cc, 1))"
   ]
  },
  {
   "cell_type": "code",
   "execution_count": 235,
   "metadata": {},
   "outputs": [
    {
     "data": {
      "text/plain": [
       "[('Workers', 'Clients'),\n",
       " ('Workers', 'Region'),\n",
       " ('Workers', 'Warehouse'),\n",
       " ('Clients', 'Workers'),\n",
       " ('Clients', 'Region'),\n",
       " ('Clients', 'Warehouse'),\n",
       " ('Region', 'Workers'),\n",
       " ('Region', 'Clients'),\n",
       " ('Region', 'Warehouse'),\n",
       " ('Warehouse', 'Workers'),\n",
       " ('Warehouse', 'Clients'),\n",
       " ('Warehouse', 'Region')]"
      ]
     },
     "execution_count": 235,
     "metadata": {},
     "output_type": "execute_result"
    }
   ],
   "source": [
    "list(itertools.permutations(cc, 2))"
   ]
  },
  {
   "cell_type": "code",
   "execution_count": 237,
   "metadata": {},
   "outputs": [
    {
     "data": {
      "text/plain": [
       "[('Workers', 'Clients', 'Region'),\n",
       " ('Workers', 'Clients', 'Warehouse'),\n",
       " ('Workers', 'Region', 'Clients'),\n",
       " ('Workers', 'Region', 'Warehouse'),\n",
       " ('Workers', 'Warehouse', 'Clients'),\n",
       " ('Workers', 'Warehouse', 'Region'),\n",
       " ('Clients', 'Workers', 'Region'),\n",
       " ('Clients', 'Workers', 'Warehouse'),\n",
       " ('Clients', 'Region', 'Workers'),\n",
       " ('Clients', 'Region', 'Warehouse'),\n",
       " ('Clients', 'Warehouse', 'Workers'),\n",
       " ('Clients', 'Warehouse', 'Region'),\n",
       " ('Region', 'Workers', 'Clients'),\n",
       " ('Region', 'Workers', 'Warehouse'),\n",
       " ('Region', 'Clients', 'Workers'),\n",
       " ('Region', 'Clients', 'Warehouse'),\n",
       " ('Region', 'Warehouse', 'Workers'),\n",
       " ('Region', 'Warehouse', 'Clients'),\n",
       " ('Warehouse', 'Workers', 'Clients'),\n",
       " ('Warehouse', 'Workers', 'Region'),\n",
       " ('Warehouse', 'Clients', 'Workers'),\n",
       " ('Warehouse', 'Clients', 'Region'),\n",
       " ('Warehouse', 'Region', 'Workers'),\n",
       " ('Warehouse', 'Region', 'Clients')]"
      ]
     },
     "execution_count": 237,
     "metadata": {},
     "output_type": "execute_result"
    }
   ],
   "source": [
    "list(itertools.permutations(cc, 3))"
   ]
  },
  {
   "cell_type": "code",
   "execution_count": 238,
   "metadata": {
    "scrolled": true
   },
   "outputs": [
    {
     "data": {
      "text/plain": [
       "[('Workers', 'Clients', 'Region', 'Warehouse'),\n",
       " ('Workers', 'Clients', 'Warehouse', 'Region'),\n",
       " ('Workers', 'Region', 'Clients', 'Warehouse'),\n",
       " ('Workers', 'Region', 'Warehouse', 'Clients'),\n",
       " ('Workers', 'Warehouse', 'Clients', 'Region'),\n",
       " ('Workers', 'Warehouse', 'Region', 'Clients'),\n",
       " ('Clients', 'Workers', 'Region', 'Warehouse'),\n",
       " ('Clients', 'Workers', 'Warehouse', 'Region'),\n",
       " ('Clients', 'Region', 'Workers', 'Warehouse'),\n",
       " ('Clients', 'Region', 'Warehouse', 'Workers'),\n",
       " ('Clients', 'Warehouse', 'Workers', 'Region'),\n",
       " ('Clients', 'Warehouse', 'Region', 'Workers'),\n",
       " ('Region', 'Workers', 'Clients', 'Warehouse'),\n",
       " ('Region', 'Workers', 'Warehouse', 'Clients'),\n",
       " ('Region', 'Clients', 'Workers', 'Warehouse'),\n",
       " ('Region', 'Clients', 'Warehouse', 'Workers'),\n",
       " ('Region', 'Warehouse', 'Workers', 'Clients'),\n",
       " ('Region', 'Warehouse', 'Clients', 'Workers'),\n",
       " ('Warehouse', 'Workers', 'Clients', 'Region'),\n",
       " ('Warehouse', 'Workers', 'Region', 'Clients'),\n",
       " ('Warehouse', 'Clients', 'Workers', 'Region'),\n",
       " ('Warehouse', 'Clients', 'Region', 'Workers'),\n",
       " ('Warehouse', 'Region', 'Workers', 'Clients'),\n",
       " ('Warehouse', 'Region', 'Clients', 'Workers')]"
      ]
     },
     "execution_count": 238,
     "metadata": {},
     "output_type": "execute_result"
    }
   ],
   "source": [
    "list(itertools.permutations(cc, 4))"
   ]
  },
  {
   "cell_type": "code",
   "execution_count": 260,
   "metadata": {},
   "outputs": [
    {
     "name": "stdout",
     "output_type": "stream",
     "text": [
      "['Workers', 'Clients', 'Region', 'Warehouse']\n",
      "1\n",
      "[[()]]\n",
      "4\n",
      "[[()], [('Workers',), ('Clients',), ('Region',), ('Warehouse',)]]\n",
      "12\n",
      "[[()], [('Workers',), ('Clients',), ('Region',), ('Warehouse',)], [('Workers', 'Clients'), ('Workers', 'Region'), ('Workers', 'Warehouse'), ('Clients', 'Workers'), ('Clients', 'Region'), ('Clients', 'Warehouse'), ('Region', 'Workers'), ('Region', 'Clients'), ('Region', 'Warehouse'), ('Warehouse', 'Workers'), ('Warehouse', 'Clients'), ('Warehouse', 'Region')]]\n",
      "24\n",
      "[[()], [('Workers',), ('Clients',), ('Region',), ('Warehouse',)], [('Workers', 'Clients'), ('Workers', 'Region'), ('Workers', 'Warehouse'), ('Clients', 'Workers'), ('Clients', 'Region'), ('Clients', 'Warehouse'), ('Region', 'Workers'), ('Region', 'Clients'), ('Region', 'Warehouse'), ('Warehouse', 'Workers'), ('Warehouse', 'Clients'), ('Warehouse', 'Region')], [('Workers', 'Clients', 'Region'), ('Workers', 'Clients', 'Warehouse'), ('Workers', 'Region', 'Clients'), ('Workers', 'Region', 'Warehouse'), ('Workers', 'Warehouse', 'Clients'), ('Workers', 'Warehouse', 'Region'), ('Clients', 'Workers', 'Region'), ('Clients', 'Workers', 'Warehouse'), ('Clients', 'Region', 'Workers'), ('Clients', 'Region', 'Warehouse'), ('Clients', 'Warehouse', 'Workers'), ('Clients', 'Warehouse', 'Region'), ('Region', 'Workers', 'Clients'), ('Region', 'Workers', 'Warehouse'), ('Region', 'Clients', 'Workers'), ('Region', 'Clients', 'Warehouse'), ('Region', 'Warehouse', 'Workers'), ('Region', 'Warehouse', 'Clients'), ('Warehouse', 'Workers', 'Clients'), ('Warehouse', 'Workers', 'Region'), ('Warehouse', 'Clients', 'Workers'), ('Warehouse', 'Clients', 'Region'), ('Warehouse', 'Region', 'Workers'), ('Warehouse', 'Region', 'Clients')]]\n",
      "24\n",
      "[[()], [('Workers',), ('Clients',), ('Region',), ('Warehouse',)], [('Workers', 'Clients'), ('Workers', 'Region'), ('Workers', 'Warehouse'), ('Clients', 'Workers'), ('Clients', 'Region'), ('Clients', 'Warehouse'), ('Region', 'Workers'), ('Region', 'Clients'), ('Region', 'Warehouse'), ('Warehouse', 'Workers'), ('Warehouse', 'Clients'), ('Warehouse', 'Region')], [('Workers', 'Clients', 'Region'), ('Workers', 'Clients', 'Warehouse'), ('Workers', 'Region', 'Clients'), ('Workers', 'Region', 'Warehouse'), ('Workers', 'Warehouse', 'Clients'), ('Workers', 'Warehouse', 'Region'), ('Clients', 'Workers', 'Region'), ('Clients', 'Workers', 'Warehouse'), ('Clients', 'Region', 'Workers'), ('Clients', 'Region', 'Warehouse'), ('Clients', 'Warehouse', 'Workers'), ('Clients', 'Warehouse', 'Region'), ('Region', 'Workers', 'Clients'), ('Region', 'Workers', 'Warehouse'), ('Region', 'Clients', 'Workers'), ('Region', 'Clients', 'Warehouse'), ('Region', 'Warehouse', 'Workers'), ('Region', 'Warehouse', 'Clients'), ('Warehouse', 'Workers', 'Clients'), ('Warehouse', 'Workers', 'Region'), ('Warehouse', 'Clients', 'Workers'), ('Warehouse', 'Clients', 'Region'), ('Warehouse', 'Region', 'Workers'), ('Warehouse', 'Region', 'Clients')], [('Workers', 'Clients', 'Region', 'Warehouse'), ('Workers', 'Clients', 'Warehouse', 'Region'), ('Workers', 'Region', 'Clients', 'Warehouse'), ('Workers', 'Region', 'Warehouse', 'Clients'), ('Workers', 'Warehouse', 'Clients', 'Region'), ('Workers', 'Warehouse', 'Region', 'Clients'), ('Clients', 'Workers', 'Region', 'Warehouse'), ('Clients', 'Workers', 'Warehouse', 'Region'), ('Clients', 'Region', 'Workers', 'Warehouse'), ('Clients', 'Region', 'Warehouse', 'Workers'), ('Clients', 'Warehouse', 'Workers', 'Region'), ('Clients', 'Warehouse', 'Region', 'Workers'), ('Region', 'Workers', 'Clients', 'Warehouse'), ('Region', 'Workers', 'Warehouse', 'Clients'), ('Region', 'Clients', 'Workers', 'Warehouse'), ('Region', 'Clients', 'Warehouse', 'Workers'), ('Region', 'Warehouse', 'Workers', 'Clients'), ('Region', 'Warehouse', 'Clients', 'Workers'), ('Warehouse', 'Workers', 'Clients', 'Region'), ('Warehouse', 'Workers', 'Region', 'Clients'), ('Warehouse', 'Clients', 'Workers', 'Region'), ('Warehouse', 'Clients', 'Region', 'Workers'), ('Warehouse', 'Region', 'Workers', 'Clients'), ('Warehouse', 'Region', 'Clients', 'Workers')]]\n",
      "64\n"
     ]
    }
   ],
   "source": [
    "perm_list = []\n",
    "print(cc)\n",
    "count = 0 \n",
    "for x in range(5):\n",
    "    #print(x)\n",
    "    p = list(itertools.permutations(cc, x))\n",
    "    p_len = len(p)\n",
    "    print(p_len)\n",
    "    count = count +p_len \n",
    "    perm_list.append(p)\n",
    "    print(perm_list)\n",
    "print(count-1)"
   ]
  },
  {
   "cell_type": "code",
   "execution_count": 253,
   "metadata": {},
   "outputs": [
    {
     "data": {
      "text/plain": [
       "4"
      ]
     },
     "execution_count": 253,
     "metadata": {},
     "output_type": "execute_result"
    }
   ],
   "source": [
    "len(perm_list)"
   ]
  },
  {
   "cell_type": "code",
   "execution_count": 265,
   "metadata": {},
   "outputs": [
    {
     "data": {
      "text/plain": [
       "[('Workers', 'Clients'),\n",
       " ('Workers', 'Region'),\n",
       " ('Workers', 'Warehouse'),\n",
       " ('Clients', 'Workers'),\n",
       " ('Clients', 'Region'),\n",
       " ('Clients', 'Warehouse'),\n",
       " ('Region', 'Workers'),\n",
       " ('Region', 'Clients'),\n",
       " ('Region', 'Warehouse'),\n",
       " ('Warehouse', 'Workers'),\n",
       " ('Warehouse', 'Clients'),\n",
       " ('Warehouse', 'Region')]"
      ]
     },
     "execution_count": 265,
     "metadata": {},
     "output_type": "execute_result"
    }
   ],
   "source": [
    "perm_list[2]\n"
   ]
  },
  {
   "cell_type": "code",
   "execution_count": 268,
   "metadata": {},
   "outputs": [
    {
     "name": "stdout",
     "output_type": "stream",
     "text": [
      "0\n",
      "1\n",
      "2\n",
      "3\n",
      "4\n",
      "5\n",
      "6\n",
      "7\n",
      "8\n",
      "9\n",
      "10\n",
      "11\n"
     ]
    }
   ],
   "source": [
    "\n",
    "for n in range(len(perm_list[2])):\n",
    "    print(n,)"
   ]
  },
  {
   "cell_type": "code",
   "execution_count": 269,
   "metadata": {},
   "outputs": [
    {
     "data": {
      "text/plain": [
       "('Workers', 'Warehouse')"
      ]
     },
     "execution_count": 269,
     "metadata": {},
     "output_type": "execute_result"
    }
   ],
   "source": [
    "perm_list[2][2]"
   ]
  },
  {
   "cell_type": "code",
   "execution_count": 277,
   "metadata": {},
   "outputs": [
    {
     "name": "stdout",
     "output_type": "stream",
     "text": [
      "('Workers', 'Clients') <class 'tuple'> ['Workers', 'Clients']\n",
      "('Workers', 'Region') <class 'tuple'> ['Workers', 'Region']\n",
      "('Workers', 'Warehouse') <class 'tuple'> ['Workers', 'Warehouse']\n",
      "('Clients', 'Workers') <class 'tuple'> ['Clients', 'Workers']\n",
      "('Clients', 'Region') <class 'tuple'> ['Clients', 'Region']\n",
      "('Clients', 'Warehouse') <class 'tuple'> ['Clients', 'Warehouse']\n",
      "('Region', 'Workers') <class 'tuple'> ['Region', 'Workers']\n",
      "('Region', 'Clients') <class 'tuple'> ['Region', 'Clients']\n",
      "('Region', 'Warehouse') <class 'tuple'> ['Region', 'Warehouse']\n",
      "('Warehouse', 'Workers') <class 'tuple'> ['Warehouse', 'Workers']\n",
      "('Warehouse', 'Clients') <class 'tuple'> ['Warehouse', 'Clients']\n",
      "('Warehouse', 'Region') <class 'tuple'> ['Warehouse', 'Region']\n"
     ]
    }
   ],
   "source": [
    "\n",
    "for n in range(len(perm_list[2])):\n",
    "    v = perm_list[2][n]\n",
    "    print(v, type(v), list(v))\n",
    "        "
   ]
  },
  {
   "cell_type": "code",
   "execution_count": 279,
   "metadata": {},
   "outputs": [
    {
     "data": {
      "text/plain": [
       "(('Warehouse', 'Region'), tuple)"
      ]
     },
     "execution_count": 279,
     "metadata": {},
     "output_type": "execute_result"
    }
   ],
   "source": [
    "v, type(v)"
   ]
  },
  {
   "cell_type": "code",
   "execution_count": 283,
   "metadata": {},
   "outputs": [
    {
     "data": {
      "text/plain": [
       "2"
      ]
     },
     "execution_count": 283,
     "metadata": {},
     "output_type": "execute_result"
    }
   ],
   "source": [
    "############################\n",
    "# do it with our example \n",
    "############################\n",
    "vv = ['Worker', 'Client']\n",
    "list(itertools.permutations(vv, 2))\n",
    "len(vv)\n",
    "\n"
   ]
  },
  {
   "cell_type": "code",
   "execution_count": 303,
   "metadata": {},
   "outputs": [
    {
     "name": "stdout",
     "output_type": "stream",
     "text": [
      "1\n",
      "[[()]]\n",
      "2\n",
      "[[()], [('Worker',), ('Client',)]]\n",
      "2\n",
      "[[()], [('Worker',), ('Client',)], [('Worker', 'Client'), ('Client', 'Worker')]]\n",
      "4\n"
     ]
    }
   ],
   "source": [
    "count = 0 \n",
    "perm_list = []\n",
    "perms = len(vv)+1 \n",
    "\n",
    "for x in range(perms):\n",
    "    #print(x)\n",
    "    p = list(itertools.permutations(vv, x))\n",
    "    p_len = len(p)\n",
    "    print(p_len)\n",
    "    count = count +p_len \n",
    "    perm_list.append(p)\n",
    "    print(perm_list)\n",
    "print(count-1)"
   ]
  },
  {
   "cell_type": "code",
   "execution_count": 304,
   "metadata": {},
   "outputs": [
    {
     "data": {
      "text/plain": [
       "[[()],\n",
       " [('Worker',), ('Client',)],\n",
       " [('Worker', 'Client'), ('Client', 'Worker')]]"
      ]
     },
     "execution_count": 304,
     "metadata": {},
     "output_type": "execute_result"
    }
   ],
   "source": [
    "perm_list"
   ]
  },
  {
   "cell_type": "code",
   "execution_count": 305,
   "metadata": {},
   "outputs": [
    {
     "data": {
      "text/plain": [
       "[()]"
      ]
     },
     "execution_count": 305,
     "metadata": {},
     "output_type": "execute_result"
    }
   ],
   "source": [
    "perm_list[0]"
   ]
  },
  {
   "cell_type": "code",
   "execution_count": 306,
   "metadata": {},
   "outputs": [],
   "source": [
    "del perm_list[0]"
   ]
  },
  {
   "cell_type": "code",
   "execution_count": 307,
   "metadata": {},
   "outputs": [
    {
     "data": {
      "text/plain": [
       "[[('Worker',), ('Client',)], [('Worker', 'Client'), ('Client', 'Worker')]]"
      ]
     },
     "execution_count": 307,
     "metadata": {},
     "output_type": "execute_result"
    }
   ],
   "source": [
    "perm_list"
   ]
  },
  {
   "cell_type": "code",
   "execution_count": 308,
   "metadata": {},
   "outputs": [
    {
     "data": {
      "text/plain": [
       "[('Worker',), ('Client',)]"
      ]
     },
     "execution_count": 308,
     "metadata": {},
     "output_type": "execute_result"
    }
   ],
   "source": [
    "perm_list[0]"
   ]
  },
  {
   "cell_type": "code",
   "execution_count": 300,
   "metadata": {},
   "outputs": [
    {
     "data": {
      "text/plain": [
       "2"
      ]
     },
     "execution_count": 300,
     "metadata": {},
     "output_type": "execute_result"
    }
   ],
   "source": [
    "len(perm_list[0])"
   ]
  },
  {
   "cell_type": "code",
   "execution_count": 320,
   "metadata": {},
   "outputs": [
    {
     "name": "stdout",
     "output_type": "stream",
     "text": [
      "{'Month': 'sum', 'Qty': 'sum', 'Amt': 'sum', 'Commission': 'sum'}\n",
      "('Worker',)\n",
      "as list: ['Worker']\n",
      "('Client',)\n",
      "as list: ['Client']\n",
      "('Worker', 'Client')\n",
      "as list: ['Worker', 'Client']\n",
      "('Client', 'Worker')\n",
      "as list: ['Client', 'Worker']\n"
     ]
    }
   ],
   "source": [
    "#using df from above \n",
    "print(agg_var)\n",
    "for r in range(len(perm_list)):\n",
    "    for n in range(len(perm_list[r])):\n",
    "        print(perm_list[r][n])\n",
    "        g_var = list(perm_list[r][n])\n",
    "        print('as list:', g_var)"
   ]
  },
  {
   "cell_type": "code",
   "execution_count": 321,
   "metadata": {},
   "outputs": [
    {
     "data": {
      "text/html": [
       "<div>\n",
       "<style scoped>\n",
       "    .dataframe tbody tr th:only-of-type {\n",
       "        vertical-align: middle;\n",
       "    }\n",
       "\n",
       "    .dataframe tbody tr th {\n",
       "        vertical-align: top;\n",
       "    }\n",
       "\n",
       "    .dataframe thead th {\n",
       "        text-align: right;\n",
       "    }\n",
       "</style>\n",
       "<table border=\"1\" class=\"dataframe\">\n",
       "  <thead>\n",
       "    <tr style=\"text-align: right;\">\n",
       "      <th></th>\n",
       "      <th></th>\n",
       "      <th>Month</th>\n",
       "      <th>Qty</th>\n",
       "      <th>Amt</th>\n",
       "      <th>Commission</th>\n",
       "    </tr>\n",
       "    <tr>\n",
       "      <th>Client</th>\n",
       "      <th>Worker</th>\n",
       "      <th></th>\n",
       "      <th></th>\n",
       "      <th></th>\n",
       "      <th></th>\n",
       "    </tr>\n",
       "  </thead>\n",
       "  <tbody>\n",
       "    <tr>\n",
       "      <th>Apex Technology</th>\n",
       "      <th>Dwight</th>\n",
       "      <td>12</td>\n",
       "      <td>1700</td>\n",
       "      <td>8500</td>\n",
       "      <td>1275.0</td>\n",
       "    </tr>\n",
       "    <tr>\n",
       "      <th>Athleap</th>\n",
       "      <th>Jim</th>\n",
       "      <td>4</td>\n",
       "      <td>350</td>\n",
       "      <td>1750</td>\n",
       "      <td>262.5</td>\n",
       "    </tr>\n",
       "    <tr>\n",
       "      <th>Barbara Allen</th>\n",
       "      <th>Andy</th>\n",
       "      <td>12</td>\n",
       "      <td>1300</td>\n",
       "      <td>6500</td>\n",
       "      <td>975.0</td>\n",
       "    </tr>\n",
       "  </tbody>\n",
       "</table>\n",
       "</div>"
      ],
      "text/plain": [
       "                        Month   Qty   Amt  Commission\n",
       "Client          Worker                               \n",
       "Apex Technology Dwight     12  1700  8500      1275.0\n",
       "Athleap         Jim         4   350  1750       262.5\n",
       "Barbara Allen   Andy       12  1300  6500       975.0"
      ]
     },
     "execution_count": 321,
     "metadata": {},
     "output_type": "execute_result"
    }
   ],
   "source": [
    "df.groupby(g_var).agg( agg_var ).iloc[:3]"
   ]
  },
  {
   "cell_type": "code",
   "execution_count": 323,
   "metadata": {},
   "outputs": [
    {
     "name": "stdout",
     "output_type": "stream",
     "text": [
      "{'Month': 'sum', 'Qty': 'sum', 'Amt': 'sum', 'Commission': 'sum'}\n",
      "('Worker',)\n",
      "as list: ['Worker']\n",
      "        Month    Qty    Amt  Commission\n",
      "Worker                                 \n",
      "Andy       42   3450  17250      2587.5\n",
      "Dwight     72  15700  78500     11775.0\n",
      "Jim        52  16750  83750     12562.5\n",
      "('Client',)\n",
      "as list: ['Client']\n",
      "                 Month   Qty   Amt  Commission\n",
      "Client                                        \n",
      "Apex Technology     12  1700  8500      1275.0\n",
      "Athleap              4   350  1750       262.5\n",
      "Barbara Allen       12  1300  6500       975.0\n",
      "('Worker', 'Client')\n",
      "as list: ['Worker', 'Client']\n",
      "                      Month   Qty   Amt  Commission\n",
      "Worker Client                                      \n",
      "Andy   Barbara Allen     12  1300  6500       975.0\n",
      "       Bob Vance          8  1300  6500       975.0\n",
      "       Cornell            9   100   500        75.0\n",
      "('Client', 'Worker')\n",
      "as list: ['Client', 'Worker']\n",
      "                        Month   Qty   Amt  Commission\n",
      "Client          Worker                               \n",
      "Apex Technology Dwight     12  1700  8500      1275.0\n",
      "Athleap         Jim         4   350  1750       262.5\n",
      "Barbara Allen   Andy       12  1300  6500       975.0\n"
     ]
    }
   ],
   "source": [
    "#using df from above \n",
    "print(agg_var)\n",
    "for r in range(len(perm_list)):\n",
    "    for n in range(len(perm_list[r])):\n",
    "        print(perm_list[r][n])\n",
    "        g_var = list(perm_list[r][n])\n",
    "        print('as list:', g_var)\n",
    "        print(df.groupby(g_var).agg( agg_var ).iloc[:3])\n",
    "        "
   ]
  },
  {
   "cell_type": "code",
   "execution_count": 325,
   "metadata": {},
   "outputs": [
    {
     "name": "stdout",
     "output_type": "stream",
     "text": [
      "{'Month': 'sum', 'Qty': 'sum', 'Amt': 'sum', 'Commission': 'sum'}\n",
      "        Month    Qty    Amt  Commission\n",
      "Worker                                 \n",
      "Andy       42   3450  17250      2587.5\n",
      "Dwight     72  15700  78500     11775.0\n",
      "Jim        52  16750  83750     12562.5\n",
      "                 Month   Qty   Amt  Commission\n",
      "Client                                        \n",
      "Apex Technology     12  1700  8500      1275.0\n",
      "Athleap              4   350  1750       262.5\n",
      "Barbara Allen       12  1300  6500       975.0\n",
      "                      Month   Qty   Amt  Commission\n",
      "Worker Client                                      \n",
      "Andy   Barbara Allen     12  1300  6500       975.0\n",
      "       Bob Vance          8  1300  6500       975.0\n",
      "       Cornell            9   100   500        75.0\n",
      "                        Month   Qty   Amt  Commission\n",
      "Client          Worker                               \n",
      "Apex Technology Dwight     12  1700  8500      1275.0\n",
      "Athleap         Jim         4   350  1750       262.5\n",
      "Barbara Allen   Andy       12  1300  6500       975.0\n"
     ]
    }
   ],
   "source": [
    " \n",
    "#using df from above \n",
    "print(agg_var)\n",
    "for r in range(len(perm_list)):\n",
    "    for n in range(len(perm_list[r])):\n",
    "#        print(perm_list[r][n])\n",
    "        g_var = list(perm_list[r][n])\n",
    "#        print('as list:', g_var)\n",
    "        print(df.groupby(g_var).agg( agg_var ).iloc[:3])"
   ]
  },
  {
   "cell_type": "code",
   "execution_count": 326,
   "metadata": {},
   "outputs": [
    {
     "data": {
      "text/plain": [
       "[[('Worker',), ('Client',)], [('Worker', 'Client'), ('Client', 'Worker')]]"
      ]
     },
     "execution_count": 326,
     "metadata": {},
     "output_type": "execute_result"
    }
   ],
   "source": [
    "perm_list"
   ]
  },
  {
   "cell_type": "markdown",
   "metadata": {},
   "source": [
    "## Make file names for each set of features "
   ]
  },
  {
   "cell_type": "code",
   "execution_count": 332,
   "metadata": {},
   "outputs": [
    {
     "data": {
      "text/plain": [
       "'Worker'"
      ]
     },
     "execution_count": 332,
     "metadata": {},
     "output_type": "execute_result"
    }
   ],
   "source": [
    "g_var[1]"
   ]
  },
  {
   "cell_type": "code",
   "execution_count": 334,
   "metadata": {},
   "outputs": [
    {
     "data": {
      "text/plain": [
       "'sales_Worker.xlxs'"
      ]
     },
     "execution_count": 334,
     "metadata": {},
     "output_type": "execute_result"
    }
   ],
   "source": [
    "fileperm = 'sales_'+g_var[1]+'.xlxs'\n",
    "fileperm"
   ]
  },
  {
   "cell_type": "code",
   "execution_count": 341,
   "metadata": {},
   "outputs": [
    {
     "name": "stdout",
     "output_type": "stream",
     "text": [
      "Worker\n",
      "Client\n",
      "Client\n",
      "Worker\n"
     ]
    }
   ],
   "source": [
    "#not quite! \n",
    "for r in range(len(perm_list)):\n",
    "    for n in range(len(perm_list[r])):\n",
    "#        print(perm_list[r][n])\n",
    "        g_var = list(perm_list[r][n])\n",
    "        wb_name = g_var[r]\n",
    "        print(wb_name)"
   ]
  },
  {
   "cell_type": "code",
   "execution_count": 368,
   "metadata": {},
   "outputs": [
    {
     "name": "stdout",
     "output_type": "stream",
     "text": [
      "('Worker',)\n",
      "('Client',)\n",
      "('Worker', 'Client')\n",
      "('Client', 'Worker')\n"
     ]
    }
   ],
   "source": [
    "perm_list[0]\n",
    "for x in range(len(perm_list)):\n",
    "#    print(perm_list[x])\n",
    "    for y in range(len(perm_list[x])):\n",
    "        print(perm_list[x][y])\n"
   ]
  },
  {
   "cell_type": "code",
   "execution_count": 373,
   "metadata": {},
   "outputs": [
    {
     "data": {
      "text/plain": [
       "('Client',)"
      ]
     },
     "execution_count": 373,
     "metadata": {},
     "output_type": "execute_result"
    }
   ],
   "source": [
    "perm_list[0][1]"
   ]
  },
  {
   "cell_type": "code",
   "execution_count": 374,
   "metadata": {},
   "outputs": [
    {
     "data": {
      "text/plain": [
       "('Worker',)"
      ]
     },
     "execution_count": 374,
     "metadata": {},
     "output_type": "execute_result"
    }
   ],
   "source": [
    "perm_list[0][0]"
   ]
  },
  {
   "cell_type": "code",
   "execution_count": 375,
   "metadata": {},
   "outputs": [
    {
     "data": {
      "text/plain": [
       "[[('Worker',), ('Client',)], [('Worker', 'Client'), ('Client', 'Worker')]]"
      ]
     },
     "execution_count": 375,
     "metadata": {},
     "output_type": "execute_result"
    }
   ],
   "source": [
    "perm_list"
   ]
  },
  {
   "cell_type": "code",
   "execution_count": 376,
   "metadata": {},
   "outputs": [
    {
     "data": {
      "text/plain": [
       "('Worker', 'Client')"
      ]
     },
     "execution_count": 376,
     "metadata": {},
     "output_type": "execute_result"
    }
   ],
   "source": [
    "perm_list[1][0]"
   ]
  },
  {
   "cell_type": "code",
   "execution_count": 377,
   "metadata": {},
   "outputs": [
    {
     "data": {
      "text/plain": [
       "('Client', 'Worker')"
      ]
     },
     "execution_count": 377,
     "metadata": {},
     "output_type": "execute_result"
    }
   ],
   "source": [
    "perm_list[1][1]"
   ]
  },
  {
   "cell_type": "code",
   "execution_count": 380,
   "metadata": {},
   "outputs": [
    {
     "data": {
      "text/plain": [
       "['Client', 'Worker']"
      ]
     },
     "execution_count": 380,
     "metadata": {},
     "output_type": "execute_result"
    }
   ],
   "source": [
    " #concatenate items in list \n",
    "ct = list(perm_list[1][1]   )\n",
    "ct"
   ]
  },
  {
   "cell_type": "code",
   "execution_count": 382,
   "metadata": {},
   "outputs": [
    {
     "data": {
      "text/plain": [
       "'Client_Worker'"
      ]
     },
     "execution_count": 382,
     "metadata": {},
     "output_type": "execute_result"
    }
   ],
   "source": [
    "\"_\".join(ct)"
   ]
  },
  {
   "cell_type": "code",
   "execution_count": 387,
   "metadata": {},
   "outputs": [
    {
     "name": "stdout",
     "output_type": "stream",
     "text": [
      "Worker\n",
      "Client\n",
      "Worker_Client\n",
      "Client_Worker\n"
     ]
    }
   ],
   "source": [
    "perm_list[0]\n",
    "for x in range(len(perm_list)):\n",
    "#    print(perm_list[x])\n",
    "    for y in range(len(perm_list[x])):\n",
    "        ct = (list(perm_list[x][y]))\n",
    "        label = \"_\".join(ct)\n",
    "        print(label)"
   ]
  },
  {
   "cell_type": "code",
   "execution_count": null,
   "metadata": {},
   "outputs": [],
   "source": []
  }
 ],
 "metadata": {
  "kernelspec": {
   "display_name": "Python 3",
   "language": "python",
   "name": "python3"
  },
  "language_info": {
   "codemirror_mode": {
    "name": "ipython",
    "version": 3
   },
   "file_extension": ".py",
   "mimetype": "text/x-python",
   "name": "python",
   "nbconvert_exporter": "python",
   "pygments_lexer": "ipython3",
   "version": "3.7.4"
  }
 },
 "nbformat": 4,
 "nbformat_minor": 2
}
